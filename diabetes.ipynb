{
  "nbformat": 4,
  "nbformat_minor": 0,
  "metadata": {
    "colab": {
      "provenance": [],
      "authorship_tag": "ABX9TyMk4viuKLKHPtLd1kjO0utn",
      "include_colab_link": true
    },
    "kernelspec": {
      "name": "python3",
      "display_name": "Python 3"
    },
    "language_info": {
      "name": "python"
    }
  },
  "cells": [
    {
      "cell_type": "markdown",
      "metadata": {
        "id": "view-in-github",
        "colab_type": "text"
      },
      "source": [
        "<a href=\"https://colab.research.google.com/github/JavierPachas/diabetes/blob/main/diabetes.ipynb\" target=\"_parent\"><img src=\"https://colab.research.google.com/assets/colab-badge.svg\" alt=\"Open In Colab\"/></a>"
      ]
    },
    {
      "cell_type": "markdown",
      "source": [
        "Diabetes dataset\n",
        "\n",
        "Goal: Prediction if a diabetic patient will be readmitted to the hospital within 30 days.\n",
        "\n",
        "\n",
        "1. Exploratory data analysis (EDA).\n",
        "2. Feature engineering.\n",
        "3. Training, validation and testing samples.\n",
        "4. Modeling"
      ],
      "metadata": {
        "id": "ym61iWJIUqER"
      }
    },
    {
      "cell_type": "markdown",
      "source": [
        "# **1. Exploratory Data Analysis (EDA)**"
      ],
      "metadata": {
        "id": "SUvWS2uCzRLr"
      }
    },
    {
      "cell_type": "code",
      "source": [
        "#importing libraries\n",
        "import numpy as np\n",
        "import pandas as pd\n",
        "import matplotlib.pyplot as plt\n",
        "import seaborn as sns\n",
        "\n",
        "sns.set()\n",
        "\n",
        "from mlxtend.plotting import plot_decision_regions\n",
        "import missingno as msno\n",
        "from pandas.plotting import scatter_matrix\n",
        "\n",
        "from sklearn import metrics\n",
        "from sklearn.metrics import classification_report\n",
        "from sklearn.metrics import confusion_matrix\n",
        "from sklearn.metrics import roc_auc_score, accuracy_score, precision_score, recall_score\n",
        "\n",
        "from sklearn.preprocessing import StandardScaler\n",
        "from sklearn.model_selection import train_test_split\n",
        "from sklearn.neighbors import KNeighborsClassifier\n",
        "\n",
        "\n",
        "import pickle\n",
        "#import warnings\n",
        "#warnings.filterwarnings('ignore')\n",
        "#%matplotlib inline"
      ],
      "metadata": {
        "id": "IkzrhopfUsvT"
      },
      "execution_count": 93,
      "outputs": []
    },
    {
      "cell_type": "code",
      "source": [
        "#reading data\n",
        "url = 'https://raw.githubusercontent.com/JavierPachas/diabetes/main/diabetic_data.csv'\n",
        "#url2 = 'https://raw.githubusercontent.com/JavierPachas/diabetes/main/IDS_mapping.csv'\n",
        "diabetes_df = pd.read_csv(url)\n",
        "#read ids_mapping.csv for description of some variables such admission_type_id and disccharge_disposition_id"
      ],
      "metadata": {
        "id": "1rK061pUWpfT"
      },
      "execution_count": 5,
      "outputs": []
    },
    {
      "cell_type": "code",
      "source": [
        "diabetes_df.head()\n",
        "#weight has a question mark"
      ],
      "metadata": {
        "colab": {
          "base_uri": "https://localhost:8080/",
          "height": 360
        },
        "id": "ET4o3F-1dAi6",
        "outputId": "7e380c87-fd64-48ae-cc13-f8911a2fbbd1"
      },
      "execution_count": 6,
      "outputs": [
        {
          "output_type": "execute_result",
          "data": {
            "text/plain": [
              "   encounter_id  patient_nbr             race  gender      age weight  \\\n",
              "0       2278392      8222157        Caucasian  Female   [0-10)      ?   \n",
              "1        149190     55629189        Caucasian  Female  [10-20)      ?   \n",
              "2         64410     86047875  AfricanAmerican  Female  [20-30)      ?   \n",
              "3        500364     82442376        Caucasian    Male  [30-40)      ?   \n",
              "4         16680     42519267        Caucasian    Male  [40-50)      ?   \n",
              "\n",
              "   admission_type_id  discharge_disposition_id  admission_source_id  \\\n",
              "0                  6                        25                    1   \n",
              "1                  1                         1                    7   \n",
              "2                  1                         1                    7   \n",
              "3                  1                         1                    7   \n",
              "4                  1                         1                    7   \n",
              "\n",
              "   time_in_hospital  ... citoglipton insulin  glyburide-metformin  \\\n",
              "0                 1  ...          No      No                   No   \n",
              "1                 3  ...          No      Up                   No   \n",
              "2                 2  ...          No      No                   No   \n",
              "3                 2  ...          No      Up                   No   \n",
              "4                 1  ...          No  Steady                   No   \n",
              "\n",
              "   glipizide-metformin  glimepiride-pioglitazone  metformin-rosiglitazone  \\\n",
              "0                   No                        No                       No   \n",
              "1                   No                        No                       No   \n",
              "2                   No                        No                       No   \n",
              "3                   No                        No                       No   \n",
              "4                   No                        No                       No   \n",
              "\n",
              "   metformin-pioglitazone  change diabetesMed readmitted  \n",
              "0                      No      No          No         NO  \n",
              "1                      No      Ch         Yes        >30  \n",
              "2                      No      No         Yes         NO  \n",
              "3                      No      Ch         Yes         NO  \n",
              "4                      No      Ch         Yes         NO  \n",
              "\n",
              "[5 rows x 50 columns]"
            ],
            "text/html": [
              "\n",
              "  <div id=\"df-a0cbf6e7-899c-4333-952e-5e240d9a833c\" class=\"colab-df-container\">\n",
              "    <div>\n",
              "<style scoped>\n",
              "    .dataframe tbody tr th:only-of-type {\n",
              "        vertical-align: middle;\n",
              "    }\n",
              "\n",
              "    .dataframe tbody tr th {\n",
              "        vertical-align: top;\n",
              "    }\n",
              "\n",
              "    .dataframe thead th {\n",
              "        text-align: right;\n",
              "    }\n",
              "</style>\n",
              "<table border=\"1\" class=\"dataframe\">\n",
              "  <thead>\n",
              "    <tr style=\"text-align: right;\">\n",
              "      <th></th>\n",
              "      <th>encounter_id</th>\n",
              "      <th>patient_nbr</th>\n",
              "      <th>race</th>\n",
              "      <th>gender</th>\n",
              "      <th>age</th>\n",
              "      <th>weight</th>\n",
              "      <th>admission_type_id</th>\n",
              "      <th>discharge_disposition_id</th>\n",
              "      <th>admission_source_id</th>\n",
              "      <th>time_in_hospital</th>\n",
              "      <th>...</th>\n",
              "      <th>citoglipton</th>\n",
              "      <th>insulin</th>\n",
              "      <th>glyburide-metformin</th>\n",
              "      <th>glipizide-metformin</th>\n",
              "      <th>glimepiride-pioglitazone</th>\n",
              "      <th>metformin-rosiglitazone</th>\n",
              "      <th>metformin-pioglitazone</th>\n",
              "      <th>change</th>\n",
              "      <th>diabetesMed</th>\n",
              "      <th>readmitted</th>\n",
              "    </tr>\n",
              "  </thead>\n",
              "  <tbody>\n",
              "    <tr>\n",
              "      <th>0</th>\n",
              "      <td>2278392</td>\n",
              "      <td>8222157</td>\n",
              "      <td>Caucasian</td>\n",
              "      <td>Female</td>\n",
              "      <td>[0-10)</td>\n",
              "      <td>?</td>\n",
              "      <td>6</td>\n",
              "      <td>25</td>\n",
              "      <td>1</td>\n",
              "      <td>1</td>\n",
              "      <td>...</td>\n",
              "      <td>No</td>\n",
              "      <td>No</td>\n",
              "      <td>No</td>\n",
              "      <td>No</td>\n",
              "      <td>No</td>\n",
              "      <td>No</td>\n",
              "      <td>No</td>\n",
              "      <td>No</td>\n",
              "      <td>No</td>\n",
              "      <td>NO</td>\n",
              "    </tr>\n",
              "    <tr>\n",
              "      <th>1</th>\n",
              "      <td>149190</td>\n",
              "      <td>55629189</td>\n",
              "      <td>Caucasian</td>\n",
              "      <td>Female</td>\n",
              "      <td>[10-20)</td>\n",
              "      <td>?</td>\n",
              "      <td>1</td>\n",
              "      <td>1</td>\n",
              "      <td>7</td>\n",
              "      <td>3</td>\n",
              "      <td>...</td>\n",
              "      <td>No</td>\n",
              "      <td>Up</td>\n",
              "      <td>No</td>\n",
              "      <td>No</td>\n",
              "      <td>No</td>\n",
              "      <td>No</td>\n",
              "      <td>No</td>\n",
              "      <td>Ch</td>\n",
              "      <td>Yes</td>\n",
              "      <td>&gt;30</td>\n",
              "    </tr>\n",
              "    <tr>\n",
              "      <th>2</th>\n",
              "      <td>64410</td>\n",
              "      <td>86047875</td>\n",
              "      <td>AfricanAmerican</td>\n",
              "      <td>Female</td>\n",
              "      <td>[20-30)</td>\n",
              "      <td>?</td>\n",
              "      <td>1</td>\n",
              "      <td>1</td>\n",
              "      <td>7</td>\n",
              "      <td>2</td>\n",
              "      <td>...</td>\n",
              "      <td>No</td>\n",
              "      <td>No</td>\n",
              "      <td>No</td>\n",
              "      <td>No</td>\n",
              "      <td>No</td>\n",
              "      <td>No</td>\n",
              "      <td>No</td>\n",
              "      <td>No</td>\n",
              "      <td>Yes</td>\n",
              "      <td>NO</td>\n",
              "    </tr>\n",
              "    <tr>\n",
              "      <th>3</th>\n",
              "      <td>500364</td>\n",
              "      <td>82442376</td>\n",
              "      <td>Caucasian</td>\n",
              "      <td>Male</td>\n",
              "      <td>[30-40)</td>\n",
              "      <td>?</td>\n",
              "      <td>1</td>\n",
              "      <td>1</td>\n",
              "      <td>7</td>\n",
              "      <td>2</td>\n",
              "      <td>...</td>\n",
              "      <td>No</td>\n",
              "      <td>Up</td>\n",
              "      <td>No</td>\n",
              "      <td>No</td>\n",
              "      <td>No</td>\n",
              "      <td>No</td>\n",
              "      <td>No</td>\n",
              "      <td>Ch</td>\n",
              "      <td>Yes</td>\n",
              "      <td>NO</td>\n",
              "    </tr>\n",
              "    <tr>\n",
              "      <th>4</th>\n",
              "      <td>16680</td>\n",
              "      <td>42519267</td>\n",
              "      <td>Caucasian</td>\n",
              "      <td>Male</td>\n",
              "      <td>[40-50)</td>\n",
              "      <td>?</td>\n",
              "      <td>1</td>\n",
              "      <td>1</td>\n",
              "      <td>7</td>\n",
              "      <td>1</td>\n",
              "      <td>...</td>\n",
              "      <td>No</td>\n",
              "      <td>Steady</td>\n",
              "      <td>No</td>\n",
              "      <td>No</td>\n",
              "      <td>No</td>\n",
              "      <td>No</td>\n",
              "      <td>No</td>\n",
              "      <td>Ch</td>\n",
              "      <td>Yes</td>\n",
              "      <td>NO</td>\n",
              "    </tr>\n",
              "  </tbody>\n",
              "</table>\n",
              "<p>5 rows × 50 columns</p>\n",
              "</div>\n",
              "    <div class=\"colab-df-buttons\">\n",
              "\n",
              "  <div class=\"colab-df-container\">\n",
              "    <button class=\"colab-df-convert\" onclick=\"convertToInteractive('df-a0cbf6e7-899c-4333-952e-5e240d9a833c')\"\n",
              "            title=\"Convert this dataframe to an interactive table.\"\n",
              "            style=\"display:none;\">\n",
              "\n",
              "  <svg xmlns=\"http://www.w3.org/2000/svg\" height=\"24px\" viewBox=\"0 -960 960 960\">\n",
              "    <path d=\"M120-120v-720h720v720H120Zm60-500h600v-160H180v160Zm220 220h160v-160H400v160Zm0 220h160v-160H400v160ZM180-400h160v-160H180v160Zm440 0h160v-160H620v160ZM180-180h160v-160H180v160Zm440 0h160v-160H620v160Z\"/>\n",
              "  </svg>\n",
              "    </button>\n",
              "\n",
              "  <style>\n",
              "    .colab-df-container {\n",
              "      display:flex;\n",
              "      gap: 12px;\n",
              "    }\n",
              "\n",
              "    .colab-df-convert {\n",
              "      background-color: #E8F0FE;\n",
              "      border: none;\n",
              "      border-radius: 50%;\n",
              "      cursor: pointer;\n",
              "      display: none;\n",
              "      fill: #1967D2;\n",
              "      height: 32px;\n",
              "      padding: 0 0 0 0;\n",
              "      width: 32px;\n",
              "    }\n",
              "\n",
              "    .colab-df-convert:hover {\n",
              "      background-color: #E2EBFA;\n",
              "      box-shadow: 0px 1px 2px rgba(60, 64, 67, 0.3), 0px 1px 3px 1px rgba(60, 64, 67, 0.15);\n",
              "      fill: #174EA6;\n",
              "    }\n",
              "\n",
              "    .colab-df-buttons div {\n",
              "      margin-bottom: 4px;\n",
              "    }\n",
              "\n",
              "    [theme=dark] .colab-df-convert {\n",
              "      background-color: #3B4455;\n",
              "      fill: #D2E3FC;\n",
              "    }\n",
              "\n",
              "    [theme=dark] .colab-df-convert:hover {\n",
              "      background-color: #434B5C;\n",
              "      box-shadow: 0px 1px 3px 1px rgba(0, 0, 0, 0.15);\n",
              "      filter: drop-shadow(0px 1px 2px rgba(0, 0, 0, 0.3));\n",
              "      fill: #FFFFFF;\n",
              "    }\n",
              "  </style>\n",
              "\n",
              "    <script>\n",
              "      const buttonEl =\n",
              "        document.querySelector('#df-a0cbf6e7-899c-4333-952e-5e240d9a833c button.colab-df-convert');\n",
              "      buttonEl.style.display =\n",
              "        google.colab.kernel.accessAllowed ? 'block' : 'none';\n",
              "\n",
              "      async function convertToInteractive(key) {\n",
              "        const element = document.querySelector('#df-a0cbf6e7-899c-4333-952e-5e240d9a833c');\n",
              "        const dataTable =\n",
              "          await google.colab.kernel.invokeFunction('convertToInteractive',\n",
              "                                                    [key], {});\n",
              "        if (!dataTable) return;\n",
              "\n",
              "        const docLinkHtml = 'Like what you see? Visit the ' +\n",
              "          '<a target=\"_blank\" href=https://colab.research.google.com/notebooks/data_table.ipynb>data table notebook</a>'\n",
              "          + ' to learn more about interactive tables.';\n",
              "        element.innerHTML = '';\n",
              "        dataTable['output_type'] = 'display_data';\n",
              "        await google.colab.output.renderOutput(dataTable, element);\n",
              "        const docLink = document.createElement('div');\n",
              "        docLink.innerHTML = docLinkHtml;\n",
              "        element.appendChild(docLink);\n",
              "      }\n",
              "    </script>\n",
              "  </div>\n",
              "\n",
              "\n",
              "<div id=\"df-c936af4b-b157-42ec-921f-6cda3ee21ea0\">\n",
              "  <button class=\"colab-df-quickchart\" onclick=\"quickchart('df-c936af4b-b157-42ec-921f-6cda3ee21ea0')\"\n",
              "            title=\"Suggest charts.\"\n",
              "            style=\"display:none;\">\n",
              "\n",
              "<svg xmlns=\"http://www.w3.org/2000/svg\" height=\"24px\"viewBox=\"0 0 24 24\"\n",
              "     width=\"24px\">\n",
              "    <g>\n",
              "        <path d=\"M19 3H5c-1.1 0-2 .9-2 2v14c0 1.1.9 2 2 2h14c1.1 0 2-.9 2-2V5c0-1.1-.9-2-2-2zM9 17H7v-7h2v7zm4 0h-2V7h2v10zm4 0h-2v-4h2v4z\"/>\n",
              "    </g>\n",
              "</svg>\n",
              "  </button>\n",
              "\n",
              "<style>\n",
              "  .colab-df-quickchart {\n",
              "    background-color: #E8F0FE;\n",
              "    border: none;\n",
              "    border-radius: 50%;\n",
              "    cursor: pointer;\n",
              "    display: none;\n",
              "    fill: #1967D2;\n",
              "    height: 32px;\n",
              "    padding: 0 0 0 0;\n",
              "    width: 32px;\n",
              "  }\n",
              "\n",
              "  .colab-df-quickchart:hover {\n",
              "    background-color: #E2EBFA;\n",
              "    box-shadow: 0px 1px 2px rgba(60, 64, 67, 0.3), 0px 1px 3px 1px rgba(60, 64, 67, 0.15);\n",
              "    fill: #174EA6;\n",
              "  }\n",
              "\n",
              "  [theme=dark] .colab-df-quickchart {\n",
              "    background-color: #3B4455;\n",
              "    fill: #D2E3FC;\n",
              "  }\n",
              "\n",
              "  [theme=dark] .colab-df-quickchart:hover {\n",
              "    background-color: #434B5C;\n",
              "    box-shadow: 0px 1px 3px 1px rgba(0, 0, 0, 0.15);\n",
              "    filter: drop-shadow(0px 1px 2px rgba(0, 0, 0, 0.3));\n",
              "    fill: #FFFFFF;\n",
              "  }\n",
              "</style>\n",
              "\n",
              "  <script>\n",
              "    async function quickchart(key) {\n",
              "      const charts = await google.colab.kernel.invokeFunction(\n",
              "          'suggestCharts', [key], {});\n",
              "    }\n",
              "    (() => {\n",
              "      let quickchartButtonEl =\n",
              "        document.querySelector('#df-c936af4b-b157-42ec-921f-6cda3ee21ea0 button');\n",
              "      quickchartButtonEl.style.display =\n",
              "        google.colab.kernel.accessAllowed ? 'block' : 'none';\n",
              "    })();\n",
              "  </script>\n",
              "</div>\n",
              "    </div>\n",
              "  </div>\n"
            ]
          },
          "metadata": {},
          "execution_count": 6
        }
      ]
    },
    {
      "cell_type": "code",
      "source": [
        "diabetes_df.shape"
      ],
      "metadata": {
        "colab": {
          "base_uri": "https://localhost:8080/"
        },
        "id": "dKhcDcs22vTE",
        "outputId": "c3d77512-e92a-4998-f39f-dc9cf20a78da"
      },
      "execution_count": 7,
      "outputs": [
        {
          "output_type": "execute_result",
          "data": {
            "text/plain": [
              "(101766, 50)"
            ]
          },
          "metadata": {},
          "execution_count": 7
        }
      ]
    },
    {
      "cell_type": "code",
      "source": [
        "diabetes_df.columns"
      ],
      "metadata": {
        "colab": {
          "base_uri": "https://localhost:8080/"
        },
        "id": "BQ-IQ4F_dK8h",
        "outputId": "d4295308-0230-4daa-f413-4f5d178bc508"
      },
      "execution_count": 8,
      "outputs": [
        {
          "output_type": "execute_result",
          "data": {
            "text/plain": [
              "Index(['encounter_id', 'patient_nbr', 'race', 'gender', 'age', 'weight',\n",
              "       'admission_type_id', 'discharge_disposition_id', 'admission_source_id',\n",
              "       'time_in_hospital', 'payer_code', 'medical_specialty',\n",
              "       'num_lab_procedures', 'num_procedures', 'num_medications',\n",
              "       'number_outpatient', 'number_emergency', 'number_inpatient', 'diag_1',\n",
              "       'diag_2', 'diag_3', 'number_diagnoses', 'max_glu_serum', 'A1Cresult',\n",
              "       'metformin', 'repaglinide', 'nateglinide', 'chlorpropamide',\n",
              "       'glimepiride', 'acetohexamide', 'glipizide', 'glyburide', 'tolbutamide',\n",
              "       'pioglitazone', 'rosiglitazone', 'acarbose', 'miglitol', 'troglitazone',\n",
              "       'tolazamide', 'examide', 'citoglipton', 'insulin',\n",
              "       'glyburide-metformin', 'glipizide-metformin',\n",
              "       'glimepiride-pioglitazone', 'metformin-rosiglitazone',\n",
              "       'metformin-pioglitazone', 'change', 'diabetesMed', 'readmitted'],\n",
              "      dtype='object')"
            ]
          },
          "metadata": {},
          "execution_count": 8
        }
      ]
    },
    {
      "cell_type": "code",
      "source": [
        "diabetes_df.info()\n",
        "#it indicates that there are no null values in each column, some columns (int64) may have indeed no null values such question marks.\n",
        "#object type columns should be analyzed for null/invalid values"
      ],
      "metadata": {
        "colab": {
          "base_uri": "https://localhost:8080/"
        },
        "id": "P9jcBMYSd2NR",
        "outputId": "4392313e-8a72-445d-db09-8a13c52f9ecc"
      },
      "execution_count": 9,
      "outputs": [
        {
          "output_type": "stream",
          "name": "stdout",
          "text": [
            "<class 'pandas.core.frame.DataFrame'>\n",
            "RangeIndex: 101766 entries, 0 to 101765\n",
            "Data columns (total 50 columns):\n",
            " #   Column                    Non-Null Count   Dtype \n",
            "---  ------                    --------------   ----- \n",
            " 0   encounter_id              101766 non-null  int64 \n",
            " 1   patient_nbr               101766 non-null  int64 \n",
            " 2   race                      101766 non-null  object\n",
            " 3   gender                    101766 non-null  object\n",
            " 4   age                       101766 non-null  object\n",
            " 5   weight                    101766 non-null  object\n",
            " 6   admission_type_id         101766 non-null  int64 \n",
            " 7   discharge_disposition_id  101766 non-null  int64 \n",
            " 8   admission_source_id       101766 non-null  int64 \n",
            " 9   time_in_hospital          101766 non-null  int64 \n",
            " 10  payer_code                101766 non-null  object\n",
            " 11  medical_specialty         101766 non-null  object\n",
            " 12  num_lab_procedures        101766 non-null  int64 \n",
            " 13  num_procedures            101766 non-null  int64 \n",
            " 14  num_medications           101766 non-null  int64 \n",
            " 15  number_outpatient         101766 non-null  int64 \n",
            " 16  number_emergency          101766 non-null  int64 \n",
            " 17  number_inpatient          101766 non-null  int64 \n",
            " 18  diag_1                    101766 non-null  object\n",
            " 19  diag_2                    101766 non-null  object\n",
            " 20  diag_3                    101766 non-null  object\n",
            " 21  number_diagnoses          101766 non-null  int64 \n",
            " 22  max_glu_serum             101766 non-null  object\n",
            " 23  A1Cresult                 101766 non-null  object\n",
            " 24  metformin                 101766 non-null  object\n",
            " 25  repaglinide               101766 non-null  object\n",
            " 26  nateglinide               101766 non-null  object\n",
            " 27  chlorpropamide            101766 non-null  object\n",
            " 28  glimepiride               101766 non-null  object\n",
            " 29  acetohexamide             101766 non-null  object\n",
            " 30  glipizide                 101766 non-null  object\n",
            " 31  glyburide                 101766 non-null  object\n",
            " 32  tolbutamide               101766 non-null  object\n",
            " 33  pioglitazone              101766 non-null  object\n",
            " 34  rosiglitazone             101766 non-null  object\n",
            " 35  acarbose                  101766 non-null  object\n",
            " 36  miglitol                  101766 non-null  object\n",
            " 37  troglitazone              101766 non-null  object\n",
            " 38  tolazamide                101766 non-null  object\n",
            " 39  examide                   101766 non-null  object\n",
            " 40  citoglipton               101766 non-null  object\n",
            " 41  insulin                   101766 non-null  object\n",
            " 42  glyburide-metformin       101766 non-null  object\n",
            " 43  glipizide-metformin       101766 non-null  object\n",
            " 44  glimepiride-pioglitazone  101766 non-null  object\n",
            " 45  metformin-rosiglitazone   101766 non-null  object\n",
            " 46  metformin-pioglitazone    101766 non-null  object\n",
            " 47  change                    101766 non-null  object\n",
            " 48  diabetesMed               101766 non-null  object\n",
            " 49  readmitted                101766 non-null  object\n",
            "dtypes: int64(13), object(37)\n",
            "memory usage: 38.8+ MB\n"
          ]
        }
      ]
    },
    {
      "cell_type": "code",
      "source": [
        "diabetes_df.describe()"
      ],
      "metadata": {
        "colab": {
          "base_uri": "https://localhost:8080/",
          "height": 320
        },
        "id": "cXofsWEVeZG4",
        "outputId": "e8322219-a7fe-4300-da42-7318e6136c94"
      },
      "execution_count": 10,
      "outputs": [
        {
          "output_type": "execute_result",
          "data": {
            "text/plain": [
              "       encounter_id   patient_nbr  admission_type_id  \\\n",
              "count  1.017660e+05  1.017660e+05      101766.000000   \n",
              "mean   1.652016e+08  5.433040e+07           2.024006   \n",
              "std    1.026403e+08  3.869636e+07           1.445403   \n",
              "min    1.252200e+04  1.350000e+02           1.000000   \n",
              "25%    8.496119e+07  2.341322e+07           1.000000   \n",
              "50%    1.523890e+08  4.550514e+07           1.000000   \n",
              "75%    2.302709e+08  8.754595e+07           3.000000   \n",
              "max    4.438672e+08  1.895026e+08           8.000000   \n",
              "\n",
              "       discharge_disposition_id  admission_source_id  time_in_hospital  \\\n",
              "count             101766.000000        101766.000000     101766.000000   \n",
              "mean                   3.715642             5.754437          4.395987   \n",
              "std                    5.280166             4.064081          2.985108   \n",
              "min                    1.000000             1.000000          1.000000   \n",
              "25%                    1.000000             1.000000          2.000000   \n",
              "50%                    1.000000             7.000000          4.000000   \n",
              "75%                    4.000000             7.000000          6.000000   \n",
              "max                   28.000000            25.000000         14.000000   \n",
              "\n",
              "       num_lab_procedures  num_procedures  num_medications  number_outpatient  \\\n",
              "count       101766.000000   101766.000000    101766.000000      101766.000000   \n",
              "mean            43.095641        1.339730        16.021844           0.369357   \n",
              "std             19.674362        1.705807         8.127566           1.267265   \n",
              "min              1.000000        0.000000         1.000000           0.000000   \n",
              "25%             31.000000        0.000000        10.000000           0.000000   \n",
              "50%             44.000000        1.000000        15.000000           0.000000   \n",
              "75%             57.000000        2.000000        20.000000           0.000000   \n",
              "max            132.000000        6.000000        81.000000          42.000000   \n",
              "\n",
              "       number_emergency  number_inpatient  number_diagnoses  \n",
              "count     101766.000000     101766.000000     101766.000000  \n",
              "mean           0.197836          0.635566          7.422607  \n",
              "std            0.930472          1.262863          1.933600  \n",
              "min            0.000000          0.000000          1.000000  \n",
              "25%            0.000000          0.000000          6.000000  \n",
              "50%            0.000000          0.000000          8.000000  \n",
              "75%            0.000000          1.000000          9.000000  \n",
              "max           76.000000         21.000000         16.000000  "
            ],
            "text/html": [
              "\n",
              "  <div id=\"df-552e02f7-c2a8-4e89-9714-3904a3402f93\" class=\"colab-df-container\">\n",
              "    <div>\n",
              "<style scoped>\n",
              "    .dataframe tbody tr th:only-of-type {\n",
              "        vertical-align: middle;\n",
              "    }\n",
              "\n",
              "    .dataframe tbody tr th {\n",
              "        vertical-align: top;\n",
              "    }\n",
              "\n",
              "    .dataframe thead th {\n",
              "        text-align: right;\n",
              "    }\n",
              "</style>\n",
              "<table border=\"1\" class=\"dataframe\">\n",
              "  <thead>\n",
              "    <tr style=\"text-align: right;\">\n",
              "      <th></th>\n",
              "      <th>encounter_id</th>\n",
              "      <th>patient_nbr</th>\n",
              "      <th>admission_type_id</th>\n",
              "      <th>discharge_disposition_id</th>\n",
              "      <th>admission_source_id</th>\n",
              "      <th>time_in_hospital</th>\n",
              "      <th>num_lab_procedures</th>\n",
              "      <th>num_procedures</th>\n",
              "      <th>num_medications</th>\n",
              "      <th>number_outpatient</th>\n",
              "      <th>number_emergency</th>\n",
              "      <th>number_inpatient</th>\n",
              "      <th>number_diagnoses</th>\n",
              "    </tr>\n",
              "  </thead>\n",
              "  <tbody>\n",
              "    <tr>\n",
              "      <th>count</th>\n",
              "      <td>1.017660e+05</td>\n",
              "      <td>1.017660e+05</td>\n",
              "      <td>101766.000000</td>\n",
              "      <td>101766.000000</td>\n",
              "      <td>101766.000000</td>\n",
              "      <td>101766.000000</td>\n",
              "      <td>101766.000000</td>\n",
              "      <td>101766.000000</td>\n",
              "      <td>101766.000000</td>\n",
              "      <td>101766.000000</td>\n",
              "      <td>101766.000000</td>\n",
              "      <td>101766.000000</td>\n",
              "      <td>101766.000000</td>\n",
              "    </tr>\n",
              "    <tr>\n",
              "      <th>mean</th>\n",
              "      <td>1.652016e+08</td>\n",
              "      <td>5.433040e+07</td>\n",
              "      <td>2.024006</td>\n",
              "      <td>3.715642</td>\n",
              "      <td>5.754437</td>\n",
              "      <td>4.395987</td>\n",
              "      <td>43.095641</td>\n",
              "      <td>1.339730</td>\n",
              "      <td>16.021844</td>\n",
              "      <td>0.369357</td>\n",
              "      <td>0.197836</td>\n",
              "      <td>0.635566</td>\n",
              "      <td>7.422607</td>\n",
              "    </tr>\n",
              "    <tr>\n",
              "      <th>std</th>\n",
              "      <td>1.026403e+08</td>\n",
              "      <td>3.869636e+07</td>\n",
              "      <td>1.445403</td>\n",
              "      <td>5.280166</td>\n",
              "      <td>4.064081</td>\n",
              "      <td>2.985108</td>\n",
              "      <td>19.674362</td>\n",
              "      <td>1.705807</td>\n",
              "      <td>8.127566</td>\n",
              "      <td>1.267265</td>\n",
              "      <td>0.930472</td>\n",
              "      <td>1.262863</td>\n",
              "      <td>1.933600</td>\n",
              "    </tr>\n",
              "    <tr>\n",
              "      <th>min</th>\n",
              "      <td>1.252200e+04</td>\n",
              "      <td>1.350000e+02</td>\n",
              "      <td>1.000000</td>\n",
              "      <td>1.000000</td>\n",
              "      <td>1.000000</td>\n",
              "      <td>1.000000</td>\n",
              "      <td>1.000000</td>\n",
              "      <td>0.000000</td>\n",
              "      <td>1.000000</td>\n",
              "      <td>0.000000</td>\n",
              "      <td>0.000000</td>\n",
              "      <td>0.000000</td>\n",
              "      <td>1.000000</td>\n",
              "    </tr>\n",
              "    <tr>\n",
              "      <th>25%</th>\n",
              "      <td>8.496119e+07</td>\n",
              "      <td>2.341322e+07</td>\n",
              "      <td>1.000000</td>\n",
              "      <td>1.000000</td>\n",
              "      <td>1.000000</td>\n",
              "      <td>2.000000</td>\n",
              "      <td>31.000000</td>\n",
              "      <td>0.000000</td>\n",
              "      <td>10.000000</td>\n",
              "      <td>0.000000</td>\n",
              "      <td>0.000000</td>\n",
              "      <td>0.000000</td>\n",
              "      <td>6.000000</td>\n",
              "    </tr>\n",
              "    <tr>\n",
              "      <th>50%</th>\n",
              "      <td>1.523890e+08</td>\n",
              "      <td>4.550514e+07</td>\n",
              "      <td>1.000000</td>\n",
              "      <td>1.000000</td>\n",
              "      <td>7.000000</td>\n",
              "      <td>4.000000</td>\n",
              "      <td>44.000000</td>\n",
              "      <td>1.000000</td>\n",
              "      <td>15.000000</td>\n",
              "      <td>0.000000</td>\n",
              "      <td>0.000000</td>\n",
              "      <td>0.000000</td>\n",
              "      <td>8.000000</td>\n",
              "    </tr>\n",
              "    <tr>\n",
              "      <th>75%</th>\n",
              "      <td>2.302709e+08</td>\n",
              "      <td>8.754595e+07</td>\n",
              "      <td>3.000000</td>\n",
              "      <td>4.000000</td>\n",
              "      <td>7.000000</td>\n",
              "      <td>6.000000</td>\n",
              "      <td>57.000000</td>\n",
              "      <td>2.000000</td>\n",
              "      <td>20.000000</td>\n",
              "      <td>0.000000</td>\n",
              "      <td>0.000000</td>\n",
              "      <td>1.000000</td>\n",
              "      <td>9.000000</td>\n",
              "    </tr>\n",
              "    <tr>\n",
              "      <th>max</th>\n",
              "      <td>4.438672e+08</td>\n",
              "      <td>1.895026e+08</td>\n",
              "      <td>8.000000</td>\n",
              "      <td>28.000000</td>\n",
              "      <td>25.000000</td>\n",
              "      <td>14.000000</td>\n",
              "      <td>132.000000</td>\n",
              "      <td>6.000000</td>\n",
              "      <td>81.000000</td>\n",
              "      <td>42.000000</td>\n",
              "      <td>76.000000</td>\n",
              "      <td>21.000000</td>\n",
              "      <td>16.000000</td>\n",
              "    </tr>\n",
              "  </tbody>\n",
              "</table>\n",
              "</div>\n",
              "    <div class=\"colab-df-buttons\">\n",
              "\n",
              "  <div class=\"colab-df-container\">\n",
              "    <button class=\"colab-df-convert\" onclick=\"convertToInteractive('df-552e02f7-c2a8-4e89-9714-3904a3402f93')\"\n",
              "            title=\"Convert this dataframe to an interactive table.\"\n",
              "            style=\"display:none;\">\n",
              "\n",
              "  <svg xmlns=\"http://www.w3.org/2000/svg\" height=\"24px\" viewBox=\"0 -960 960 960\">\n",
              "    <path d=\"M120-120v-720h720v720H120Zm60-500h600v-160H180v160Zm220 220h160v-160H400v160Zm0 220h160v-160H400v160ZM180-400h160v-160H180v160Zm440 0h160v-160H620v160ZM180-180h160v-160H180v160Zm440 0h160v-160H620v160Z\"/>\n",
              "  </svg>\n",
              "    </button>\n",
              "\n",
              "  <style>\n",
              "    .colab-df-container {\n",
              "      display:flex;\n",
              "      gap: 12px;\n",
              "    }\n",
              "\n",
              "    .colab-df-convert {\n",
              "      background-color: #E8F0FE;\n",
              "      border: none;\n",
              "      border-radius: 50%;\n",
              "      cursor: pointer;\n",
              "      display: none;\n",
              "      fill: #1967D2;\n",
              "      height: 32px;\n",
              "      padding: 0 0 0 0;\n",
              "      width: 32px;\n",
              "    }\n",
              "\n",
              "    .colab-df-convert:hover {\n",
              "      background-color: #E2EBFA;\n",
              "      box-shadow: 0px 1px 2px rgba(60, 64, 67, 0.3), 0px 1px 3px 1px rgba(60, 64, 67, 0.15);\n",
              "      fill: #174EA6;\n",
              "    }\n",
              "\n",
              "    .colab-df-buttons div {\n",
              "      margin-bottom: 4px;\n",
              "    }\n",
              "\n",
              "    [theme=dark] .colab-df-convert {\n",
              "      background-color: #3B4455;\n",
              "      fill: #D2E3FC;\n",
              "    }\n",
              "\n",
              "    [theme=dark] .colab-df-convert:hover {\n",
              "      background-color: #434B5C;\n",
              "      box-shadow: 0px 1px 3px 1px rgba(0, 0, 0, 0.15);\n",
              "      filter: drop-shadow(0px 1px 2px rgba(0, 0, 0, 0.3));\n",
              "      fill: #FFFFFF;\n",
              "    }\n",
              "  </style>\n",
              "\n",
              "    <script>\n",
              "      const buttonEl =\n",
              "        document.querySelector('#df-552e02f7-c2a8-4e89-9714-3904a3402f93 button.colab-df-convert');\n",
              "      buttonEl.style.display =\n",
              "        google.colab.kernel.accessAllowed ? 'block' : 'none';\n",
              "\n",
              "      async function convertToInteractive(key) {\n",
              "        const element = document.querySelector('#df-552e02f7-c2a8-4e89-9714-3904a3402f93');\n",
              "        const dataTable =\n",
              "          await google.colab.kernel.invokeFunction('convertToInteractive',\n",
              "                                                    [key], {});\n",
              "        if (!dataTable) return;\n",
              "\n",
              "        const docLinkHtml = 'Like what you see? Visit the ' +\n",
              "          '<a target=\"_blank\" href=https://colab.research.google.com/notebooks/data_table.ipynb>data table notebook</a>'\n",
              "          + ' to learn more about interactive tables.';\n",
              "        element.innerHTML = '';\n",
              "        dataTable['output_type'] = 'display_data';\n",
              "        await google.colab.output.renderOutput(dataTable, element);\n",
              "        const docLink = document.createElement('div');\n",
              "        docLink.innerHTML = docLinkHtml;\n",
              "        element.appendChild(docLink);\n",
              "      }\n",
              "    </script>\n",
              "  </div>\n",
              "\n",
              "\n",
              "<div id=\"df-bf4caad4-5b95-404d-bb17-a3228b3f8752\">\n",
              "  <button class=\"colab-df-quickchart\" onclick=\"quickchart('df-bf4caad4-5b95-404d-bb17-a3228b3f8752')\"\n",
              "            title=\"Suggest charts.\"\n",
              "            style=\"display:none;\">\n",
              "\n",
              "<svg xmlns=\"http://www.w3.org/2000/svg\" height=\"24px\"viewBox=\"0 0 24 24\"\n",
              "     width=\"24px\">\n",
              "    <g>\n",
              "        <path d=\"M19 3H5c-1.1 0-2 .9-2 2v14c0 1.1.9 2 2 2h14c1.1 0 2-.9 2-2V5c0-1.1-.9-2-2-2zM9 17H7v-7h2v7zm4 0h-2V7h2v10zm4 0h-2v-4h2v4z\"/>\n",
              "    </g>\n",
              "</svg>\n",
              "  </button>\n",
              "\n",
              "<style>\n",
              "  .colab-df-quickchart {\n",
              "    background-color: #E8F0FE;\n",
              "    border: none;\n",
              "    border-radius: 50%;\n",
              "    cursor: pointer;\n",
              "    display: none;\n",
              "    fill: #1967D2;\n",
              "    height: 32px;\n",
              "    padding: 0 0 0 0;\n",
              "    width: 32px;\n",
              "  }\n",
              "\n",
              "  .colab-df-quickchart:hover {\n",
              "    background-color: #E2EBFA;\n",
              "    box-shadow: 0px 1px 2px rgba(60, 64, 67, 0.3), 0px 1px 3px 1px rgba(60, 64, 67, 0.15);\n",
              "    fill: #174EA6;\n",
              "  }\n",
              "\n",
              "  [theme=dark] .colab-df-quickchart {\n",
              "    background-color: #3B4455;\n",
              "    fill: #D2E3FC;\n",
              "  }\n",
              "\n",
              "  [theme=dark] .colab-df-quickchart:hover {\n",
              "    background-color: #434B5C;\n",
              "    box-shadow: 0px 1px 3px 1px rgba(0, 0, 0, 0.15);\n",
              "    filter: drop-shadow(0px 1px 2px rgba(0, 0, 0, 0.3));\n",
              "    fill: #FFFFFF;\n",
              "  }\n",
              "</style>\n",
              "\n",
              "  <script>\n",
              "    async function quickchart(key) {\n",
              "      const charts = await google.colab.kernel.invokeFunction(\n",
              "          'suggestCharts', [key], {});\n",
              "    }\n",
              "    (() => {\n",
              "      let quickchartButtonEl =\n",
              "        document.querySelector('#df-bf4caad4-5b95-404d-bb17-a3228b3f8752 button');\n",
              "      quickchartButtonEl.style.display =\n",
              "        google.colab.kernel.accessAllowed ? 'block' : 'none';\n",
              "    })();\n",
              "  </script>\n",
              "</div>\n",
              "    </div>\n",
              "  </div>\n"
            ]
          },
          "metadata": {},
          "execution_count": 10
        }
      ]
    },
    {
      "cell_type": "code",
      "source": [
        "diabetes_df.describe().T"
      ],
      "metadata": {
        "colab": {
          "base_uri": "https://localhost:8080/",
          "height": 457
        },
        "id": "HUtQdzKsela4",
        "outputId": "1ed2f1ed-84fb-48f9-e9cc-62c43289a985"
      },
      "execution_count": 11,
      "outputs": [
        {
          "output_type": "execute_result",
          "data": {
            "text/plain": [
              "                             count          mean           std      min  \\\n",
              "encounter_id              101766.0  1.652016e+08  1.026403e+08  12522.0   \n",
              "patient_nbr               101766.0  5.433040e+07  3.869636e+07    135.0   \n",
              "admission_type_id         101766.0  2.024006e+00  1.445403e+00      1.0   \n",
              "discharge_disposition_id  101766.0  3.715642e+00  5.280166e+00      1.0   \n",
              "admission_source_id       101766.0  5.754437e+00  4.064081e+00      1.0   \n",
              "time_in_hospital          101766.0  4.395987e+00  2.985108e+00      1.0   \n",
              "num_lab_procedures        101766.0  4.309564e+01  1.967436e+01      1.0   \n",
              "num_procedures            101766.0  1.339730e+00  1.705807e+00      0.0   \n",
              "num_medications           101766.0  1.602184e+01  8.127566e+00      1.0   \n",
              "number_outpatient         101766.0  3.693572e-01  1.267265e+00      0.0   \n",
              "number_emergency          101766.0  1.978362e-01  9.304723e-01      0.0   \n",
              "number_inpatient          101766.0  6.355659e-01  1.262863e+00      0.0   \n",
              "number_diagnoses          101766.0  7.422607e+00  1.933600e+00      1.0   \n",
              "\n",
              "                                 25%          50%           75%          max  \n",
              "encounter_id              84961194.0  152388987.0  2.302709e+08  443867222.0  \n",
              "patient_nbr               23413221.0   45505143.0  8.754595e+07  189502619.0  \n",
              "admission_type_id                1.0          1.0  3.000000e+00          8.0  \n",
              "discharge_disposition_id         1.0          1.0  4.000000e+00         28.0  \n",
              "admission_source_id              1.0          7.0  7.000000e+00         25.0  \n",
              "time_in_hospital                 2.0          4.0  6.000000e+00         14.0  \n",
              "num_lab_procedures              31.0         44.0  5.700000e+01        132.0  \n",
              "num_procedures                   0.0          1.0  2.000000e+00          6.0  \n",
              "num_medications                 10.0         15.0  2.000000e+01         81.0  \n",
              "number_outpatient                0.0          0.0  0.000000e+00         42.0  \n",
              "number_emergency                 0.0          0.0  0.000000e+00         76.0  \n",
              "number_inpatient                 0.0          0.0  1.000000e+00         21.0  \n",
              "number_diagnoses                 6.0          8.0  9.000000e+00         16.0  "
            ],
            "text/html": [
              "\n",
              "  <div id=\"df-9b89dc31-1f2f-4041-a721-27af4652a284\" class=\"colab-df-container\">\n",
              "    <div>\n",
              "<style scoped>\n",
              "    .dataframe tbody tr th:only-of-type {\n",
              "        vertical-align: middle;\n",
              "    }\n",
              "\n",
              "    .dataframe tbody tr th {\n",
              "        vertical-align: top;\n",
              "    }\n",
              "\n",
              "    .dataframe thead th {\n",
              "        text-align: right;\n",
              "    }\n",
              "</style>\n",
              "<table border=\"1\" class=\"dataframe\">\n",
              "  <thead>\n",
              "    <tr style=\"text-align: right;\">\n",
              "      <th></th>\n",
              "      <th>count</th>\n",
              "      <th>mean</th>\n",
              "      <th>std</th>\n",
              "      <th>min</th>\n",
              "      <th>25%</th>\n",
              "      <th>50%</th>\n",
              "      <th>75%</th>\n",
              "      <th>max</th>\n",
              "    </tr>\n",
              "  </thead>\n",
              "  <tbody>\n",
              "    <tr>\n",
              "      <th>encounter_id</th>\n",
              "      <td>101766.0</td>\n",
              "      <td>1.652016e+08</td>\n",
              "      <td>1.026403e+08</td>\n",
              "      <td>12522.0</td>\n",
              "      <td>84961194.0</td>\n",
              "      <td>152388987.0</td>\n",
              "      <td>2.302709e+08</td>\n",
              "      <td>443867222.0</td>\n",
              "    </tr>\n",
              "    <tr>\n",
              "      <th>patient_nbr</th>\n",
              "      <td>101766.0</td>\n",
              "      <td>5.433040e+07</td>\n",
              "      <td>3.869636e+07</td>\n",
              "      <td>135.0</td>\n",
              "      <td>23413221.0</td>\n",
              "      <td>45505143.0</td>\n",
              "      <td>8.754595e+07</td>\n",
              "      <td>189502619.0</td>\n",
              "    </tr>\n",
              "    <tr>\n",
              "      <th>admission_type_id</th>\n",
              "      <td>101766.0</td>\n",
              "      <td>2.024006e+00</td>\n",
              "      <td>1.445403e+00</td>\n",
              "      <td>1.0</td>\n",
              "      <td>1.0</td>\n",
              "      <td>1.0</td>\n",
              "      <td>3.000000e+00</td>\n",
              "      <td>8.0</td>\n",
              "    </tr>\n",
              "    <tr>\n",
              "      <th>discharge_disposition_id</th>\n",
              "      <td>101766.0</td>\n",
              "      <td>3.715642e+00</td>\n",
              "      <td>5.280166e+00</td>\n",
              "      <td>1.0</td>\n",
              "      <td>1.0</td>\n",
              "      <td>1.0</td>\n",
              "      <td>4.000000e+00</td>\n",
              "      <td>28.0</td>\n",
              "    </tr>\n",
              "    <tr>\n",
              "      <th>admission_source_id</th>\n",
              "      <td>101766.0</td>\n",
              "      <td>5.754437e+00</td>\n",
              "      <td>4.064081e+00</td>\n",
              "      <td>1.0</td>\n",
              "      <td>1.0</td>\n",
              "      <td>7.0</td>\n",
              "      <td>7.000000e+00</td>\n",
              "      <td>25.0</td>\n",
              "    </tr>\n",
              "    <tr>\n",
              "      <th>time_in_hospital</th>\n",
              "      <td>101766.0</td>\n",
              "      <td>4.395987e+00</td>\n",
              "      <td>2.985108e+00</td>\n",
              "      <td>1.0</td>\n",
              "      <td>2.0</td>\n",
              "      <td>4.0</td>\n",
              "      <td>6.000000e+00</td>\n",
              "      <td>14.0</td>\n",
              "    </tr>\n",
              "    <tr>\n",
              "      <th>num_lab_procedures</th>\n",
              "      <td>101766.0</td>\n",
              "      <td>4.309564e+01</td>\n",
              "      <td>1.967436e+01</td>\n",
              "      <td>1.0</td>\n",
              "      <td>31.0</td>\n",
              "      <td>44.0</td>\n",
              "      <td>5.700000e+01</td>\n",
              "      <td>132.0</td>\n",
              "    </tr>\n",
              "    <tr>\n",
              "      <th>num_procedures</th>\n",
              "      <td>101766.0</td>\n",
              "      <td>1.339730e+00</td>\n",
              "      <td>1.705807e+00</td>\n",
              "      <td>0.0</td>\n",
              "      <td>0.0</td>\n",
              "      <td>1.0</td>\n",
              "      <td>2.000000e+00</td>\n",
              "      <td>6.0</td>\n",
              "    </tr>\n",
              "    <tr>\n",
              "      <th>num_medications</th>\n",
              "      <td>101766.0</td>\n",
              "      <td>1.602184e+01</td>\n",
              "      <td>8.127566e+00</td>\n",
              "      <td>1.0</td>\n",
              "      <td>10.0</td>\n",
              "      <td>15.0</td>\n",
              "      <td>2.000000e+01</td>\n",
              "      <td>81.0</td>\n",
              "    </tr>\n",
              "    <tr>\n",
              "      <th>number_outpatient</th>\n",
              "      <td>101766.0</td>\n",
              "      <td>3.693572e-01</td>\n",
              "      <td>1.267265e+00</td>\n",
              "      <td>0.0</td>\n",
              "      <td>0.0</td>\n",
              "      <td>0.0</td>\n",
              "      <td>0.000000e+00</td>\n",
              "      <td>42.0</td>\n",
              "    </tr>\n",
              "    <tr>\n",
              "      <th>number_emergency</th>\n",
              "      <td>101766.0</td>\n",
              "      <td>1.978362e-01</td>\n",
              "      <td>9.304723e-01</td>\n",
              "      <td>0.0</td>\n",
              "      <td>0.0</td>\n",
              "      <td>0.0</td>\n",
              "      <td>0.000000e+00</td>\n",
              "      <td>76.0</td>\n",
              "    </tr>\n",
              "    <tr>\n",
              "      <th>number_inpatient</th>\n",
              "      <td>101766.0</td>\n",
              "      <td>6.355659e-01</td>\n",
              "      <td>1.262863e+00</td>\n",
              "      <td>0.0</td>\n",
              "      <td>0.0</td>\n",
              "      <td>0.0</td>\n",
              "      <td>1.000000e+00</td>\n",
              "      <td>21.0</td>\n",
              "    </tr>\n",
              "    <tr>\n",
              "      <th>number_diagnoses</th>\n",
              "      <td>101766.0</td>\n",
              "      <td>7.422607e+00</td>\n",
              "      <td>1.933600e+00</td>\n",
              "      <td>1.0</td>\n",
              "      <td>6.0</td>\n",
              "      <td>8.0</td>\n",
              "      <td>9.000000e+00</td>\n",
              "      <td>16.0</td>\n",
              "    </tr>\n",
              "  </tbody>\n",
              "</table>\n",
              "</div>\n",
              "    <div class=\"colab-df-buttons\">\n",
              "\n",
              "  <div class=\"colab-df-container\">\n",
              "    <button class=\"colab-df-convert\" onclick=\"convertToInteractive('df-9b89dc31-1f2f-4041-a721-27af4652a284')\"\n",
              "            title=\"Convert this dataframe to an interactive table.\"\n",
              "            style=\"display:none;\">\n",
              "\n",
              "  <svg xmlns=\"http://www.w3.org/2000/svg\" height=\"24px\" viewBox=\"0 -960 960 960\">\n",
              "    <path d=\"M120-120v-720h720v720H120Zm60-500h600v-160H180v160Zm220 220h160v-160H400v160Zm0 220h160v-160H400v160ZM180-400h160v-160H180v160Zm440 0h160v-160H620v160ZM180-180h160v-160H180v160Zm440 0h160v-160H620v160Z\"/>\n",
              "  </svg>\n",
              "    </button>\n",
              "\n",
              "  <style>\n",
              "    .colab-df-container {\n",
              "      display:flex;\n",
              "      gap: 12px;\n",
              "    }\n",
              "\n",
              "    .colab-df-convert {\n",
              "      background-color: #E8F0FE;\n",
              "      border: none;\n",
              "      border-radius: 50%;\n",
              "      cursor: pointer;\n",
              "      display: none;\n",
              "      fill: #1967D2;\n",
              "      height: 32px;\n",
              "      padding: 0 0 0 0;\n",
              "      width: 32px;\n",
              "    }\n",
              "\n",
              "    .colab-df-convert:hover {\n",
              "      background-color: #E2EBFA;\n",
              "      box-shadow: 0px 1px 2px rgba(60, 64, 67, 0.3), 0px 1px 3px 1px rgba(60, 64, 67, 0.15);\n",
              "      fill: #174EA6;\n",
              "    }\n",
              "\n",
              "    .colab-df-buttons div {\n",
              "      margin-bottom: 4px;\n",
              "    }\n",
              "\n",
              "    [theme=dark] .colab-df-convert {\n",
              "      background-color: #3B4455;\n",
              "      fill: #D2E3FC;\n",
              "    }\n",
              "\n",
              "    [theme=dark] .colab-df-convert:hover {\n",
              "      background-color: #434B5C;\n",
              "      box-shadow: 0px 1px 3px 1px rgba(0, 0, 0, 0.15);\n",
              "      filter: drop-shadow(0px 1px 2px rgba(0, 0, 0, 0.3));\n",
              "      fill: #FFFFFF;\n",
              "    }\n",
              "  </style>\n",
              "\n",
              "    <script>\n",
              "      const buttonEl =\n",
              "        document.querySelector('#df-9b89dc31-1f2f-4041-a721-27af4652a284 button.colab-df-convert');\n",
              "      buttonEl.style.display =\n",
              "        google.colab.kernel.accessAllowed ? 'block' : 'none';\n",
              "\n",
              "      async function convertToInteractive(key) {\n",
              "        const element = document.querySelector('#df-9b89dc31-1f2f-4041-a721-27af4652a284');\n",
              "        const dataTable =\n",
              "          await google.colab.kernel.invokeFunction('convertToInteractive',\n",
              "                                                    [key], {});\n",
              "        if (!dataTable) return;\n",
              "\n",
              "        const docLinkHtml = 'Like what you see? Visit the ' +\n",
              "          '<a target=\"_blank\" href=https://colab.research.google.com/notebooks/data_table.ipynb>data table notebook</a>'\n",
              "          + ' to learn more about interactive tables.';\n",
              "        element.innerHTML = '';\n",
              "        dataTable['output_type'] = 'display_data';\n",
              "        await google.colab.output.renderOutput(dataTable, element);\n",
              "        const docLink = document.createElement('div');\n",
              "        docLink.innerHTML = docLinkHtml;\n",
              "        element.appendChild(docLink);\n",
              "      }\n",
              "    </script>\n",
              "  </div>\n",
              "\n",
              "\n",
              "<div id=\"df-443dd220-390a-437c-ac37-65b050d79adb\">\n",
              "  <button class=\"colab-df-quickchart\" onclick=\"quickchart('df-443dd220-390a-437c-ac37-65b050d79adb')\"\n",
              "            title=\"Suggest charts.\"\n",
              "            style=\"display:none;\">\n",
              "\n",
              "<svg xmlns=\"http://www.w3.org/2000/svg\" height=\"24px\"viewBox=\"0 0 24 24\"\n",
              "     width=\"24px\">\n",
              "    <g>\n",
              "        <path d=\"M19 3H5c-1.1 0-2 .9-2 2v14c0 1.1.9 2 2 2h14c1.1 0 2-.9 2-2V5c0-1.1-.9-2-2-2zM9 17H7v-7h2v7zm4 0h-2V7h2v10zm4 0h-2v-4h2v4z\"/>\n",
              "    </g>\n",
              "</svg>\n",
              "  </button>\n",
              "\n",
              "<style>\n",
              "  .colab-df-quickchart {\n",
              "    background-color: #E8F0FE;\n",
              "    border: none;\n",
              "    border-radius: 50%;\n",
              "    cursor: pointer;\n",
              "    display: none;\n",
              "    fill: #1967D2;\n",
              "    height: 32px;\n",
              "    padding: 0 0 0 0;\n",
              "    width: 32px;\n",
              "  }\n",
              "\n",
              "  .colab-df-quickchart:hover {\n",
              "    background-color: #E2EBFA;\n",
              "    box-shadow: 0px 1px 2px rgba(60, 64, 67, 0.3), 0px 1px 3px 1px rgba(60, 64, 67, 0.15);\n",
              "    fill: #174EA6;\n",
              "  }\n",
              "\n",
              "  [theme=dark] .colab-df-quickchart {\n",
              "    background-color: #3B4455;\n",
              "    fill: #D2E3FC;\n",
              "  }\n",
              "\n",
              "  [theme=dark] .colab-df-quickchart:hover {\n",
              "    background-color: #434B5C;\n",
              "    box-shadow: 0px 1px 3px 1px rgba(0, 0, 0, 0.15);\n",
              "    filter: drop-shadow(0px 1px 2px rgba(0, 0, 0, 0.3));\n",
              "    fill: #FFFFFF;\n",
              "  }\n",
              "</style>\n",
              "\n",
              "  <script>\n",
              "    async function quickchart(key) {\n",
              "      const charts = await google.colab.kernel.invokeFunction(\n",
              "          'suggestCharts', [key], {});\n",
              "    }\n",
              "    (() => {\n",
              "      let quickchartButtonEl =\n",
              "        document.querySelector('#df-443dd220-390a-437c-ac37-65b050d79adb button');\n",
              "      quickchartButtonEl.style.display =\n",
              "        google.colab.kernel.accessAllowed ? 'block' : 'none';\n",
              "    })();\n",
              "  </script>\n",
              "</div>\n",
              "    </div>\n",
              "  </div>\n"
            ]
          },
          "metadata": {},
          "execution_count": 11
        }
      ]
    },
    {
      "cell_type": "code",
      "source": [
        "# checking for duplicates\n",
        "has_duplicates = diabetes_df.duplicated().any()\n",
        "\n",
        "if has_duplicates:\n",
        "    print(\"Duplicates found in the dataframe.\")\n",
        "else:\n",
        "    print(\"No duplicates found in the dataframe.\")"
      ],
      "metadata": {
        "colab": {
          "base_uri": "https://localhost:8080/"
        },
        "id": "LLPfSksooSCo",
        "outputId": "dd5eee4d-7725-41d9-9cd5-2b2d0965f53d"
      },
      "execution_count": 12,
      "outputs": [
        {
          "output_type": "stream",
          "name": "stdout",
          "text": [
            "No duplicates found in the dataframe.\n"
          ]
        }
      ]
    },
    {
      "cell_type": "code",
      "source": [
        "diabetes_df.groupby('readmitted').size()\n",
        "#11357/101766 = 11.15% of patients are readmitted in less than 30 days\n",
        "#there are 54K with NO record of readmission"
      ],
      "metadata": {
        "colab": {
          "base_uri": "https://localhost:8080/"
        },
        "id": "F5uwaxTZfsJ2",
        "outputId": "dfd58dfc-9fd2-4bc3-ee3b-81776fe27ef8"
      },
      "execution_count": 13,
      "outputs": [
        {
          "output_type": "execute_result",
          "data": {
            "text/plain": [
              "readmitted\n",
              "<30    11357\n",
              ">30    35545\n",
              "NO     54864\n",
              "dtype: int64"
            ]
          },
          "metadata": {},
          "execution_count": 13
        }
      ]
    },
    {
      "cell_type": "markdown",
      "source": [
        "Exploring object type columns"
      ],
      "metadata": {
        "id": "AGQxJAKM1twa"
      }
    },
    {
      "cell_type": "code",
      "source": [
        "object_column_names = [column for column in diabetes_df.columns if diabetes_df[column].dtype == 'object']\n",
        "object_column_names"
      ],
      "metadata": {
        "colab": {
          "base_uri": "https://localhost:8080/"
        },
        "id": "s1F-G44G1s5u",
        "outputId": "44951bde-aaaf-45cb-d685-d87d28395690"
      },
      "execution_count": 14,
      "outputs": [
        {
          "output_type": "execute_result",
          "data": {
            "text/plain": [
              "['race',\n",
              " 'gender',\n",
              " 'age',\n",
              " 'weight',\n",
              " 'payer_code',\n",
              " 'medical_specialty',\n",
              " 'diag_1',\n",
              " 'diag_2',\n",
              " 'diag_3',\n",
              " 'max_glu_serum',\n",
              " 'A1Cresult',\n",
              " 'metformin',\n",
              " 'repaglinide',\n",
              " 'nateglinide',\n",
              " 'chlorpropamide',\n",
              " 'glimepiride',\n",
              " 'acetohexamide',\n",
              " 'glipizide',\n",
              " 'glyburide',\n",
              " 'tolbutamide',\n",
              " 'pioglitazone',\n",
              " 'rosiglitazone',\n",
              " 'acarbose',\n",
              " 'miglitol',\n",
              " 'troglitazone',\n",
              " 'tolazamide',\n",
              " 'examide',\n",
              " 'citoglipton',\n",
              " 'insulin',\n",
              " 'glyburide-metformin',\n",
              " 'glipizide-metformin',\n",
              " 'glimepiride-pioglitazone',\n",
              " 'metformin-rosiglitazone',\n",
              " 'metformin-pioglitazone',\n",
              " 'change',\n",
              " 'diabetesMed',\n",
              " 'readmitted']"
            ]
          },
          "metadata": {},
          "execution_count": 14
        }
      ]
    },
    {
      "cell_type": "code",
      "source": [
        "diabetes_df['race'].value_counts()"
      ],
      "metadata": {
        "colab": {
          "base_uri": "https://localhost:8080/"
        },
        "id": "QSRVyEqVgqr2",
        "outputId": "88538462-0aea-41b6-af52-2b87b2d68135"
      },
      "execution_count": 15,
      "outputs": [
        {
          "output_type": "execute_result",
          "data": {
            "text/plain": [
              "Caucasian          76099\n",
              "AfricanAmerican    19210\n",
              "?                   2273\n",
              "Hispanic            2037\n",
              "Other               1506\n",
              "Asian                641\n",
              "Name: race, dtype: int64"
            ]
          },
          "metadata": {},
          "execution_count": 15
        }
      ]
    },
    {
      "cell_type": "code",
      "source": [
        "diabetes_df['gender'].value_counts()"
      ],
      "metadata": {
        "colab": {
          "base_uri": "https://localhost:8080/"
        },
        "id": "Yuw2n1qXgv_I",
        "outputId": "3d1109df-f2e8-4772-fac8-8a6678dba7ee"
      },
      "execution_count": 16,
      "outputs": [
        {
          "output_type": "execute_result",
          "data": {
            "text/plain": [
              "Female             54708\n",
              "Male               47055\n",
              "Unknown/Invalid        3\n",
              "Name: gender, dtype: int64"
            ]
          },
          "metadata": {},
          "execution_count": 16
        }
      ]
    },
    {
      "cell_type": "code",
      "source": [
        "diabetes_df['age'].value_counts()"
      ],
      "metadata": {
        "colab": {
          "base_uri": "https://localhost:8080/"
        },
        "id": "ZxVLbd1-jt2B",
        "outputId": "c4c6d1e4-800d-47ed-b53e-34458dd2d5bf"
      },
      "execution_count": 17,
      "outputs": [
        {
          "output_type": "execute_result",
          "data": {
            "text/plain": [
              "[70-80)     26068\n",
              "[60-70)     22483\n",
              "[50-60)     17256\n",
              "[80-90)     17197\n",
              "[40-50)      9685\n",
              "[30-40)      3775\n",
              "[90-100)     2793\n",
              "[20-30)      1657\n",
              "[10-20)       691\n",
              "[0-10)        161\n",
              "Name: age, dtype: int64"
            ]
          },
          "metadata": {},
          "execution_count": 17
        }
      ]
    },
    {
      "cell_type": "code",
      "source": [
        "diabetes_df['weight'].value_counts() #almost 98% of patients raws has no weight values!"
      ],
      "metadata": {
        "colab": {
          "base_uri": "https://localhost:8080/"
        },
        "id": "hr-B7PuOj2NJ",
        "outputId": "6b02e291-d84b-4451-9923-8578168325f4"
      },
      "execution_count": 18,
      "outputs": [
        {
          "output_type": "execute_result",
          "data": {
            "text/plain": [
              "?            98569\n",
              "[75-100)      1336\n",
              "[50-75)        897\n",
              "[100-125)      625\n",
              "[125-150)      145\n",
              "[25-50)         97\n",
              "[0-25)          48\n",
              "[150-175)       35\n",
              "[175-200)       11\n",
              ">200             3\n",
              "Name: weight, dtype: int64"
            ]
          },
          "metadata": {},
          "execution_count": 18
        }
      ]
    },
    {
      "cell_type": "code",
      "source": [
        "diabetes_df['payer_code'].value_counts()"
      ],
      "metadata": {
        "colab": {
          "base_uri": "https://localhost:8080/"
        },
        "id": "ibQBTUoSk6ZT",
        "outputId": "b401b26f-5a83-499a-c708-0aaa5c019be9"
      },
      "execution_count": 19,
      "outputs": [
        {
          "output_type": "execute_result",
          "data": {
            "text/plain": [
              "?     40256\n",
              "MC    32439\n",
              "HM     6274\n",
              "SP     5007\n",
              "BC     4655\n",
              "MD     3532\n",
              "CP     2533\n",
              "UN     2448\n",
              "CM     1937\n",
              "OG     1033\n",
              "PO      592\n",
              "DM      549\n",
              "CH      146\n",
              "WC      135\n",
              "OT       95\n",
              "MP       79\n",
              "SI       55\n",
              "FR        1\n",
              "Name: payer_code, dtype: int64"
            ]
          },
          "metadata": {},
          "execution_count": 19
        }
      ]
    },
    {
      "cell_type": "code",
      "source": [
        "diabetes_df['medical_specialty'].value_counts() # ? (50%), InternalMedicine (20%), Emergency/Trauma(10%), Family/GeneralPractice (10%)\n",
        "#diabetes_df['medical_specialty'].unique()\n",
        "#diabetes_df['medical_specialty'].nunique() #73\n",
        "#too disperse data"
      ],
      "metadata": {
        "colab": {
          "base_uri": "https://localhost:8080/"
        },
        "id": "o_IwBtOToiSR",
        "outputId": "74115bdc-c681-4348-d76c-9609e02c301f"
      },
      "execution_count": 20,
      "outputs": [
        {
          "output_type": "execute_result",
          "data": {
            "text/plain": [
              "?                                49949\n",
              "InternalMedicine                 14635\n",
              "Emergency/Trauma                  7565\n",
              "Family/GeneralPractice            7440\n",
              "Cardiology                        5352\n",
              "                                 ...  \n",
              "SportsMedicine                       1\n",
              "Speech                               1\n",
              "Perinatology                         1\n",
              "Neurophysiology                      1\n",
              "Pediatrics-InfectiousDiseases        1\n",
              "Name: medical_specialty, Length: 73, dtype: int64"
            ]
          },
          "metadata": {},
          "execution_count": 20
        }
      ]
    },
    {
      "cell_type": "code",
      "source": [
        "#diabetes_df['diag_1'].value_counts()\n",
        "#diabetes_df['diag_1'].unique()\n",
        "#diabetes_df['diag_1'].nunique() #717\n",
        "#diabetes_df['diag_2'].value_counts()\n",
        "#diabetes_df['diag_2'].unique()\n",
        "#diabetes_df['diag_2'].nunique() #749\n",
        "#diabetes_df['diag_3'].value_counts()\n",
        "#diabetes_df['diag_3'].unique()\n",
        "#diabetes_df['diag_3'].nunique() #790\n",
        "#too disperse data (consider dropping these columns)"
      ],
      "metadata": {
        "id": "I65fDmuHpuDi"
      },
      "execution_count": 21,
      "outputs": []
    },
    {
      "cell_type": "code",
      "source": [
        "diabetes_df['max_glu_serum'].value_counts() #96% none"
      ],
      "metadata": {
        "colab": {
          "base_uri": "https://localhost:8080/"
        },
        "id": "UmEL6FfIqmQx",
        "outputId": "34de8f0b-fb04-4e2e-8355-bbb014503eb0"
      },
      "execution_count": 22,
      "outputs": [
        {
          "output_type": "execute_result",
          "data": {
            "text/plain": [
              "None    96420\n",
              "Norm     2597\n",
              ">200     1485\n",
              ">300     1264\n",
              "Name: max_glu_serum, dtype: int64"
            ]
          },
          "metadata": {},
          "execution_count": 22
        }
      ]
    },
    {
      "cell_type": "code",
      "source": [
        "diabetes_df['A1Cresult'].value_counts() #84% none"
      ],
      "metadata": {
        "colab": {
          "base_uri": "https://localhost:8080/"
        },
        "id": "TZGhO8TAq6a2",
        "outputId": "799ace93-2ec3-4c5a-8c01-04c9b3d51f51"
      },
      "execution_count": 23,
      "outputs": [
        {
          "output_type": "execute_result",
          "data": {
            "text/plain": [
              "None    84748\n",
              ">8       8216\n",
              "Norm     4990\n",
              ">7       3812\n",
              "Name: A1Cresult, dtype: int64"
            ]
          },
          "metadata": {},
          "execution_count": 23
        }
      ]
    },
    {
      "cell_type": "code",
      "source": [
        "diabetes_df['metformin'].value_counts() #81% No"
      ],
      "metadata": {
        "colab": {
          "base_uri": "https://localhost:8080/"
        },
        "id": "nIXblvyrrX1F",
        "outputId": "deb4f000-f250-4f54-9b1a-022604badca6"
      },
      "execution_count": 24,
      "outputs": [
        {
          "output_type": "execute_result",
          "data": {
            "text/plain": [
              "No        81778\n",
              "Steady    18346\n",
              "Up         1067\n",
              "Down        575\n",
              "Name: metformin, dtype: int64"
            ]
          },
          "metadata": {},
          "execution_count": 24
        }
      ]
    },
    {
      "cell_type": "code",
      "source": [
        "diabetes_df['repaglinide'].value_counts() #99% No"
      ],
      "metadata": {
        "colab": {
          "base_uri": "https://localhost:8080/"
        },
        "id": "ypxUR36prnMV",
        "outputId": "fbbd2831-9a6b-4ebd-eadc-a21ee3a7a889"
      },
      "execution_count": 25,
      "outputs": [
        {
          "output_type": "execute_result",
          "data": {
            "text/plain": [
              "No        100227\n",
              "Steady      1384\n",
              "Up           110\n",
              "Down          45\n",
              "Name: repaglinide, dtype: int64"
            ]
          },
          "metadata": {},
          "execution_count": 25
        }
      ]
    },
    {
      "cell_type": "code",
      "source": [
        "diabetes_df['nateglinide'].value_counts() #99% No"
      ],
      "metadata": {
        "colab": {
          "base_uri": "https://localhost:8080/"
        },
        "id": "1sGG4XmJsG7v",
        "outputId": "61c46eb5-56d3-434f-b2db-01194940a57e"
      },
      "execution_count": 26,
      "outputs": [
        {
          "output_type": "execute_result",
          "data": {
            "text/plain": [
              "No        101063\n",
              "Steady       668\n",
              "Up            24\n",
              "Down          11\n",
              "Name: nateglinide, dtype: int64"
            ]
          },
          "metadata": {},
          "execution_count": 26
        }
      ]
    },
    {
      "cell_type": "code",
      "source": [
        "diabetes_df['chlorpropamide'].value_counts() #100% drop this column"
      ],
      "metadata": {
        "colab": {
          "base_uri": "https://localhost:8080/"
        },
        "id": "lPTo88mAsZlK",
        "outputId": "6d7e0e2f-6074-47b0-f010-8c191cde186c"
      },
      "execution_count": 27,
      "outputs": [
        {
          "output_type": "execute_result",
          "data": {
            "text/plain": [
              "No        101680\n",
              "Steady        79\n",
              "Up             6\n",
              "Down           1\n",
              "Name: chlorpropamide, dtype: int64"
            ]
          },
          "metadata": {},
          "execution_count": 27
        }
      ]
    },
    {
      "cell_type": "code",
      "source": [
        "diabetes_df['glimepiride'].value_counts() #96% No"
      ],
      "metadata": {
        "colab": {
          "base_uri": "https://localhost:8080/"
        },
        "id": "lJvHk5nus7Z5",
        "outputId": "e6ec8c06-2844-44b5-c89b-0a6e09872dab"
      },
      "execution_count": 28,
      "outputs": [
        {
          "output_type": "execute_result",
          "data": {
            "text/plain": [
              "No        96575\n",
              "Steady     4670\n",
              "Up          327\n",
              "Down        194\n",
              "Name: glimepiride, dtype: int64"
            ]
          },
          "metadata": {},
          "execution_count": 28
        }
      ]
    },
    {
      "cell_type": "code",
      "source": [
        "diabetes_df['acetohexamide'].value_counts() #100% drop this column"
      ],
      "metadata": {
        "colab": {
          "base_uri": "https://localhost:8080/"
        },
        "id": "awwrTlzctFes",
        "outputId": "2d7dace3-8524-4846-c034-27e344481c9a"
      },
      "execution_count": 29,
      "outputs": [
        {
          "output_type": "execute_result",
          "data": {
            "text/plain": [
              "No        101765\n",
              "Steady         1\n",
              "Name: acetohexamide, dtype: int64"
            ]
          },
          "metadata": {},
          "execution_count": 29
        }
      ]
    },
    {
      "cell_type": "code",
      "source": [
        "diabetes_df['glipizide'].value_counts() #89% no"
      ],
      "metadata": {
        "colab": {
          "base_uri": "https://localhost:8080/"
        },
        "id": "Ze8ywIFstWk1",
        "outputId": "c1893d14-a3ed-455b-f987-d63661b89c56"
      },
      "execution_count": 30,
      "outputs": [
        {
          "output_type": "execute_result",
          "data": {
            "text/plain": [
              "No        89080\n",
              "Steady    11356\n",
              "Up          770\n",
              "Down        560\n",
              "Name: glipizide, dtype: int64"
            ]
          },
          "metadata": {},
          "execution_count": 30
        }
      ]
    },
    {
      "cell_type": "code",
      "source": [
        "diabetes_df['glyburide'].value_counts() #91% no"
      ],
      "metadata": {
        "colab": {
          "base_uri": "https://localhost:8080/"
        },
        "id": "dYoRBPwCtgBJ",
        "outputId": "4a06b6b5-3278-498d-92c3-42855ff43b63"
      },
      "execution_count": 31,
      "outputs": [
        {
          "output_type": "execute_result",
          "data": {
            "text/plain": [
              "No        91116\n",
              "Steady     9274\n",
              "Up          812\n",
              "Down        564\n",
              "Name: glyburide, dtype: int64"
            ]
          },
          "metadata": {},
          "execution_count": 31
        }
      ]
    },
    {
      "cell_type": "code",
      "source": [
        "diabetes_df['tolbutamide'].value_counts() #100% drop this column"
      ],
      "metadata": {
        "colab": {
          "base_uri": "https://localhost:8080/"
        },
        "id": "H5NU-BEBuBWe",
        "outputId": "4ca101a2-8bfa-4e5d-8c5f-054915629cd7"
      },
      "execution_count": 32,
      "outputs": [
        {
          "output_type": "execute_result",
          "data": {
            "text/plain": [
              "No        101743\n",
              "Steady        23\n",
              "Name: tolbutamide, dtype: int64"
            ]
          },
          "metadata": {},
          "execution_count": 32
        }
      ]
    },
    {
      "cell_type": "code",
      "source": [
        "diabetes_df['pioglitazone'].value_counts() #94% No"
      ],
      "metadata": {
        "colab": {
          "base_uri": "https://localhost:8080/"
        },
        "id": "7dCqf2FuuSem",
        "outputId": "57d04140-565f-4af9-df93-524bdc70c9a5"
      },
      "execution_count": 33,
      "outputs": [
        {
          "output_type": "execute_result",
          "data": {
            "text/plain": [
              "No        94438\n",
              "Steady     6976\n",
              "Up          234\n",
              "Down        118\n",
              "Name: pioglitazone, dtype: int64"
            ]
          },
          "metadata": {},
          "execution_count": 33
        }
      ]
    },
    {
      "cell_type": "code",
      "source": [
        "diabetes_df['rosiglitazone'].value_counts() #95% No"
      ],
      "metadata": {
        "colab": {
          "base_uri": "https://localhost:8080/"
        },
        "id": "Eq33fE3q2JlI",
        "outputId": "2b88192d-435b-4e6a-a8ca-105960865ae8"
      },
      "execution_count": 34,
      "outputs": [
        {
          "output_type": "execute_result",
          "data": {
            "text/plain": [
              "No        95401\n",
              "Steady     6100\n",
              "Up          178\n",
              "Down         87\n",
              "Name: rosiglitazone, dtype: int64"
            ]
          },
          "metadata": {},
          "execution_count": 34
        }
      ]
    },
    {
      "cell_type": "code",
      "source": [
        "diabetes_df['acarbose'].value_counts() #100% drop this column"
      ],
      "metadata": {
        "colab": {
          "base_uri": "https://localhost:8080/"
        },
        "id": "LFDqxKHl3JKV",
        "outputId": "a147b42a-7260-4e4f-d83d-1bdd1bb04335"
      },
      "execution_count": 35,
      "outputs": [
        {
          "output_type": "execute_result",
          "data": {
            "text/plain": [
              "No        101458\n",
              "Steady       295\n",
              "Up            10\n",
              "Down           3\n",
              "Name: acarbose, dtype: int64"
            ]
          },
          "metadata": {},
          "execution_count": 35
        }
      ]
    },
    {
      "cell_type": "code",
      "source": [
        "diabetes_df['miglitol'].value_counts() #100% drop this column"
      ],
      "metadata": {
        "colab": {
          "base_uri": "https://localhost:8080/"
        },
        "id": "rgvGzgdu3r2o",
        "outputId": "02ae528c-4765-435e-a8dd-4b0d690c88bd"
      },
      "execution_count": 36,
      "outputs": [
        {
          "output_type": "execute_result",
          "data": {
            "text/plain": [
              "No        101728\n",
              "Steady        31\n",
              "Down           5\n",
              "Up             2\n",
              "Name: miglitol, dtype: int64"
            ]
          },
          "metadata": {},
          "execution_count": 36
        }
      ]
    },
    {
      "cell_type": "code",
      "source": [
        "diabetes_df['troglitazone'].value_counts() #100% drop this column"
      ],
      "metadata": {
        "colab": {
          "base_uri": "https://localhost:8080/"
        },
        "id": "0TWtE5QQ4M7s",
        "outputId": "b07d4200-cf4d-4673-9f27-72f10f259813"
      },
      "execution_count": 37,
      "outputs": [
        {
          "output_type": "execute_result",
          "data": {
            "text/plain": [
              "No        101763\n",
              "Steady         3\n",
              "Name: troglitazone, dtype: int64"
            ]
          },
          "metadata": {},
          "execution_count": 37
        }
      ]
    },
    {
      "cell_type": "code",
      "source": [
        "diabetes_df['tolazamide'].value_counts() #100% drop this column"
      ],
      "metadata": {
        "colab": {
          "base_uri": "https://localhost:8080/"
        },
        "id": "oIVtO8F54nP5",
        "outputId": "5ccc59a6-8fb6-4d1a-f5c7-b1402e2fe0a1"
      },
      "execution_count": 38,
      "outputs": [
        {
          "output_type": "execute_result",
          "data": {
            "text/plain": [
              "No        101727\n",
              "Steady        38\n",
              "Up             1\n",
              "Name: tolazamide, dtype: int64"
            ]
          },
          "metadata": {},
          "execution_count": 38
        }
      ]
    },
    {
      "cell_type": "code",
      "source": [
        "diabetes_df['examide'].value_counts() #100% drop this column"
      ],
      "metadata": {
        "colab": {
          "base_uri": "https://localhost:8080/"
        },
        "id": "aTvz_h0j5IC4",
        "outputId": "9bd99856-be90-4ee3-dfc7-2ed801cbc2d9"
      },
      "execution_count": 39,
      "outputs": [
        {
          "output_type": "execute_result",
          "data": {
            "text/plain": [
              "No    101766\n",
              "Name: examide, dtype: int64"
            ]
          },
          "metadata": {},
          "execution_count": 39
        }
      ]
    },
    {
      "cell_type": "code",
      "source": [
        "diabetes_df['citoglipton'].value_counts() #100% drop this column"
      ],
      "metadata": {
        "colab": {
          "base_uri": "https://localhost:8080/"
        },
        "id": "rZYK12c55d_Q",
        "outputId": "e46be566-0773-4c1e-a426-2e7a74d309f9"
      },
      "execution_count": 40,
      "outputs": [
        {
          "output_type": "execute_result",
          "data": {
            "text/plain": [
              "No    101766\n",
              "Name: citoglipton, dtype: int64"
            ]
          },
          "metadata": {},
          "execution_count": 40
        }
      ]
    },
    {
      "cell_type": "code",
      "source": [
        "diabetes_df['insulin'].value_counts() #47% no"
      ],
      "metadata": {
        "colab": {
          "base_uri": "https://localhost:8080/"
        },
        "id": "ihCR3g_q5xov",
        "outputId": "b74b9f40-3128-44f8-ca34-b2c852caba7e"
      },
      "execution_count": 41,
      "outputs": [
        {
          "output_type": "execute_result",
          "data": {
            "text/plain": [
              "No        47383\n",
              "Steady    30849\n",
              "Down      12218\n",
              "Up        11316\n",
              "Name: insulin, dtype: int64"
            ]
          },
          "metadata": {},
          "execution_count": 41
        }
      ]
    },
    {
      "cell_type": "code",
      "source": [
        "diabetes_df['glyburide-metformin'].value_counts() #100% drop this column"
      ],
      "metadata": {
        "colab": {
          "base_uri": "https://localhost:8080/"
        },
        "id": "hMHpYV1m55T7",
        "outputId": "d7494b8e-a1a9-4b7b-eea6-264ca76ed33a"
      },
      "execution_count": 42,
      "outputs": [
        {
          "output_type": "execute_result",
          "data": {
            "text/plain": [
              "No        101060\n",
              "Steady       692\n",
              "Up             8\n",
              "Down           6\n",
              "Name: glyburide-metformin, dtype: int64"
            ]
          },
          "metadata": {},
          "execution_count": 42
        }
      ]
    },
    {
      "cell_type": "code",
      "source": [
        "diabetes_df['glipizide-metformin'].value_counts() #100% drop this column"
      ],
      "metadata": {
        "colab": {
          "base_uri": "https://localhost:8080/"
        },
        "id": "hwZefMG86Brl",
        "outputId": "3d4d61ea-2f83-44d3-eea2-4785e92c8f0c"
      },
      "execution_count": 43,
      "outputs": [
        {
          "output_type": "execute_result",
          "data": {
            "text/plain": [
              "No        101753\n",
              "Steady        13\n",
              "Name: glipizide-metformin, dtype: int64"
            ]
          },
          "metadata": {},
          "execution_count": 43
        }
      ]
    },
    {
      "cell_type": "code",
      "source": [
        "diabetes_df['glimepiride-pioglitazone'].value_counts() #100% drop this column"
      ],
      "metadata": {
        "colab": {
          "base_uri": "https://localhost:8080/"
        },
        "id": "HcfwxuNB6OOW",
        "outputId": "d523178f-a855-46f8-fc35-239c9d211fc9"
      },
      "execution_count": 44,
      "outputs": [
        {
          "output_type": "execute_result",
          "data": {
            "text/plain": [
              "No        101765\n",
              "Steady         1\n",
              "Name: glimepiride-pioglitazone, dtype: int64"
            ]
          },
          "metadata": {},
          "execution_count": 44
        }
      ]
    },
    {
      "cell_type": "code",
      "source": [
        "diabetes_df['metformin-rosiglitazone'].value_counts() #100% drop this column"
      ],
      "metadata": {
        "colab": {
          "base_uri": "https://localhost:8080/"
        },
        "id": "-O9WvYVB6joy",
        "outputId": "070011dd-2cb0-4ddd-a77c-902573680c42"
      },
      "execution_count": 45,
      "outputs": [
        {
          "output_type": "execute_result",
          "data": {
            "text/plain": [
              "No        101764\n",
              "Steady         2\n",
              "Name: metformin-rosiglitazone, dtype: int64"
            ]
          },
          "metadata": {},
          "execution_count": 45
        }
      ]
    },
    {
      "cell_type": "code",
      "source": [
        "diabetes_df['metformin-pioglitazone'].value_counts() #100% drop this column"
      ],
      "metadata": {
        "colab": {
          "base_uri": "https://localhost:8080/"
        },
        "id": "WBd8pr8P6jfc",
        "outputId": "ca1a8e23-47e7-4d2f-8bff-3789f73b7b68"
      },
      "execution_count": 46,
      "outputs": [
        {
          "output_type": "execute_result",
          "data": {
            "text/plain": [
              "No        101765\n",
              "Steady         1\n",
              "Name: metformin-pioglitazone, dtype: int64"
            ]
          },
          "metadata": {},
          "execution_count": 46
        }
      ]
    },
    {
      "cell_type": "code",
      "source": [
        "diabetes_df['change'].value_counts() # 54% No"
      ],
      "metadata": {
        "colab": {
          "base_uri": "https://localhost:8080/"
        },
        "id": "Nfikj0kW6i9L",
        "outputId": "504cf5fd-4fd2-4a2c-8727-bc4d38bf1771"
      },
      "execution_count": 47,
      "outputs": [
        {
          "output_type": "execute_result",
          "data": {
            "text/plain": [
              "No    54755\n",
              "Ch    47011\n",
              "Name: change, dtype: int64"
            ]
          },
          "metadata": {},
          "execution_count": 47
        }
      ]
    },
    {
      "cell_type": "code",
      "source": [
        "diabetes_df['diabetesMed'].value_counts() # 78% Yes"
      ],
      "metadata": {
        "colab": {
          "base_uri": "https://localhost:8080/"
        },
        "id": "iQ_HP51L7WUT",
        "outputId": "a6b9a3aa-f36f-4613-c7ce-2158d33b1001"
      },
      "execution_count": 48,
      "outputs": [
        {
          "output_type": "execute_result",
          "data": {
            "text/plain": [
              "Yes    78363\n",
              "No     23403\n",
              "Name: diabetesMed, dtype: int64"
            ]
          },
          "metadata": {},
          "execution_count": 48
        }
      ]
    },
    {
      "cell_type": "code",
      "source": [
        "diabetes_df['readmitted'].value_counts() # 54% No"
      ],
      "metadata": {
        "colab": {
          "base_uri": "https://localhost:8080/"
        },
        "id": "NL7-Mjxn7g-r",
        "outputId": "d8c36242-6c57-4a68-a47f-c7114ac08bca"
      },
      "execution_count": 49,
      "outputs": [
        {
          "output_type": "execute_result",
          "data": {
            "text/plain": [
              "NO     54864\n",
              ">30    35545\n",
              "<30    11357\n",
              "Name: readmitted, dtype: int64"
            ]
          },
          "metadata": {},
          "execution_count": 49
        }
      ]
    },
    {
      "cell_type": "markdown",
      "source": [
        "As we can see at least 4 columns with question marks:\n",
        "\n",
        "- 'race', 'weight', 'payer_code', 'medical_specialty'.\n",
        "\n",
        "Some columns should be dropped regarding their low dispersion:\n",
        "\n",
        "- 'chlorpropamide', 'acetohexamide', 'tolbutamide', 'acarbose', 'miglitol', 'troglitazone', 'tolazamide', 'examide', 'citoglipton', 'glyburide-metformin', 'glipizide-metformin', 'glimepiride-pioglitazone', 'metformin-rosiglitazone', 'metformin-pioglitazone'\n",
        "\n"
      ],
      "metadata": {
        "id": "FDp0LoBc8gcD"
      }
    },
    {
      "cell_type": "code",
      "source": [
        "columns_to_drop = [\n",
        " 'chlorpropamide',\n",
        " 'acetohexamide',\n",
        " 'tolbutamide',\n",
        " 'acarbose',\n",
        " 'miglitol',\n",
        " 'troglitazone',\n",
        " 'tolazamide',\n",
        " 'examide',\n",
        " 'citoglipton',\n",
        " 'glyburide-metformin',\n",
        " 'glipizide-metformin',\n",
        " 'glimepiride-pioglitazone',\n",
        " 'metformin-rosiglitazone',\n",
        " 'metformin-pioglitazone'\n",
        " ]\n",
        "diabetes_df.drop(columns=columns_to_drop, axis = 1, inplace = True)\n",
        "diabetes_df.shape"
      ],
      "metadata": {
        "colab": {
          "base_uri": "https://localhost:8080/"
        },
        "id": "OrmRbdI5GyMM",
        "outputId": "c2bef9be-88c5-4c65-f1e3-f959cba8a8b0"
      },
      "execution_count": 51,
      "outputs": [
        {
          "output_type": "execute_result",
          "data": {
            "text/plain": [
              "(101766, 36)"
            ]
          },
          "metadata": {},
          "execution_count": 51
        }
      ]
    },
    {
      "cell_type": "markdown",
      "source": [
        "In the IDS_mapping.csv file the word \"death\" is not found, however hospitals use the word \"expired\" for patients. Also \"hospice\" is used to address patients with life expectancy of less than 6 months. Therefore,  rows with discharge_disposition_id in (11, 13, 14, 19, 20, 21) will removed from diabetes_df."
      ],
      "metadata": {
        "id": "JlHqmG3vLuMD"
      }
    },
    {
      "cell_type": "code",
      "source": [
        "diabetes_df = diabetes_df[~diabetes_df.discharge_disposition_id.isin([11, 13, 14, 19, 20, 21])]"
      ],
      "metadata": {
        "id": "AdWl3KFRLqWv"
      },
      "execution_count": 52,
      "outputs": []
    },
    {
      "cell_type": "code",
      "source": [
        "diabetes_df.shape"
      ],
      "metadata": {
        "colab": {
          "base_uri": "https://localhost:8080/"
        },
        "id": "X1CBVjAuMYJ6",
        "outputId": "f1282293-cf76-4163-eb2b-004946424a6d"
      },
      "execution_count": 53,
      "outputs": [
        {
          "output_type": "execute_result",
          "data": {
            "text/plain": [
              "(99343, 36)"
            ]
          },
          "metadata": {},
          "execution_count": 53
        }
      ]
    },
    {
      "cell_type": "code",
      "source": [
        "diabetes_df.head()"
      ],
      "metadata": {
        "colab": {
          "base_uri": "https://localhost:8080/",
          "height": 342
        },
        "id": "zDxKDvK8ObtC",
        "outputId": "f35e1f5e-0193-411c-956f-77ac49855631"
      },
      "execution_count": 54,
      "outputs": [
        {
          "output_type": "execute_result",
          "data": {
            "text/plain": [
              "   encounter_id  patient_nbr             race  gender      age weight  \\\n",
              "0       2278392      8222157        Caucasian  Female   [0-10)      ?   \n",
              "1        149190     55629189        Caucasian  Female  [10-20)      ?   \n",
              "2         64410     86047875  AfricanAmerican  Female  [20-30)      ?   \n",
              "3        500364     82442376        Caucasian    Male  [30-40)      ?   \n",
              "4         16680     42519267        Caucasian    Male  [40-50)      ?   \n",
              "\n",
              "   admission_type_id  discharge_disposition_id  admission_source_id  \\\n",
              "0                  6                        25                    1   \n",
              "1                  1                         1                    7   \n",
              "2                  1                         1                    7   \n",
              "3                  1                         1                    7   \n",
              "4                  1                         1                    7   \n",
              "\n",
              "   time_in_hospital  ... nateglinide glimepiride  glipizide  glyburide  \\\n",
              "0                 1  ...          No          No         No         No   \n",
              "1                 3  ...          No          No         No         No   \n",
              "2                 2  ...          No          No     Steady         No   \n",
              "3                 2  ...          No          No         No         No   \n",
              "4                 1  ...          No          No     Steady         No   \n",
              "\n",
              "   pioglitazone  rosiglitazone  insulin  change diabetesMed readmitted  \n",
              "0            No             No       No      No          No         NO  \n",
              "1            No             No       Up      Ch         Yes        >30  \n",
              "2            No             No       No      No         Yes         NO  \n",
              "3            No             No       Up      Ch         Yes         NO  \n",
              "4            No             No   Steady      Ch         Yes         NO  \n",
              "\n",
              "[5 rows x 36 columns]"
            ],
            "text/html": [
              "\n",
              "  <div id=\"df-0649508b-da67-4651-b2d3-7fb973c5507f\" class=\"colab-df-container\">\n",
              "    <div>\n",
              "<style scoped>\n",
              "    .dataframe tbody tr th:only-of-type {\n",
              "        vertical-align: middle;\n",
              "    }\n",
              "\n",
              "    .dataframe tbody tr th {\n",
              "        vertical-align: top;\n",
              "    }\n",
              "\n",
              "    .dataframe thead th {\n",
              "        text-align: right;\n",
              "    }\n",
              "</style>\n",
              "<table border=\"1\" class=\"dataframe\">\n",
              "  <thead>\n",
              "    <tr style=\"text-align: right;\">\n",
              "      <th></th>\n",
              "      <th>encounter_id</th>\n",
              "      <th>patient_nbr</th>\n",
              "      <th>race</th>\n",
              "      <th>gender</th>\n",
              "      <th>age</th>\n",
              "      <th>weight</th>\n",
              "      <th>admission_type_id</th>\n",
              "      <th>discharge_disposition_id</th>\n",
              "      <th>admission_source_id</th>\n",
              "      <th>time_in_hospital</th>\n",
              "      <th>...</th>\n",
              "      <th>nateglinide</th>\n",
              "      <th>glimepiride</th>\n",
              "      <th>glipizide</th>\n",
              "      <th>glyburide</th>\n",
              "      <th>pioglitazone</th>\n",
              "      <th>rosiglitazone</th>\n",
              "      <th>insulin</th>\n",
              "      <th>change</th>\n",
              "      <th>diabetesMed</th>\n",
              "      <th>readmitted</th>\n",
              "    </tr>\n",
              "  </thead>\n",
              "  <tbody>\n",
              "    <tr>\n",
              "      <th>0</th>\n",
              "      <td>2278392</td>\n",
              "      <td>8222157</td>\n",
              "      <td>Caucasian</td>\n",
              "      <td>Female</td>\n",
              "      <td>[0-10)</td>\n",
              "      <td>?</td>\n",
              "      <td>6</td>\n",
              "      <td>25</td>\n",
              "      <td>1</td>\n",
              "      <td>1</td>\n",
              "      <td>...</td>\n",
              "      <td>No</td>\n",
              "      <td>No</td>\n",
              "      <td>No</td>\n",
              "      <td>No</td>\n",
              "      <td>No</td>\n",
              "      <td>No</td>\n",
              "      <td>No</td>\n",
              "      <td>No</td>\n",
              "      <td>No</td>\n",
              "      <td>NO</td>\n",
              "    </tr>\n",
              "    <tr>\n",
              "      <th>1</th>\n",
              "      <td>149190</td>\n",
              "      <td>55629189</td>\n",
              "      <td>Caucasian</td>\n",
              "      <td>Female</td>\n",
              "      <td>[10-20)</td>\n",
              "      <td>?</td>\n",
              "      <td>1</td>\n",
              "      <td>1</td>\n",
              "      <td>7</td>\n",
              "      <td>3</td>\n",
              "      <td>...</td>\n",
              "      <td>No</td>\n",
              "      <td>No</td>\n",
              "      <td>No</td>\n",
              "      <td>No</td>\n",
              "      <td>No</td>\n",
              "      <td>No</td>\n",
              "      <td>Up</td>\n",
              "      <td>Ch</td>\n",
              "      <td>Yes</td>\n",
              "      <td>&gt;30</td>\n",
              "    </tr>\n",
              "    <tr>\n",
              "      <th>2</th>\n",
              "      <td>64410</td>\n",
              "      <td>86047875</td>\n",
              "      <td>AfricanAmerican</td>\n",
              "      <td>Female</td>\n",
              "      <td>[20-30)</td>\n",
              "      <td>?</td>\n",
              "      <td>1</td>\n",
              "      <td>1</td>\n",
              "      <td>7</td>\n",
              "      <td>2</td>\n",
              "      <td>...</td>\n",
              "      <td>No</td>\n",
              "      <td>No</td>\n",
              "      <td>Steady</td>\n",
              "      <td>No</td>\n",
              "      <td>No</td>\n",
              "      <td>No</td>\n",
              "      <td>No</td>\n",
              "      <td>No</td>\n",
              "      <td>Yes</td>\n",
              "      <td>NO</td>\n",
              "    </tr>\n",
              "    <tr>\n",
              "      <th>3</th>\n",
              "      <td>500364</td>\n",
              "      <td>82442376</td>\n",
              "      <td>Caucasian</td>\n",
              "      <td>Male</td>\n",
              "      <td>[30-40)</td>\n",
              "      <td>?</td>\n",
              "      <td>1</td>\n",
              "      <td>1</td>\n",
              "      <td>7</td>\n",
              "      <td>2</td>\n",
              "      <td>...</td>\n",
              "      <td>No</td>\n",
              "      <td>No</td>\n",
              "      <td>No</td>\n",
              "      <td>No</td>\n",
              "      <td>No</td>\n",
              "      <td>No</td>\n",
              "      <td>Up</td>\n",
              "      <td>Ch</td>\n",
              "      <td>Yes</td>\n",
              "      <td>NO</td>\n",
              "    </tr>\n",
              "    <tr>\n",
              "      <th>4</th>\n",
              "      <td>16680</td>\n",
              "      <td>42519267</td>\n",
              "      <td>Caucasian</td>\n",
              "      <td>Male</td>\n",
              "      <td>[40-50)</td>\n",
              "      <td>?</td>\n",
              "      <td>1</td>\n",
              "      <td>1</td>\n",
              "      <td>7</td>\n",
              "      <td>1</td>\n",
              "      <td>...</td>\n",
              "      <td>No</td>\n",
              "      <td>No</td>\n",
              "      <td>Steady</td>\n",
              "      <td>No</td>\n",
              "      <td>No</td>\n",
              "      <td>No</td>\n",
              "      <td>Steady</td>\n",
              "      <td>Ch</td>\n",
              "      <td>Yes</td>\n",
              "      <td>NO</td>\n",
              "    </tr>\n",
              "  </tbody>\n",
              "</table>\n",
              "<p>5 rows × 36 columns</p>\n",
              "</div>\n",
              "    <div class=\"colab-df-buttons\">\n",
              "\n",
              "  <div class=\"colab-df-container\">\n",
              "    <button class=\"colab-df-convert\" onclick=\"convertToInteractive('df-0649508b-da67-4651-b2d3-7fb973c5507f')\"\n",
              "            title=\"Convert this dataframe to an interactive table.\"\n",
              "            style=\"display:none;\">\n",
              "\n",
              "  <svg xmlns=\"http://www.w3.org/2000/svg\" height=\"24px\" viewBox=\"0 -960 960 960\">\n",
              "    <path d=\"M120-120v-720h720v720H120Zm60-500h600v-160H180v160Zm220 220h160v-160H400v160Zm0 220h160v-160H400v160ZM180-400h160v-160H180v160Zm440 0h160v-160H620v160ZM180-180h160v-160H180v160Zm440 0h160v-160H620v160Z\"/>\n",
              "  </svg>\n",
              "    </button>\n",
              "\n",
              "  <style>\n",
              "    .colab-df-container {\n",
              "      display:flex;\n",
              "      gap: 12px;\n",
              "    }\n",
              "\n",
              "    .colab-df-convert {\n",
              "      background-color: #E8F0FE;\n",
              "      border: none;\n",
              "      border-radius: 50%;\n",
              "      cursor: pointer;\n",
              "      display: none;\n",
              "      fill: #1967D2;\n",
              "      height: 32px;\n",
              "      padding: 0 0 0 0;\n",
              "      width: 32px;\n",
              "    }\n",
              "\n",
              "    .colab-df-convert:hover {\n",
              "      background-color: #E2EBFA;\n",
              "      box-shadow: 0px 1px 2px rgba(60, 64, 67, 0.3), 0px 1px 3px 1px rgba(60, 64, 67, 0.15);\n",
              "      fill: #174EA6;\n",
              "    }\n",
              "\n",
              "    .colab-df-buttons div {\n",
              "      margin-bottom: 4px;\n",
              "    }\n",
              "\n",
              "    [theme=dark] .colab-df-convert {\n",
              "      background-color: #3B4455;\n",
              "      fill: #D2E3FC;\n",
              "    }\n",
              "\n",
              "    [theme=dark] .colab-df-convert:hover {\n",
              "      background-color: #434B5C;\n",
              "      box-shadow: 0px 1px 3px 1px rgba(0, 0, 0, 0.15);\n",
              "      filter: drop-shadow(0px 1px 2px rgba(0, 0, 0, 0.3));\n",
              "      fill: #FFFFFF;\n",
              "    }\n",
              "  </style>\n",
              "\n",
              "    <script>\n",
              "      const buttonEl =\n",
              "        document.querySelector('#df-0649508b-da67-4651-b2d3-7fb973c5507f button.colab-df-convert');\n",
              "      buttonEl.style.display =\n",
              "        google.colab.kernel.accessAllowed ? 'block' : 'none';\n",
              "\n",
              "      async function convertToInteractive(key) {\n",
              "        const element = document.querySelector('#df-0649508b-da67-4651-b2d3-7fb973c5507f');\n",
              "        const dataTable =\n",
              "          await google.colab.kernel.invokeFunction('convertToInteractive',\n",
              "                                                    [key], {});\n",
              "        if (!dataTable) return;\n",
              "\n",
              "        const docLinkHtml = 'Like what you see? Visit the ' +\n",
              "          '<a target=\"_blank\" href=https://colab.research.google.com/notebooks/data_table.ipynb>data table notebook</a>'\n",
              "          + ' to learn more about interactive tables.';\n",
              "        element.innerHTML = '';\n",
              "        dataTable['output_type'] = 'display_data';\n",
              "        await google.colab.output.renderOutput(dataTable, element);\n",
              "        const docLink = document.createElement('div');\n",
              "        docLink.innerHTML = docLinkHtml;\n",
              "        element.appendChild(docLink);\n",
              "      }\n",
              "    </script>\n",
              "  </div>\n",
              "\n",
              "\n",
              "<div id=\"df-e363572a-6522-466f-935a-d9780cdb2127\">\n",
              "  <button class=\"colab-df-quickchart\" onclick=\"quickchart('df-e363572a-6522-466f-935a-d9780cdb2127')\"\n",
              "            title=\"Suggest charts.\"\n",
              "            style=\"display:none;\">\n",
              "\n",
              "<svg xmlns=\"http://www.w3.org/2000/svg\" height=\"24px\"viewBox=\"0 0 24 24\"\n",
              "     width=\"24px\">\n",
              "    <g>\n",
              "        <path d=\"M19 3H5c-1.1 0-2 .9-2 2v14c0 1.1.9 2 2 2h14c1.1 0 2-.9 2-2V5c0-1.1-.9-2-2-2zM9 17H7v-7h2v7zm4 0h-2V7h2v10zm4 0h-2v-4h2v4z\"/>\n",
              "    </g>\n",
              "</svg>\n",
              "  </button>\n",
              "\n",
              "<style>\n",
              "  .colab-df-quickchart {\n",
              "    background-color: #E8F0FE;\n",
              "    border: none;\n",
              "    border-radius: 50%;\n",
              "    cursor: pointer;\n",
              "    display: none;\n",
              "    fill: #1967D2;\n",
              "    height: 32px;\n",
              "    padding: 0 0 0 0;\n",
              "    width: 32px;\n",
              "  }\n",
              "\n",
              "  .colab-df-quickchart:hover {\n",
              "    background-color: #E2EBFA;\n",
              "    box-shadow: 0px 1px 2px rgba(60, 64, 67, 0.3), 0px 1px 3px 1px rgba(60, 64, 67, 0.15);\n",
              "    fill: #174EA6;\n",
              "  }\n",
              "\n",
              "  [theme=dark] .colab-df-quickchart {\n",
              "    background-color: #3B4455;\n",
              "    fill: #D2E3FC;\n",
              "  }\n",
              "\n",
              "  [theme=dark] .colab-df-quickchart:hover {\n",
              "    background-color: #434B5C;\n",
              "    box-shadow: 0px 1px 3px 1px rgba(0, 0, 0, 0.15);\n",
              "    filter: drop-shadow(0px 1px 2px rgba(0, 0, 0, 0.3));\n",
              "    fill: #FFFFFF;\n",
              "  }\n",
              "</style>\n",
              "\n",
              "  <script>\n",
              "    async function quickchart(key) {\n",
              "      const charts = await google.colab.kernel.invokeFunction(\n",
              "          'suggestCharts', [key], {});\n",
              "    }\n",
              "    (() => {\n",
              "      let quickchartButtonEl =\n",
              "        document.querySelector('#df-e363572a-6522-466f-935a-d9780cdb2127 button');\n",
              "      quickchartButtonEl.style.display =\n",
              "        google.colab.kernel.accessAllowed ? 'block' : 'none';\n",
              "    })();\n",
              "  </script>\n",
              "</div>\n",
              "    </div>\n",
              "  </div>\n"
            ]
          },
          "metadata": {},
          "execution_count": 54
        }
      ]
    },
    {
      "cell_type": "markdown",
      "source": [
        "# **2. Feature Engineering**"
      ],
      "metadata": {
        "id": "vXrGFDWl0KRh"
      }
    },
    {
      "cell_type": "code",
      "source": [
        "#Creating a new label for patients readmitted in less than 30 days\n",
        "diabetes_df['label']= (diabetes_df.readmitted == '<30').astype('int')"
      ],
      "metadata": {
        "id": "wyGLJ1PrFYKP"
      },
      "execution_count": 55,
      "outputs": []
    },
    {
      "cell_type": "code",
      "source": [
        "#replacing the question mark (?) for NaN\n",
        "diabetes_df = diabetes_df.replace('?', np.nan)"
      ],
      "metadata": {
        "id": "fo3zZuh8PQbS"
      },
      "execution_count": 56,
      "outputs": []
    },
    {
      "cell_type": "markdown",
      "source": [
        "Numerical columns"
      ],
      "metadata": {
        "id": "z09GoYlERqMT"
      }
    },
    {
      "cell_type": "code",
      "source": [
        "numerical_column_names = [column for column in diabetes_df.columns if diabetes_df[column].dtype == 'int64']\n",
        "numerical_column_names"
      ],
      "metadata": {
        "colab": {
          "base_uri": "https://localhost:8080/"
        },
        "id": "ri3DfEBDQOk-",
        "outputId": "1139e7d5-7cf3-4bb6-ca74-6f774faf7ca8"
      },
      "execution_count": 57,
      "outputs": [
        {
          "output_type": "execute_result",
          "data": {
            "text/plain": [
              "['encounter_id',\n",
              " 'patient_nbr',\n",
              " 'admission_type_id',\n",
              " 'discharge_disposition_id',\n",
              " 'admission_source_id',\n",
              " 'time_in_hospital',\n",
              " 'num_lab_procedures',\n",
              " 'num_procedures',\n",
              " 'num_medications',\n",
              " 'number_outpatient',\n",
              " 'number_emergency',\n",
              " 'number_inpatient',\n",
              " 'number_diagnoses',\n",
              " 'label']"
            ]
          },
          "metadata": {},
          "execution_count": 57
        }
      ]
    },
    {
      "cell_type": "markdown",
      "source": [
        "- encounter_id and patient_nbr are identifiers\n",
        "- admission_type_id, discharge_disposition_id, admission_source_id should categorical.\n",
        "\n",
        "Then only the following columns will be considered numerical:\n"
      ],
      "metadata": {
        "id": "MRojKDoHO0lM"
      }
    },
    {
      "cell_type": "code",
      "source": [
        "#final numerical columns\n",
        "numerical_column_names = [\n",
        " 'time_in_hospital',\n",
        " 'num_lab_procedures',\n",
        " 'num_procedures',\n",
        " 'num_medications',\n",
        " 'number_outpatient',\n",
        " 'number_emergency',\n",
        " 'number_inpatient',\n",
        " 'number_diagnoses']"
      ],
      "metadata": {
        "id": "RthQvl0nQ-Tn"
      },
      "execution_count": 58,
      "outputs": []
    },
    {
      "cell_type": "markdown",
      "source": [
        "Categorical columns"
      ],
      "metadata": {
        "id": "XVDhcYNJR2IX"
      }
    },
    {
      "cell_type": "code",
      "source": [
        "#these columns should be not numericals\n",
        "diabetes_df[['admission_type_id', 'discharge_disposition_id', 'admission_source_id']] = diabetes_df[['admission_type_id', 'discharge_disposition_id', 'admission_source_id']].astype('str')"
      ],
      "metadata": {
        "id": "PjdgZryhfB-s"
      },
      "execution_count": 59,
      "outputs": []
    },
    {
      "cell_type": "code",
      "source": [
        "categorical_column_names = [column for column in diabetes_df.columns if diabetes_df[column].dtype == 'object']\n",
        "categorical_column_names"
      ],
      "metadata": {
        "colab": {
          "base_uri": "https://localhost:8080/"
        },
        "id": "0wN1LzlvSEbs",
        "outputId": "c3ccb7dc-a5e1-4b73-fafd-b650bb93cf61"
      },
      "execution_count": 60,
      "outputs": [
        {
          "output_type": "execute_result",
          "data": {
            "text/plain": [
              "['race',\n",
              " 'gender',\n",
              " 'age',\n",
              " 'weight',\n",
              " 'admission_type_id',\n",
              " 'discharge_disposition_id',\n",
              " 'admission_source_id',\n",
              " 'payer_code',\n",
              " 'medical_specialty',\n",
              " 'diag_1',\n",
              " 'diag_2',\n",
              " 'diag_3',\n",
              " 'max_glu_serum',\n",
              " 'A1Cresult',\n",
              " 'metformin',\n",
              " 'repaglinide',\n",
              " 'nateglinide',\n",
              " 'glimepiride',\n",
              " 'glipizide',\n",
              " 'glyburide',\n",
              " 'pioglitazone',\n",
              " 'rosiglitazone',\n",
              " 'insulin',\n",
              " 'change',\n",
              " 'diabetesMed',\n",
              " 'readmitted']"
            ]
          },
          "metadata": {},
          "execution_count": 60
        }
      ]
    },
    {
      "cell_type": "markdown",
      "source": [
        "- 'medical_specialty', 'age' and 'weight' will be analyzed later since there are 73 different specialties and age and weight in this dataset are categorical.\n",
        "- Given the dispersion of 'diag_1', 'diag_2', 'diag_3' they will be dropped, however the variable number_diagnoses might summarizes the previos three variables.\n",
        "- 'readmitted' is no longer necessary\n",
        "\n",
        "The first group of categorical columns will be"
      ],
      "metadata": {
        "id": "ycVKN730VjKc"
      }
    },
    {
      "cell_type": "code",
      "source": [
        "cat_columns_1 = ['race',\n",
        " 'gender',\n",
        " 'payer_code',\n",
        " 'max_glu_serum',\n",
        " 'A1Cresult',\n",
        " 'metformin',\n",
        " 'repaglinide',\n",
        " 'nateglinide',\n",
        " 'glimepiride',\n",
        " 'glipizide',\n",
        " 'glyburide',\n",
        " 'pioglitazone',\n",
        " 'rosiglitazone',\n",
        " 'insulin',\n",
        " 'change',\n",
        " 'diabetesMed']"
      ],
      "metadata": {
        "id": "QxMgNZA2Xck_"
      },
      "execution_count": 61,
      "outputs": []
    },
    {
      "cell_type": "code",
      "source": [
        "#dealing with missing data in race, payer_code and medical_speciality\n",
        "diabetes_df['race'] = diabetes_df['race'].fillna('NA')\n",
        "diabetes_df['payer_code'] = diabetes_df['payer_code'].fillna('NA')\n",
        "diabetes_df['medical_specialty'] = diabetes_df['medical_specialty'].fillna('NA')"
      ],
      "metadata": {
        "id": "y3-OzQlFXuYN"
      },
      "execution_count": 62,
      "outputs": []
    },
    {
      "cell_type": "markdown",
      "source": [
        "As we have seen in the EDA stage, medical_specialty has 73 different type of values, where almost 50% were marked with \"?\" (now 'NA'). We can group this columns in its top 5 most representative specialties beside 'NA':"
      ],
      "metadata": {
        "id": "Yq1ORDAhZE1d"
      }
    },
    {
      "cell_type": "code",
      "source": [
        "diabetes_df.groupby('medical_specialty').size().sort_values(ascending = False).head(7)\n",
        "#observe that the 6th (beside NA) would be Nephrology with 1.5K cases over 101K"
      ],
      "metadata": {
        "colab": {
          "base_uri": "https://localhost:8080/"
        },
        "id": "InLicRMoaFLb",
        "outputId": "5fc890f6-1a2d-40b1-fd6b-5e3d0f6b2200"
      },
      "execution_count": 63,
      "outputs": [
        {
          "output_type": "execute_result",
          "data": {
            "text/plain": [
              "medical_specialty\n",
              "NA                        48616\n",
              "InternalMedicine          14237\n",
              "Emergency/Trauma           7419\n",
              "Family/GeneralPractice     7252\n",
              "Cardiology                 5279\n",
              "Surgery-General            3059\n",
              "Nephrology                 1539\n",
              "dtype: int64"
            ]
          },
          "metadata": {},
          "execution_count": 63
        }
      ]
    },
    {
      "cell_type": "code",
      "source": [
        "#final medical_specialties\n",
        "top_6 = ['NA', 'InternalMedicine', 'Emergency/Trauma', 'Family/GeneralPractice', 'Cardiology', 'Surgery-General'] #top 5 besides NA\n",
        "diabetes_df ['med_sp'] = diabetes_df['medical_specialty'].copy()\n",
        "#calling 'other' to specialties that are not in top 6\n",
        "diabetes_df.loc[~diabetes_df.med_sp.isin(top_6),'med_sp'] = 'other'\n"
      ],
      "metadata": {
        "id": "EvKmTNOHbGWt"
      },
      "execution_count": 64,
      "outputs": []
    },
    {
      "cell_type": "code",
      "source": [
        "cat_columns_2 = ['admission_type_id', 'discharge_disposition_id', 'admission_source_id']"
      ],
      "metadata": {
        "id": "1OOFldq7dCmq"
      },
      "execution_count": 65,
      "outputs": []
    },
    {
      "cell_type": "markdown",
      "source": [
        "One-hot encoding"
      ],
      "metadata": {
        "id": "tOd5gzQQgpLl"
      }
    },
    {
      "cell_type": "code",
      "source": [
        "df_cat = pd.get_dummies(diabetes_df[cat_columns_1+cat_columns_2+['med_sp']], drop_first= True)\n",
        "#droping a column in other to avoid correlated columns\n",
        "df_cat.head()"
      ],
      "metadata": {
        "colab": {
          "base_uri": "https://localhost:8080/",
          "height": 273
        },
        "id": "-axjePjNgshA",
        "outputId": "6e5394ff-3ea5-4a4e-cda0-9272868434be"
      },
      "execution_count": 66,
      "outputs": [
        {
          "output_type": "execute_result",
          "data": {
            "text/plain": [
              "   race_Asian  race_Caucasian  race_Hispanic  race_NA  race_Other  \\\n",
              "0           0               1              0        0           0   \n",
              "1           0               1              0        0           0   \n",
              "2           0               0              0        0           0   \n",
              "3           0               1              0        0           0   \n",
              "4           0               1              0        0           0   \n",
              "\n",
              "   gender_Male  gender_Unknown/Invalid  payer_code_CH  payer_code_CM  \\\n",
              "0            0                       0              0              0   \n",
              "1            0                       0              0              0   \n",
              "2            0                       0              0              0   \n",
              "3            1                       0              0              0   \n",
              "4            1                       0              0              0   \n",
              "\n",
              "   payer_code_CP  ...  admission_source_id_6  admission_source_id_7  \\\n",
              "0              0  ...                      0                      0   \n",
              "1              0  ...                      0                      1   \n",
              "2              0  ...                      0                      1   \n",
              "3              0  ...                      0                      1   \n",
              "4              0  ...                      0                      1   \n",
              "\n",
              "   admission_source_id_8  admission_source_id_9  med_sp_Emergency/Trauma  \\\n",
              "0                      0                      0                        0   \n",
              "1                      0                      0                        0   \n",
              "2                      0                      0                        0   \n",
              "3                      0                      0                        0   \n",
              "4                      0                      0                        0   \n",
              "\n",
              "   med_sp_Family/GeneralPractice  med_sp_InternalMedicine  med_sp_NA  \\\n",
              "0                              0                        0          0   \n",
              "1                              0                        0          1   \n",
              "2                              0                        0          1   \n",
              "3                              0                        0          1   \n",
              "4                              0                        0          1   \n",
              "\n",
              "   med_sp_Surgery-General  med_sp_other  \n",
              "0                       0             1  \n",
              "1                       0             0  \n",
              "2                       0             0  \n",
              "3                       0             0  \n",
              "4                       0             0  \n",
              "\n",
              "[5 rows x 108 columns]"
            ],
            "text/html": [
              "\n",
              "  <div id=\"df-3af33abf-af8b-4355-a4c2-97267808a449\" class=\"colab-df-container\">\n",
              "    <div>\n",
              "<style scoped>\n",
              "    .dataframe tbody tr th:only-of-type {\n",
              "        vertical-align: middle;\n",
              "    }\n",
              "\n",
              "    .dataframe tbody tr th {\n",
              "        vertical-align: top;\n",
              "    }\n",
              "\n",
              "    .dataframe thead th {\n",
              "        text-align: right;\n",
              "    }\n",
              "</style>\n",
              "<table border=\"1\" class=\"dataframe\">\n",
              "  <thead>\n",
              "    <tr style=\"text-align: right;\">\n",
              "      <th></th>\n",
              "      <th>race_Asian</th>\n",
              "      <th>race_Caucasian</th>\n",
              "      <th>race_Hispanic</th>\n",
              "      <th>race_NA</th>\n",
              "      <th>race_Other</th>\n",
              "      <th>gender_Male</th>\n",
              "      <th>gender_Unknown/Invalid</th>\n",
              "      <th>payer_code_CH</th>\n",
              "      <th>payer_code_CM</th>\n",
              "      <th>payer_code_CP</th>\n",
              "      <th>...</th>\n",
              "      <th>admission_source_id_6</th>\n",
              "      <th>admission_source_id_7</th>\n",
              "      <th>admission_source_id_8</th>\n",
              "      <th>admission_source_id_9</th>\n",
              "      <th>med_sp_Emergency/Trauma</th>\n",
              "      <th>med_sp_Family/GeneralPractice</th>\n",
              "      <th>med_sp_InternalMedicine</th>\n",
              "      <th>med_sp_NA</th>\n",
              "      <th>med_sp_Surgery-General</th>\n",
              "      <th>med_sp_other</th>\n",
              "    </tr>\n",
              "  </thead>\n",
              "  <tbody>\n",
              "    <tr>\n",
              "      <th>0</th>\n",
              "      <td>0</td>\n",
              "      <td>1</td>\n",
              "      <td>0</td>\n",
              "      <td>0</td>\n",
              "      <td>0</td>\n",
              "      <td>0</td>\n",
              "      <td>0</td>\n",
              "      <td>0</td>\n",
              "      <td>0</td>\n",
              "      <td>0</td>\n",
              "      <td>...</td>\n",
              "      <td>0</td>\n",
              "      <td>0</td>\n",
              "      <td>0</td>\n",
              "      <td>0</td>\n",
              "      <td>0</td>\n",
              "      <td>0</td>\n",
              "      <td>0</td>\n",
              "      <td>0</td>\n",
              "      <td>0</td>\n",
              "      <td>1</td>\n",
              "    </tr>\n",
              "    <tr>\n",
              "      <th>1</th>\n",
              "      <td>0</td>\n",
              "      <td>1</td>\n",
              "      <td>0</td>\n",
              "      <td>0</td>\n",
              "      <td>0</td>\n",
              "      <td>0</td>\n",
              "      <td>0</td>\n",
              "      <td>0</td>\n",
              "      <td>0</td>\n",
              "      <td>0</td>\n",
              "      <td>...</td>\n",
              "      <td>0</td>\n",
              "      <td>1</td>\n",
              "      <td>0</td>\n",
              "      <td>0</td>\n",
              "      <td>0</td>\n",
              "      <td>0</td>\n",
              "      <td>0</td>\n",
              "      <td>1</td>\n",
              "      <td>0</td>\n",
              "      <td>0</td>\n",
              "    </tr>\n",
              "    <tr>\n",
              "      <th>2</th>\n",
              "      <td>0</td>\n",
              "      <td>0</td>\n",
              "      <td>0</td>\n",
              "      <td>0</td>\n",
              "      <td>0</td>\n",
              "      <td>0</td>\n",
              "      <td>0</td>\n",
              "      <td>0</td>\n",
              "      <td>0</td>\n",
              "      <td>0</td>\n",
              "      <td>...</td>\n",
              "      <td>0</td>\n",
              "      <td>1</td>\n",
              "      <td>0</td>\n",
              "      <td>0</td>\n",
              "      <td>0</td>\n",
              "      <td>0</td>\n",
              "      <td>0</td>\n",
              "      <td>1</td>\n",
              "      <td>0</td>\n",
              "      <td>0</td>\n",
              "    </tr>\n",
              "    <tr>\n",
              "      <th>3</th>\n",
              "      <td>0</td>\n",
              "      <td>1</td>\n",
              "      <td>0</td>\n",
              "      <td>0</td>\n",
              "      <td>0</td>\n",
              "      <td>1</td>\n",
              "      <td>0</td>\n",
              "      <td>0</td>\n",
              "      <td>0</td>\n",
              "      <td>0</td>\n",
              "      <td>...</td>\n",
              "      <td>0</td>\n",
              "      <td>1</td>\n",
              "      <td>0</td>\n",
              "      <td>0</td>\n",
              "      <td>0</td>\n",
              "      <td>0</td>\n",
              "      <td>0</td>\n",
              "      <td>1</td>\n",
              "      <td>0</td>\n",
              "      <td>0</td>\n",
              "    </tr>\n",
              "    <tr>\n",
              "      <th>4</th>\n",
              "      <td>0</td>\n",
              "      <td>1</td>\n",
              "      <td>0</td>\n",
              "      <td>0</td>\n",
              "      <td>0</td>\n",
              "      <td>1</td>\n",
              "      <td>0</td>\n",
              "      <td>0</td>\n",
              "      <td>0</td>\n",
              "      <td>0</td>\n",
              "      <td>...</td>\n",
              "      <td>0</td>\n",
              "      <td>1</td>\n",
              "      <td>0</td>\n",
              "      <td>0</td>\n",
              "      <td>0</td>\n",
              "      <td>0</td>\n",
              "      <td>0</td>\n",
              "      <td>1</td>\n",
              "      <td>0</td>\n",
              "      <td>0</td>\n",
              "    </tr>\n",
              "  </tbody>\n",
              "</table>\n",
              "<p>5 rows × 108 columns</p>\n",
              "</div>\n",
              "    <div class=\"colab-df-buttons\">\n",
              "\n",
              "  <div class=\"colab-df-container\">\n",
              "    <button class=\"colab-df-convert\" onclick=\"convertToInteractive('df-3af33abf-af8b-4355-a4c2-97267808a449')\"\n",
              "            title=\"Convert this dataframe to an interactive table.\"\n",
              "            style=\"display:none;\">\n",
              "\n",
              "  <svg xmlns=\"http://www.w3.org/2000/svg\" height=\"24px\" viewBox=\"0 -960 960 960\">\n",
              "    <path d=\"M120-120v-720h720v720H120Zm60-500h600v-160H180v160Zm220 220h160v-160H400v160Zm0 220h160v-160H400v160ZM180-400h160v-160H180v160Zm440 0h160v-160H620v160ZM180-180h160v-160H180v160Zm440 0h160v-160H620v160Z\"/>\n",
              "  </svg>\n",
              "    </button>\n",
              "\n",
              "  <style>\n",
              "    .colab-df-container {\n",
              "      display:flex;\n",
              "      gap: 12px;\n",
              "    }\n",
              "\n",
              "    .colab-df-convert {\n",
              "      background-color: #E8F0FE;\n",
              "      border: none;\n",
              "      border-radius: 50%;\n",
              "      cursor: pointer;\n",
              "      display: none;\n",
              "      fill: #1967D2;\n",
              "      height: 32px;\n",
              "      padding: 0 0 0 0;\n",
              "      width: 32px;\n",
              "    }\n",
              "\n",
              "    .colab-df-convert:hover {\n",
              "      background-color: #E2EBFA;\n",
              "      box-shadow: 0px 1px 2px rgba(60, 64, 67, 0.3), 0px 1px 3px 1px rgba(60, 64, 67, 0.15);\n",
              "      fill: #174EA6;\n",
              "    }\n",
              "\n",
              "    .colab-df-buttons div {\n",
              "      margin-bottom: 4px;\n",
              "    }\n",
              "\n",
              "    [theme=dark] .colab-df-convert {\n",
              "      background-color: #3B4455;\n",
              "      fill: #D2E3FC;\n",
              "    }\n",
              "\n",
              "    [theme=dark] .colab-df-convert:hover {\n",
              "      background-color: #434B5C;\n",
              "      box-shadow: 0px 1px 3px 1px rgba(0, 0, 0, 0.15);\n",
              "      filter: drop-shadow(0px 1px 2px rgba(0, 0, 0, 0.3));\n",
              "      fill: #FFFFFF;\n",
              "    }\n",
              "  </style>\n",
              "\n",
              "    <script>\n",
              "      const buttonEl =\n",
              "        document.querySelector('#df-3af33abf-af8b-4355-a4c2-97267808a449 button.colab-df-convert');\n",
              "      buttonEl.style.display =\n",
              "        google.colab.kernel.accessAllowed ? 'block' : 'none';\n",
              "\n",
              "      async function convertToInteractive(key) {\n",
              "        const element = document.querySelector('#df-3af33abf-af8b-4355-a4c2-97267808a449');\n",
              "        const dataTable =\n",
              "          await google.colab.kernel.invokeFunction('convertToInteractive',\n",
              "                                                    [key], {});\n",
              "        if (!dataTable) return;\n",
              "\n",
              "        const docLinkHtml = 'Like what you see? Visit the ' +\n",
              "          '<a target=\"_blank\" href=https://colab.research.google.com/notebooks/data_table.ipynb>data table notebook</a>'\n",
              "          + ' to learn more about interactive tables.';\n",
              "        element.innerHTML = '';\n",
              "        dataTable['output_type'] = 'display_data';\n",
              "        await google.colab.output.renderOutput(dataTable, element);\n",
              "        const docLink = document.createElement('div');\n",
              "        docLink.innerHTML = docLinkHtml;\n",
              "        element.appendChild(docLink);\n",
              "      }\n",
              "    </script>\n",
              "  </div>\n",
              "\n",
              "\n",
              "<div id=\"df-d192942f-8427-43e6-8d42-9140b6c60e87\">\n",
              "  <button class=\"colab-df-quickchart\" onclick=\"quickchart('df-d192942f-8427-43e6-8d42-9140b6c60e87')\"\n",
              "            title=\"Suggest charts.\"\n",
              "            style=\"display:none;\">\n",
              "\n",
              "<svg xmlns=\"http://www.w3.org/2000/svg\" height=\"24px\"viewBox=\"0 0 24 24\"\n",
              "     width=\"24px\">\n",
              "    <g>\n",
              "        <path d=\"M19 3H5c-1.1 0-2 .9-2 2v14c0 1.1.9 2 2 2h14c1.1 0 2-.9 2-2V5c0-1.1-.9-2-2-2zM9 17H7v-7h2v7zm4 0h-2V7h2v10zm4 0h-2v-4h2v4z\"/>\n",
              "    </g>\n",
              "</svg>\n",
              "  </button>\n",
              "\n",
              "<style>\n",
              "  .colab-df-quickchart {\n",
              "    background-color: #E8F0FE;\n",
              "    border: none;\n",
              "    border-radius: 50%;\n",
              "    cursor: pointer;\n",
              "    display: none;\n",
              "    fill: #1967D2;\n",
              "    height: 32px;\n",
              "    padding: 0 0 0 0;\n",
              "    width: 32px;\n",
              "  }\n",
              "\n",
              "  .colab-df-quickchart:hover {\n",
              "    background-color: #E2EBFA;\n",
              "    box-shadow: 0px 1px 2px rgba(60, 64, 67, 0.3), 0px 1px 3px 1px rgba(60, 64, 67, 0.15);\n",
              "    fill: #174EA6;\n",
              "  }\n",
              "\n",
              "  [theme=dark] .colab-df-quickchart {\n",
              "    background-color: #3B4455;\n",
              "    fill: #D2E3FC;\n",
              "  }\n",
              "\n",
              "  [theme=dark] .colab-df-quickchart:hover {\n",
              "    background-color: #434B5C;\n",
              "    box-shadow: 0px 1px 3px 1px rgba(0, 0, 0, 0.15);\n",
              "    filter: drop-shadow(0px 1px 2px rgba(0, 0, 0, 0.3));\n",
              "    fill: #FFFFFF;\n",
              "  }\n",
              "</style>\n",
              "\n",
              "  <script>\n",
              "    async function quickchart(key) {\n",
              "      const charts = await google.colab.kernel.invokeFunction(\n",
              "          'suggestCharts', [key], {});\n",
              "    }\n",
              "    (() => {\n",
              "      let quickchartButtonEl =\n",
              "        document.querySelector('#df-d192942f-8427-43e6-8d42-9140b6c60e87 button');\n",
              "      quickchartButtonEl.style.display =\n",
              "        google.colab.kernel.accessAllowed ? 'block' : 'none';\n",
              "    })();\n",
              "  </script>\n",
              "</div>\n",
              "    </div>\n",
              "  </div>\n"
            ]
          },
          "metadata": {},
          "execution_count": 66
        }
      ]
    },
    {
      "cell_type": "code",
      "source": [
        "diabetes_df = pd.concat([diabetes_df, df_cat], axis = 1)"
      ],
      "metadata": {
        "id": "ij_HNhARhb9U"
      },
      "execution_count": 67,
      "outputs": []
    },
    {
      "cell_type": "markdown",
      "source": [
        "Column age"
      ],
      "metadata": {
        "id": "LZu2RDngi-lA"
      }
    },
    {
      "cell_type": "code",
      "source": [
        "#This column does not have null values\n",
        "#[70-80)     26068\n",
        "#[60-70)     22483\n",
        "#[50-60)     17256\n",
        "#[80-90)     17197\n",
        "#[40-50)      9685\n",
        "#[30-40)      3775\n",
        "#[90-100)     2793\n",
        "#[20-30)      1657\n",
        "#[10-20)       691\n",
        "#[0-10)        161\n",
        "#One way to deal with this non-numerical column is to map the age ranges to it middle point, that is [0-10) to 5, [20-30] to 25 and so on.\n",
        "age_map = {'[70-80)': 75,'[60-70)':65,'[50-60)': 55, '[80-90)':85, '[40-50)':45, '[30-40)':35, '[90-100)':95, '[20-30)':25, '[10-20)':15, '[0-10)':5}\n",
        "\n",
        "diabetes_df['age_map'] = diabetes_df.age.replace(age_map)"
      ],
      "metadata": {
        "id": "ooNyBapTi9tY"
      },
      "execution_count": 68,
      "outputs": []
    },
    {
      "cell_type": "markdown",
      "source": [
        "Column weight"
      ],
      "metadata": {
        "id": "LwiIv23-lcfX"
      }
    },
    {
      "cell_type": "code",
      "source": [
        "#In the EDA stage we have seen that 98% of the patients have this information as null\n",
        "#a yes/no variable can be created: 'yes' we have info about patient's weight\n",
        "#it is known that weight is correlated with diabetes so this column should not be dropped\n",
        "\n",
        "diabetes_df['weight_info']= diabetes_df.weight.notnull().astype('int')"
      ],
      "metadata": {
        "id": "FNMbj-4VlW6G"
      },
      "execution_count": 69,
      "outputs": []
    },
    {
      "cell_type": "code",
      "source": [
        "#total of columns: numerical_column_names, df_cat.columns, 'age_map', 'weight_info', 'label\n",
        "cat = df_cat.columns\n",
        "extras = ['age_map', 'weight_info', 'label']\n",
        "diabetes_final = diabetes_df[numerical_column_names+list(cat)+extras]"
      ],
      "metadata": {
        "id": "Vt1mMm2NntIK"
      },
      "execution_count": 70,
      "outputs": []
    },
    {
      "cell_type": "code",
      "source": [
        "diabetes_final.shape"
      ],
      "metadata": {
        "colab": {
          "base_uri": "https://localhost:8080/"
        },
        "id": "z02w0eJ6tQo9",
        "outputId": "94b46995-f305-4452-c3ba-abf412e550bd"
      },
      "execution_count": 71,
      "outputs": [
        {
          "output_type": "execute_result",
          "data": {
            "text/plain": [
              "(99343, 119)"
            ]
          },
          "metadata": {},
          "execution_count": 71
        }
      ]
    },
    {
      "cell_type": "code",
      "source": [
        "working_columns = numerical_column_names+list(cat)+['age_map', 'weight_info']"
      ],
      "metadata": {
        "id": "9lsLrczzeWrL"
      },
      "execution_count": 86,
      "outputs": []
    },
    {
      "cell_type": "markdown",
      "source": [
        "# **Training, validation and test samples**"
      ],
      "metadata": {
        "id": "Fz7LxmrGt3Gr"
      }
    },
    {
      "cell_type": "markdown",
      "source": [
        "We are going to split the data in three different samples:\n",
        "\n",
        "- training: data to train the model (80%)\n",
        "- validation: used to improve the model we are building (10%)\n",
        "- test: with this data we can measure the performance of our model (10%)"
      ],
      "metadata": {
        "id": "SrhRKc1K6i4-"
      }
    },
    {
      "cell_type": "code",
      "source": [
        "#20% validation + test\n",
        "diabetes_validation_test = diabetes_final.sample(frac = 0.2, random_state = 40)"
      ],
      "metadata": {
        "id": "XKmTnvK_taTu"
      },
      "execution_count": 72,
      "outputs": []
    },
    {
      "cell_type": "code",
      "source": [
        "#10% validation 10% test\n",
        "diabetes_validation = diabetes_validation_test.sample(frac = 0.5, random_state = 40)\n",
        "diabetes_test = diabetes_validation_test.drop(diabetes_validation.index)"
      ],
      "metadata": {
        "id": "dUjFBBV79PBZ"
      },
      "execution_count": 73,
      "outputs": []
    },
    {
      "cell_type": "code",
      "source": [
        "#80% training data\n",
        "diabetes_training = diabetes_final.drop(diabetes_validation_test.index)"
      ],
      "metadata": {
        "id": "BDFu7lfR9rI6"
      },
      "execution_count": 74,
      "outputs": []
    },
    {
      "cell_type": "markdown",
      "source": [
        "Since the dataset is imbalanced (more negatives 0 than positives 1), we have to make sure that the splitting datasets follow the same pattern."
      ],
      "metadata": {
        "id": "GllCT9AlvKTs"
      }
    },
    {
      "cell_type": "code",
      "source": [
        "def read(y):\n",
        "  return (sum(y)/len(y))"
      ],
      "metadata": {
        "id": "FyjVft1etXsg"
      },
      "execution_count": 75,
      "outputs": []
    },
    {
      "cell_type": "code",
      "source": [
        "print('readmitted less than 30 days per dataset:')\n",
        "print('total dataset: {:.3f}'.format(read(diabetes_final['label'])))\n",
        "print('training dataset: {:.3f}'.format(read(diabetes_training['label'])))\n",
        "print('validation dataset: {:.3f}'.format(read(diabetes_validation['label'])))\n",
        "print('test dataset: {:.3f}'.format(read(diabetes_test['label'])))\n",
        "#we see the same pattern in each dataset"
      ],
      "metadata": {
        "colab": {
          "base_uri": "https://localhost:8080/"
        },
        "id": "31HYqGA8scp-",
        "outputId": "43819890-1b0e-47a4-88a9-a32749d3179d"
      },
      "execution_count": 79,
      "outputs": [
        {
          "output_type": "stream",
          "name": "stdout",
          "text": [
            "readmitted less than 30 days per dataset:\n",
            "total dataset: 0.114\n",
            "training dataset: 0.113\n",
            "validation dataset: 0.117\n",
            "test dataset: 0.115\n"
          ]
        }
      ]
    },
    {
      "cell_type": "markdown",
      "source": [
        "**Balancing training data**"
      ],
      "metadata": {
        "id": "iZt5bP0AaspL"
      }
    },
    {
      "cell_type": "markdown",
      "source": [
        "A sub-sampling method will be used in order to compensate the few positive cases."
      ],
      "metadata": {
        "id": "7mNLYZ-OZbSA"
      }
    },
    {
      "cell_type": "code",
      "source": [
        "positives = diabetes_training.label == 1\n",
        "diabetes_training_positives = diabetes_training.loc[positives]\n",
        "diabetes_training_negatives = diabetes_training.loc[~positives]"
      ],
      "metadata": {
        "id": "FgJLsWEhr9mw"
      },
      "execution_count": 80,
      "outputs": []
    },
    {
      "cell_type": "code",
      "source": [
        "#sub-sampling the negative cases and merging with the positive ones\n",
        "diabetes_train = pd.concat([diabetes_training_positives, diabetes_training_negatives.sample(n=len(diabetes_training_positives), random_state = 40)], axis = 0)"
      ],
      "metadata": {
        "id": "RlM8LENPcESz"
      },
      "execution_count": 81,
      "outputs": []
    },
    {
      "cell_type": "code",
      "source": [
        "diabetes_train = diabetes_train.sample(n = len(diabetes_train), random_state = 40).reset_index(drop = True)"
      ],
      "metadata": {
        "id": "ADHZD0pvddCs"
      },
      "execution_count": 83,
      "outputs": []
    },
    {
      "cell_type": "code",
      "source": [
        "read(diabetes_train['label']) #0.5 now it is balanced"
      ],
      "metadata": {
        "colab": {
          "base_uri": "https://localhost:8080/"
        },
        "id": "zyWS_7sbdFFn",
        "outputId": "fbb862ef-b5d6-42c0-ab7a-69ee293969be"
      },
      "execution_count": 84,
      "outputs": [
        {
          "output_type": "execute_result",
          "data": {
            "text/plain": [
              "0.5"
            ]
          },
          "metadata": {},
          "execution_count": 84
        }
      ]
    },
    {
      "cell_type": "code",
      "source": [
        "X_training = diabetes_training[working_columns].values\n",
        "X_train = diabetes_train[working_columns].values\n",
        "X_valid = diabetes_validation[working_columns].values\n",
        "\n",
        "y_train = diabetes_train.label.values\n",
        "y_valid = diabetes_validation.label.values\n",
        "\n",
        "print(X_training.shape)\n",
        "print(X_train.shape)\n",
        "print(X_valid.shape)"
      ],
      "metadata": {
        "colab": {
          "base_uri": "https://localhost:8080/"
        },
        "id": "XqY8SLfcdXwD",
        "outputId": "7f8819e5-f167-4b22-c350-6a93a5b52a29"
      },
      "execution_count": 87,
      "outputs": [
        {
          "output_type": "stream",
          "name": "stdout",
          "text": [
            "(79474, 118)\n",
            "(18014, 118)\n",
            "(9934, 118)\n"
          ]
        }
      ]
    },
    {
      "cell_type": "code",
      "source": [
        "#scaling to mean zero and variance 1\n",
        "scaler = StandardScaler()\n",
        "scaler.fit(X_training)"
      ],
      "metadata": {
        "colab": {
          "base_uri": "https://localhost:8080/",
          "height": 75
        },
        "id": "0lvqoSFyh8E6",
        "outputId": "05e017b1-4ecb-4f41-ba2f-61307bd84602"
      },
      "execution_count": 88,
      "outputs": [
        {
          "output_type": "execute_result",
          "data": {
            "text/plain": [
              "StandardScaler()"
            ],
            "text/html": [
              "<style>#sk-container-id-1 {color: black;background-color: white;}#sk-container-id-1 pre{padding: 0;}#sk-container-id-1 div.sk-toggleable {background-color: white;}#sk-container-id-1 label.sk-toggleable__label {cursor: pointer;display: block;width: 100%;margin-bottom: 0;padding: 0.3em;box-sizing: border-box;text-align: center;}#sk-container-id-1 label.sk-toggleable__label-arrow:before {content: \"▸\";float: left;margin-right: 0.25em;color: #696969;}#sk-container-id-1 label.sk-toggleable__label-arrow:hover:before {color: black;}#sk-container-id-1 div.sk-estimator:hover label.sk-toggleable__label-arrow:before {color: black;}#sk-container-id-1 div.sk-toggleable__content {max-height: 0;max-width: 0;overflow: hidden;text-align: left;background-color: #f0f8ff;}#sk-container-id-1 div.sk-toggleable__content pre {margin: 0.2em;color: black;border-radius: 0.25em;background-color: #f0f8ff;}#sk-container-id-1 input.sk-toggleable__control:checked~div.sk-toggleable__content {max-height: 200px;max-width: 100%;overflow: auto;}#sk-container-id-1 input.sk-toggleable__control:checked~label.sk-toggleable__label-arrow:before {content: \"▾\";}#sk-container-id-1 div.sk-estimator input.sk-toggleable__control:checked~label.sk-toggleable__label {background-color: #d4ebff;}#sk-container-id-1 div.sk-label input.sk-toggleable__control:checked~label.sk-toggleable__label {background-color: #d4ebff;}#sk-container-id-1 input.sk-hidden--visually {border: 0;clip: rect(1px 1px 1px 1px);clip: rect(1px, 1px, 1px, 1px);height: 1px;margin: -1px;overflow: hidden;padding: 0;position: absolute;width: 1px;}#sk-container-id-1 div.sk-estimator {font-family: monospace;background-color: #f0f8ff;border: 1px dotted black;border-radius: 0.25em;box-sizing: border-box;margin-bottom: 0.5em;}#sk-container-id-1 div.sk-estimator:hover {background-color: #d4ebff;}#sk-container-id-1 div.sk-parallel-item::after {content: \"\";width: 100%;border-bottom: 1px solid gray;flex-grow: 1;}#sk-container-id-1 div.sk-label:hover label.sk-toggleable__label {background-color: #d4ebff;}#sk-container-id-1 div.sk-serial::before {content: \"\";position: absolute;border-left: 1px solid gray;box-sizing: border-box;top: 0;bottom: 0;left: 50%;z-index: 0;}#sk-container-id-1 div.sk-serial {display: flex;flex-direction: column;align-items: center;background-color: white;padding-right: 0.2em;padding-left: 0.2em;position: relative;}#sk-container-id-1 div.sk-item {position: relative;z-index: 1;}#sk-container-id-1 div.sk-parallel {display: flex;align-items: stretch;justify-content: center;background-color: white;position: relative;}#sk-container-id-1 div.sk-item::before, #sk-container-id-1 div.sk-parallel-item::before {content: \"\";position: absolute;border-left: 1px solid gray;box-sizing: border-box;top: 0;bottom: 0;left: 50%;z-index: -1;}#sk-container-id-1 div.sk-parallel-item {display: flex;flex-direction: column;z-index: 1;position: relative;background-color: white;}#sk-container-id-1 div.sk-parallel-item:first-child::after {align-self: flex-end;width: 50%;}#sk-container-id-1 div.sk-parallel-item:last-child::after {align-self: flex-start;width: 50%;}#sk-container-id-1 div.sk-parallel-item:only-child::after {width: 0;}#sk-container-id-1 div.sk-dashed-wrapped {border: 1px dashed gray;margin: 0 0.4em 0.5em 0.4em;box-sizing: border-box;padding-bottom: 0.4em;background-color: white;}#sk-container-id-1 div.sk-label label {font-family: monospace;font-weight: bold;display: inline-block;line-height: 1.2em;}#sk-container-id-1 div.sk-label-container {text-align: center;}#sk-container-id-1 div.sk-container {/* jupyter's `normalize.less` sets `[hidden] { display: none; }` but bootstrap.min.css set `[hidden] { display: none !important; }` so we also need the `!important` here to be able to override the default hidden behavior on the sphinx rendered scikit-learn.org. See: https://github.com/scikit-learn/scikit-learn/issues/21755 */display: inline-block !important;position: relative;}#sk-container-id-1 div.sk-text-repr-fallback {display: none;}</style><div id=\"sk-container-id-1\" class=\"sk-top-container\"><div class=\"sk-text-repr-fallback\"><pre>StandardScaler()</pre><b>In a Jupyter environment, please rerun this cell to show the HTML representation or trust the notebook. <br />On GitHub, the HTML representation is unable to render, please try loading this page with nbviewer.org.</b></div><div class=\"sk-container\" hidden><div class=\"sk-item\"><div class=\"sk-estimator sk-toggleable\"><input class=\"sk-toggleable__control sk-hidden--visually\" id=\"sk-estimator-id-1\" type=\"checkbox\" checked><label for=\"sk-estimator-id-1\" class=\"sk-toggleable__label sk-toggleable__label-arrow\">StandardScaler</label><div class=\"sk-toggleable__content\"><pre>StandardScaler()</pre></div></div></div></div></div>"
            ]
          },
          "metadata": {},
          "execution_count": 88
        }
      ]
    },
    {
      "cell_type": "code",
      "source": [
        "scalerfile = 'scaler.sav'\n",
        "pickle.dump(scaler, open(scalerfile, 'wb'))"
      ],
      "metadata": {
        "id": "D8QIcfSfigYj"
      },
      "execution_count": 90,
      "outputs": []
    },
    {
      "cell_type": "code",
      "source": [
        "scaler = pickle.load(open(scalerfile, 'rb'))"
      ],
      "metadata": {
        "id": "HFfyM0OKjC2j"
      },
      "execution_count": 91,
      "outputs": []
    },
    {
      "cell_type": "code",
      "source": [
        "#scaling the datasets\n",
        "X_train_sc = scaler.transform(X_train)\n",
        "X_valid_sc = scaler.transform(X_valid)"
      ],
      "metadata": {
        "id": "J9XNbD9bjJh2"
      },
      "execution_count": 92,
      "outputs": []
    },
    {
      "cell_type": "markdown",
      "source": [
        "**Metrics**"
      ],
      "metadata": {
        "id": "EPvZjbXRkpoS"
      }
    },
    {
      "cell_type": "code",
      "source": [
        "def report_specificity(y_actual, y_pred, threshold):\n",
        "  return sum((y_pred < threshold) & (y_actual == 0))/sum(y_actual ==0)\n",
        "\n",
        "def report(y_actual, y_pred, threshold):\n",
        "  auc = roc_auc_score(y_actual, y_pred)\n",
        "  accuracy = accuracy_score(y_actual, (y_pred > threshold))\n",
        "  recall = recall_score(y_actual, (y_pred > threshold))\n",
        "  precision = precision_score(y_actual, (y_pred > threshold))\n",
        "  specificity = report_specificity(y_actual, y_pred, threshold)\n",
        "  print('AUC: {:.3f}'.format(auc))\n",
        "  print('accuracy: {:.3f}'.format(accuracy))\n",
        "  print('recall: {:.3f}'.format(recall))\n",
        "  print('precision: {:.3f}'.format(precision))\n",
        "  print('specificity: {:.3f}'.format(specificity))\n",
        "  print('==================')\n",
        "  return auc, accuracy, recall, precision, specificity"
      ],
      "metadata": {
        "id": "NR4OPWfwjX64"
      },
      "execution_count": 100,
      "outputs": []
    },
    {
      "cell_type": "code",
      "source": [
        "threshold = 0.5"
      ],
      "metadata": {
        "id": "29iaMADNnFqv"
      },
      "execution_count": 101,
      "outputs": []
    },
    {
      "cell_type": "markdown",
      "source": [
        "![0_-oGC3SE8sPCPdmxs.webp](data:image/webp;base64,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)\n",
        "\n",
        "https://miro.medium.com/v2/format:webp/0*-oGC3SE8sPCPdmxs.jpg"
      ],
      "metadata": {
        "id": "4I17CPjODUuS"
      }
    },
    {
      "cell_type": "markdown",
      "source": [
        "# **Modeling**"
      ],
      "metadata": {
        "id": "7wOnjZ3TnXUF"
      }
    },
    {
      "cell_type": "markdown",
      "source": [
        "Comparing 5 models based on performance using default hyperparameters."
      ],
      "metadata": {
        "id": "nHDbrvxtni_L"
      }
    },
    {
      "cell_type": "markdown",
      "source": [
        "**KNN**"
      ],
      "metadata": {
        "id": "d4zbemQynzDj"
      }
    },
    {
      "cell_type": "code",
      "source": [
        "#This is the simplest ml model but it is sensitive with the election of K (number of nearest neighbors)\n",
        "from sklearn.neighbors import KNeighborsClassifier\n",
        "knn = KNeighborsClassifier(n_neighbors=100)\n",
        "knn.fit(X_train_sc, y_train)"
      ],
      "metadata": {
        "colab": {
          "base_uri": "https://localhost:8080/",
          "height": 75
        },
        "id": "qXJDJfo-nVze",
        "outputId": "dde73e0c-6fe6-4049-e8a0-e751655002f6"
      },
      "execution_count": 97,
      "outputs": [
        {
          "output_type": "execute_result",
          "data": {
            "text/plain": [
              "KNeighborsClassifier(n_neighbors=100)"
            ],
            "text/html": [
              "<style>#sk-container-id-2 {color: black;background-color: white;}#sk-container-id-2 pre{padding: 0;}#sk-container-id-2 div.sk-toggleable {background-color: white;}#sk-container-id-2 label.sk-toggleable__label {cursor: pointer;display: block;width: 100%;margin-bottom: 0;padding: 0.3em;box-sizing: border-box;text-align: center;}#sk-container-id-2 label.sk-toggleable__label-arrow:before {content: \"▸\";float: left;margin-right: 0.25em;color: #696969;}#sk-container-id-2 label.sk-toggleable__label-arrow:hover:before {color: black;}#sk-container-id-2 div.sk-estimator:hover label.sk-toggleable__label-arrow:before {color: black;}#sk-container-id-2 div.sk-toggleable__content {max-height: 0;max-width: 0;overflow: hidden;text-align: left;background-color: #f0f8ff;}#sk-container-id-2 div.sk-toggleable__content pre {margin: 0.2em;color: black;border-radius: 0.25em;background-color: #f0f8ff;}#sk-container-id-2 input.sk-toggleable__control:checked~div.sk-toggleable__content {max-height: 200px;max-width: 100%;overflow: auto;}#sk-container-id-2 input.sk-toggleable__control:checked~label.sk-toggleable__label-arrow:before {content: \"▾\";}#sk-container-id-2 div.sk-estimator input.sk-toggleable__control:checked~label.sk-toggleable__label {background-color: #d4ebff;}#sk-container-id-2 div.sk-label input.sk-toggleable__control:checked~label.sk-toggleable__label {background-color: #d4ebff;}#sk-container-id-2 input.sk-hidden--visually {border: 0;clip: rect(1px 1px 1px 1px);clip: rect(1px, 1px, 1px, 1px);height: 1px;margin: -1px;overflow: hidden;padding: 0;position: absolute;width: 1px;}#sk-container-id-2 div.sk-estimator {font-family: monospace;background-color: #f0f8ff;border: 1px dotted black;border-radius: 0.25em;box-sizing: border-box;margin-bottom: 0.5em;}#sk-container-id-2 div.sk-estimator:hover {background-color: #d4ebff;}#sk-container-id-2 div.sk-parallel-item::after {content: \"\";width: 100%;border-bottom: 1px solid gray;flex-grow: 1;}#sk-container-id-2 div.sk-label:hover label.sk-toggleable__label {background-color: #d4ebff;}#sk-container-id-2 div.sk-serial::before {content: \"\";position: absolute;border-left: 1px solid gray;box-sizing: border-box;top: 0;bottom: 0;left: 50%;z-index: 0;}#sk-container-id-2 div.sk-serial {display: flex;flex-direction: column;align-items: center;background-color: white;padding-right: 0.2em;padding-left: 0.2em;position: relative;}#sk-container-id-2 div.sk-item {position: relative;z-index: 1;}#sk-container-id-2 div.sk-parallel {display: flex;align-items: stretch;justify-content: center;background-color: white;position: relative;}#sk-container-id-2 div.sk-item::before, #sk-container-id-2 div.sk-parallel-item::before {content: \"\";position: absolute;border-left: 1px solid gray;box-sizing: border-box;top: 0;bottom: 0;left: 50%;z-index: -1;}#sk-container-id-2 div.sk-parallel-item {display: flex;flex-direction: column;z-index: 1;position: relative;background-color: white;}#sk-container-id-2 div.sk-parallel-item:first-child::after {align-self: flex-end;width: 50%;}#sk-container-id-2 div.sk-parallel-item:last-child::after {align-self: flex-start;width: 50%;}#sk-container-id-2 div.sk-parallel-item:only-child::after {width: 0;}#sk-container-id-2 div.sk-dashed-wrapped {border: 1px dashed gray;margin: 0 0.4em 0.5em 0.4em;box-sizing: border-box;padding-bottom: 0.4em;background-color: white;}#sk-container-id-2 div.sk-label label {font-family: monospace;font-weight: bold;display: inline-block;line-height: 1.2em;}#sk-container-id-2 div.sk-label-container {text-align: center;}#sk-container-id-2 div.sk-container {/* jupyter's `normalize.less` sets `[hidden] { display: none; }` but bootstrap.min.css set `[hidden] { display: none !important; }` so we also need the `!important` here to be able to override the default hidden behavior on the sphinx rendered scikit-learn.org. See: https://github.com/scikit-learn/scikit-learn/issues/21755 */display: inline-block !important;position: relative;}#sk-container-id-2 div.sk-text-repr-fallback {display: none;}</style><div id=\"sk-container-id-2\" class=\"sk-top-container\"><div class=\"sk-text-repr-fallback\"><pre>KNeighborsClassifier(n_neighbors=100)</pre><b>In a Jupyter environment, please rerun this cell to show the HTML representation or trust the notebook. <br />On GitHub, the HTML representation is unable to render, please try loading this page with nbviewer.org.</b></div><div class=\"sk-container\" hidden><div class=\"sk-item\"><div class=\"sk-estimator sk-toggleable\"><input class=\"sk-toggleable__control sk-hidden--visually\" id=\"sk-estimator-id-2\" type=\"checkbox\" checked><label for=\"sk-estimator-id-2\" class=\"sk-toggleable__label sk-toggleable__label-arrow\">KNeighborsClassifier</label><div class=\"sk-toggleable__content\"><pre>KNeighborsClassifier(n_neighbors=100)</pre></div></div></div></div></div>"
            ]
          },
          "metadata": {},
          "execution_count": 97
        }
      ]
    },
    {
      "cell_type": "code",
      "source": [
        "y_train_pred = knn.predict_proba(X_train_sc)[:,1]\n",
        "y_valid_pred = knn.predict_proba(X_valid_sc)[:,1]\n",
        "\n",
        "print('KNN training')\n",
        "knn_train_auc, knn_train_accuracy, knn_train_recall,knn_train_precision, knn_train_specificity = report(y_train, y_train_pred, threshold)\n",
        "print('KNN validation')\n",
        "knn_valid_auc, knn_valid_accuracy, knn_valid_recall,knn_valid_precision, knn_valid_specificity = report(y_valid, y_valid_pred, threshold)"
      ],
      "metadata": {
        "colab": {
          "base_uri": "https://localhost:8080/"
        },
        "id": "Qq4BDLG8pL5H",
        "outputId": "570ed508-b757-4a2a-829e-69d24a77d9cf"
      },
      "execution_count": 102,
      "outputs": [
        {
          "output_type": "stream",
          "name": "stdout",
          "text": [
            "KNN training\n",
            "AUC: 0.652\n",
            "accuracy: 0.605\n",
            "recall: 0.519\n",
            "precision: 0.627\n",
            "specificity: 0.647\n",
            "==================\n",
            "KNN validation\n",
            "AUC: 0.612\n",
            "accuracy: 0.652\n",
            "recall: 0.468\n",
            "precision: 0.161\n",
            "specificity: 0.631\n",
            "==================\n"
          ]
        }
      ]
    },
    {
      "cell_type": "markdown",
      "source": [
        "**Logistic regression**"
      ],
      "metadata": {
        "id": "xeqGWfBpn2bq"
      }
    },
    {
      "cell_type": "code",
      "source": [
        "from sklearn.linear_model import LogisticRegression\n",
        "lr = LogisticRegression(random_state = 40)\n",
        "lr.fit(X_train_sc, y_train)"
      ],
      "metadata": {
        "colab": {
          "base_uri": "https://localhost:8080/",
          "height": 75
        },
        "id": "qQg_FfX6q6V_",
        "outputId": "df55851d-251f-4ceb-d82d-e75bf09dbe92"
      },
      "execution_count": 103,
      "outputs": [
        {
          "output_type": "execute_result",
          "data": {
            "text/plain": [
              "LogisticRegression(random_state=40)"
            ],
            "text/html": [
              "<style>#sk-container-id-3 {color: black;background-color: white;}#sk-container-id-3 pre{padding: 0;}#sk-container-id-3 div.sk-toggleable {background-color: white;}#sk-container-id-3 label.sk-toggleable__label {cursor: pointer;display: block;width: 100%;margin-bottom: 0;padding: 0.3em;box-sizing: border-box;text-align: center;}#sk-container-id-3 label.sk-toggleable__label-arrow:before {content: \"▸\";float: left;margin-right: 0.25em;color: #696969;}#sk-container-id-3 label.sk-toggleable__label-arrow:hover:before {color: black;}#sk-container-id-3 div.sk-estimator:hover label.sk-toggleable__label-arrow:before {color: black;}#sk-container-id-3 div.sk-toggleable__content {max-height: 0;max-width: 0;overflow: hidden;text-align: left;background-color: #f0f8ff;}#sk-container-id-3 div.sk-toggleable__content pre {margin: 0.2em;color: black;border-radius: 0.25em;background-color: #f0f8ff;}#sk-container-id-3 input.sk-toggleable__control:checked~div.sk-toggleable__content {max-height: 200px;max-width: 100%;overflow: auto;}#sk-container-id-3 input.sk-toggleable__control:checked~label.sk-toggleable__label-arrow:before {content: \"▾\";}#sk-container-id-3 div.sk-estimator input.sk-toggleable__control:checked~label.sk-toggleable__label {background-color: #d4ebff;}#sk-container-id-3 div.sk-label input.sk-toggleable__control:checked~label.sk-toggleable__label {background-color: #d4ebff;}#sk-container-id-3 input.sk-hidden--visually {border: 0;clip: rect(1px 1px 1px 1px);clip: rect(1px, 1px, 1px, 1px);height: 1px;margin: -1px;overflow: hidden;padding: 0;position: absolute;width: 1px;}#sk-container-id-3 div.sk-estimator {font-family: monospace;background-color: #f0f8ff;border: 1px dotted black;border-radius: 0.25em;box-sizing: border-box;margin-bottom: 0.5em;}#sk-container-id-3 div.sk-estimator:hover {background-color: #d4ebff;}#sk-container-id-3 div.sk-parallel-item::after {content: \"\";width: 100%;border-bottom: 1px solid gray;flex-grow: 1;}#sk-container-id-3 div.sk-label:hover label.sk-toggleable__label {background-color: #d4ebff;}#sk-container-id-3 div.sk-serial::before {content: \"\";position: absolute;border-left: 1px solid gray;box-sizing: border-box;top: 0;bottom: 0;left: 50%;z-index: 0;}#sk-container-id-3 div.sk-serial {display: flex;flex-direction: column;align-items: center;background-color: white;padding-right: 0.2em;padding-left: 0.2em;position: relative;}#sk-container-id-3 div.sk-item {position: relative;z-index: 1;}#sk-container-id-3 div.sk-parallel {display: flex;align-items: stretch;justify-content: center;background-color: white;position: relative;}#sk-container-id-3 div.sk-item::before, #sk-container-id-3 div.sk-parallel-item::before {content: \"\";position: absolute;border-left: 1px solid gray;box-sizing: border-box;top: 0;bottom: 0;left: 50%;z-index: -1;}#sk-container-id-3 div.sk-parallel-item {display: flex;flex-direction: column;z-index: 1;position: relative;background-color: white;}#sk-container-id-3 div.sk-parallel-item:first-child::after {align-self: flex-end;width: 50%;}#sk-container-id-3 div.sk-parallel-item:last-child::after {align-self: flex-start;width: 50%;}#sk-container-id-3 div.sk-parallel-item:only-child::after {width: 0;}#sk-container-id-3 div.sk-dashed-wrapped {border: 1px dashed gray;margin: 0 0.4em 0.5em 0.4em;box-sizing: border-box;padding-bottom: 0.4em;background-color: white;}#sk-container-id-3 div.sk-label label {font-family: monospace;font-weight: bold;display: inline-block;line-height: 1.2em;}#sk-container-id-3 div.sk-label-container {text-align: center;}#sk-container-id-3 div.sk-container {/* jupyter's `normalize.less` sets `[hidden] { display: none; }` but bootstrap.min.css set `[hidden] { display: none !important; }` so we also need the `!important` here to be able to override the default hidden behavior on the sphinx rendered scikit-learn.org. See: https://github.com/scikit-learn/scikit-learn/issues/21755 */display: inline-block !important;position: relative;}#sk-container-id-3 div.sk-text-repr-fallback {display: none;}</style><div id=\"sk-container-id-3\" class=\"sk-top-container\"><div class=\"sk-text-repr-fallback\"><pre>LogisticRegression(random_state=40)</pre><b>In a Jupyter environment, please rerun this cell to show the HTML representation or trust the notebook. <br />On GitHub, the HTML representation is unable to render, please try loading this page with nbviewer.org.</b></div><div class=\"sk-container\" hidden><div class=\"sk-item\"><div class=\"sk-estimator sk-toggleable\"><input class=\"sk-toggleable__control sk-hidden--visually\" id=\"sk-estimator-id-3\" type=\"checkbox\" checked><label for=\"sk-estimator-id-3\" class=\"sk-toggleable__label sk-toggleable__label-arrow\">LogisticRegression</label><div class=\"sk-toggleable__content\"><pre>LogisticRegression(random_state=40)</pre></div></div></div></div></div>"
            ]
          },
          "metadata": {},
          "execution_count": 103
        }
      ]
    },
    {
      "cell_type": "code",
      "source": [
        "y_train_pred = lr.predict_proba(X_train_sc)[:,1]\n",
        "y_valid_pred = lr.predict_proba(X_valid_sc)[:,1]\n",
        "\n",
        "print('Logistic training')\n",
        "lr_train_auc, lr_train_accuracy, lr_train_recall,lr_train_precision, lr_train_specificity = report(y_train, y_train_pred, threshold)\n",
        "print('Logistic validation')\n",
        "lr_valid_auc, lr_valid_accuracy, lr_valid_recall,lr_valid_precision, lr_valid_specificity = report(y_valid, y_valid_pred, threshold)"
      ],
      "metadata": {
        "colab": {
          "base_uri": "https://localhost:8080/"
        },
        "id": "zSQVy6Q5rS45",
        "outputId": "80e3c59f-4c9f-4c09-b6a7-d50f18a45a4d"
      },
      "execution_count": 104,
      "outputs": [
        {
          "output_type": "stream",
          "name": "stdout",
          "text": [
            "Logistic training\n",
            "AUC: 0.671\n",
            "accuracy: 0.621\n",
            "recall: 0.556\n",
            "precision: 0.639\n",
            "specificity: 0.686\n",
            "==================\n",
            "Logistic validation\n",
            "AUC: 0.659\n",
            "accuracy: 0.676\n",
            "recall: 0.534\n",
            "precision: 0.188\n",
            "specificity: 0.695\n",
            "==================\n"
          ]
        }
      ]
    },
    {
      "cell_type": "markdown",
      "source": [
        "**Decision tree**"
      ],
      "metadata": {
        "id": "HxOjwagXn6za"
      }
    },
    {
      "cell_type": "code",
      "source": [
        "from sklearn.tree import DecisionTreeClassifier\n",
        "\n",
        "tree = DecisionTreeClassifier(max_depth=10, random_state=40)\n",
        "tree.fit(X_train_sc, y_train)"
      ],
      "metadata": {
        "colab": {
          "base_uri": "https://localhost:8080/",
          "height": 75
        },
        "id": "iMrQSLNBsHZV",
        "outputId": "2f9f6486-6b9d-474a-f31b-6c5cba8a4331"
      },
      "execution_count": 105,
      "outputs": [
        {
          "output_type": "execute_result",
          "data": {
            "text/plain": [
              "DecisionTreeClassifier(max_depth=10, random_state=40)"
            ],
            "text/html": [
              "<style>#sk-container-id-4 {color: black;background-color: white;}#sk-container-id-4 pre{padding: 0;}#sk-container-id-4 div.sk-toggleable {background-color: white;}#sk-container-id-4 label.sk-toggleable__label {cursor: pointer;display: block;width: 100%;margin-bottom: 0;padding: 0.3em;box-sizing: border-box;text-align: center;}#sk-container-id-4 label.sk-toggleable__label-arrow:before {content: \"▸\";float: left;margin-right: 0.25em;color: #696969;}#sk-container-id-4 label.sk-toggleable__label-arrow:hover:before {color: black;}#sk-container-id-4 div.sk-estimator:hover label.sk-toggleable__label-arrow:before {color: black;}#sk-container-id-4 div.sk-toggleable__content {max-height: 0;max-width: 0;overflow: hidden;text-align: left;background-color: #f0f8ff;}#sk-container-id-4 div.sk-toggleable__content pre {margin: 0.2em;color: black;border-radius: 0.25em;background-color: #f0f8ff;}#sk-container-id-4 input.sk-toggleable__control:checked~div.sk-toggleable__content {max-height: 200px;max-width: 100%;overflow: auto;}#sk-container-id-4 input.sk-toggleable__control:checked~label.sk-toggleable__label-arrow:before {content: \"▾\";}#sk-container-id-4 div.sk-estimator input.sk-toggleable__control:checked~label.sk-toggleable__label {background-color: #d4ebff;}#sk-container-id-4 div.sk-label input.sk-toggleable__control:checked~label.sk-toggleable__label {background-color: #d4ebff;}#sk-container-id-4 input.sk-hidden--visually {border: 0;clip: rect(1px 1px 1px 1px);clip: rect(1px, 1px, 1px, 1px);height: 1px;margin: -1px;overflow: hidden;padding: 0;position: absolute;width: 1px;}#sk-container-id-4 div.sk-estimator {font-family: monospace;background-color: #f0f8ff;border: 1px dotted black;border-radius: 0.25em;box-sizing: border-box;margin-bottom: 0.5em;}#sk-container-id-4 div.sk-estimator:hover {background-color: #d4ebff;}#sk-container-id-4 div.sk-parallel-item::after {content: \"\";width: 100%;border-bottom: 1px solid gray;flex-grow: 1;}#sk-container-id-4 div.sk-label:hover label.sk-toggleable__label {background-color: #d4ebff;}#sk-container-id-4 div.sk-serial::before {content: \"\";position: absolute;border-left: 1px solid gray;box-sizing: border-box;top: 0;bottom: 0;left: 50%;z-index: 0;}#sk-container-id-4 div.sk-serial {display: flex;flex-direction: column;align-items: center;background-color: white;padding-right: 0.2em;padding-left: 0.2em;position: relative;}#sk-container-id-4 div.sk-item {position: relative;z-index: 1;}#sk-container-id-4 div.sk-parallel {display: flex;align-items: stretch;justify-content: center;background-color: white;position: relative;}#sk-container-id-4 div.sk-item::before, #sk-container-id-4 div.sk-parallel-item::before {content: \"\";position: absolute;border-left: 1px solid gray;box-sizing: border-box;top: 0;bottom: 0;left: 50%;z-index: -1;}#sk-container-id-4 div.sk-parallel-item {display: flex;flex-direction: column;z-index: 1;position: relative;background-color: white;}#sk-container-id-4 div.sk-parallel-item:first-child::after {align-self: flex-end;width: 50%;}#sk-container-id-4 div.sk-parallel-item:last-child::after {align-self: flex-start;width: 50%;}#sk-container-id-4 div.sk-parallel-item:only-child::after {width: 0;}#sk-container-id-4 div.sk-dashed-wrapped {border: 1px dashed gray;margin: 0 0.4em 0.5em 0.4em;box-sizing: border-box;padding-bottom: 0.4em;background-color: white;}#sk-container-id-4 div.sk-label label {font-family: monospace;font-weight: bold;display: inline-block;line-height: 1.2em;}#sk-container-id-4 div.sk-label-container {text-align: center;}#sk-container-id-4 div.sk-container {/* jupyter's `normalize.less` sets `[hidden] { display: none; }` but bootstrap.min.css set `[hidden] { display: none !important; }` so we also need the `!important` here to be able to override the default hidden behavior on the sphinx rendered scikit-learn.org. See: https://github.com/scikit-learn/scikit-learn/issues/21755 */display: inline-block !important;position: relative;}#sk-container-id-4 div.sk-text-repr-fallback {display: none;}</style><div id=\"sk-container-id-4\" class=\"sk-top-container\"><div class=\"sk-text-repr-fallback\"><pre>DecisionTreeClassifier(max_depth=10, random_state=40)</pre><b>In a Jupyter environment, please rerun this cell to show the HTML representation or trust the notebook. <br />On GitHub, the HTML representation is unable to render, please try loading this page with nbviewer.org.</b></div><div class=\"sk-container\" hidden><div class=\"sk-item\"><div class=\"sk-estimator sk-toggleable\"><input class=\"sk-toggleable__control sk-hidden--visually\" id=\"sk-estimator-id-4\" type=\"checkbox\" checked><label for=\"sk-estimator-id-4\" class=\"sk-toggleable__label sk-toggleable__label-arrow\">DecisionTreeClassifier</label><div class=\"sk-toggleable__content\"><pre>DecisionTreeClassifier(max_depth=10, random_state=40)</pre></div></div></div></div></div>"
            ]
          },
          "metadata": {},
          "execution_count": 105
        }
      ]
    },
    {
      "cell_type": "code",
      "source": [
        "y_train_pred = tree.predict_proba(X_train_sc)[:,1]\n",
        "y_valid_pred = tree.predict_proba(X_valid_sc)[:,1]\n",
        "\n",
        "print('Decision tree training')\n",
        "tree_train_auc, tree_train_accuracy, tree_train_recall,tree_train_precision, tree_train_specificity = report(y_train, y_train_pred, threshold)\n",
        "print('Decision tree validation')\n",
        "tree_valid_auc, tree_valid_accuracy, tree_valid_recall,tree_valid_precision, tree_valid_specificity = report(y_valid, y_valid_pred, threshold)"
      ],
      "metadata": {
        "colab": {
          "base_uri": "https://localhost:8080/"
        },
        "id": "mXUHmAFfscdH",
        "outputId": "0023dc18-4e26-4619-86e8-05713497f0b5"
      },
      "execution_count": 106,
      "outputs": [
        {
          "output_type": "stream",
          "name": "stdout",
          "text": [
            "Decision tree training\n",
            "AUC: 0.727\n",
            "accuracy: 0.659\n",
            "recall: 0.603\n",
            "precision: 0.679\n",
            "specificity: 0.711\n",
            "==================\n",
            "Decision tree validation\n",
            "AUC: 0.625\n",
            "accuracy: 0.629\n",
            "recall: 0.519\n",
            "precision: 0.161\n",
            "specificity: 0.639\n",
            "==================\n"
          ]
        }
      ]
    },
    {
      "cell_type": "markdown",
      "source": [
        "**Stochastic gradient descent**"
      ],
      "metadata": {
        "id": "Xi89TAo4oNgI"
      }
    },
    {
      "cell_type": "code",
      "source": [
        "from sklearn.linear_model import SGDClassifier\n",
        "sgd = SGDClassifier(loss = 'log_loss', alpha = 0.1, random_state=40)\n",
        "sgd.fit(X_train_sc, y_train)"
      ],
      "metadata": {
        "colab": {
          "base_uri": "https://localhost:8080/",
          "height": 75
        },
        "id": "veh1PriptBou",
        "outputId": "2dc4dd60-1534-4f24-d76c-f6f9e18bd49a"
      },
      "execution_count": 108,
      "outputs": [
        {
          "output_type": "execute_result",
          "data": {
            "text/plain": [
              "SGDClassifier(alpha=0.1, loss='log_loss', random_state=40)"
            ],
            "text/html": [
              "<style>#sk-container-id-6 {color: black;background-color: white;}#sk-container-id-6 pre{padding: 0;}#sk-container-id-6 div.sk-toggleable {background-color: white;}#sk-container-id-6 label.sk-toggleable__label {cursor: pointer;display: block;width: 100%;margin-bottom: 0;padding: 0.3em;box-sizing: border-box;text-align: center;}#sk-container-id-6 label.sk-toggleable__label-arrow:before {content: \"▸\";float: left;margin-right: 0.25em;color: #696969;}#sk-container-id-6 label.sk-toggleable__label-arrow:hover:before {color: black;}#sk-container-id-6 div.sk-estimator:hover label.sk-toggleable__label-arrow:before {color: black;}#sk-container-id-6 div.sk-toggleable__content {max-height: 0;max-width: 0;overflow: hidden;text-align: left;background-color: #f0f8ff;}#sk-container-id-6 div.sk-toggleable__content pre {margin: 0.2em;color: black;border-radius: 0.25em;background-color: #f0f8ff;}#sk-container-id-6 input.sk-toggleable__control:checked~div.sk-toggleable__content {max-height: 200px;max-width: 100%;overflow: auto;}#sk-container-id-6 input.sk-toggleable__control:checked~label.sk-toggleable__label-arrow:before {content: \"▾\";}#sk-container-id-6 div.sk-estimator input.sk-toggleable__control:checked~label.sk-toggleable__label {background-color: #d4ebff;}#sk-container-id-6 div.sk-label input.sk-toggleable__control:checked~label.sk-toggleable__label {background-color: #d4ebff;}#sk-container-id-6 input.sk-hidden--visually {border: 0;clip: rect(1px 1px 1px 1px);clip: rect(1px, 1px, 1px, 1px);height: 1px;margin: -1px;overflow: hidden;padding: 0;position: absolute;width: 1px;}#sk-container-id-6 div.sk-estimator {font-family: monospace;background-color: #f0f8ff;border: 1px dotted black;border-radius: 0.25em;box-sizing: border-box;margin-bottom: 0.5em;}#sk-container-id-6 div.sk-estimator:hover {background-color: #d4ebff;}#sk-container-id-6 div.sk-parallel-item::after {content: \"\";width: 100%;border-bottom: 1px solid gray;flex-grow: 1;}#sk-container-id-6 div.sk-label:hover label.sk-toggleable__label {background-color: #d4ebff;}#sk-container-id-6 div.sk-serial::before {content: \"\";position: absolute;border-left: 1px solid gray;box-sizing: border-box;top: 0;bottom: 0;left: 50%;z-index: 0;}#sk-container-id-6 div.sk-serial {display: flex;flex-direction: column;align-items: center;background-color: white;padding-right: 0.2em;padding-left: 0.2em;position: relative;}#sk-container-id-6 div.sk-item {position: relative;z-index: 1;}#sk-container-id-6 div.sk-parallel {display: flex;align-items: stretch;justify-content: center;background-color: white;position: relative;}#sk-container-id-6 div.sk-item::before, #sk-container-id-6 div.sk-parallel-item::before {content: \"\";position: absolute;border-left: 1px solid gray;box-sizing: border-box;top: 0;bottom: 0;left: 50%;z-index: -1;}#sk-container-id-6 div.sk-parallel-item {display: flex;flex-direction: column;z-index: 1;position: relative;background-color: white;}#sk-container-id-6 div.sk-parallel-item:first-child::after {align-self: flex-end;width: 50%;}#sk-container-id-6 div.sk-parallel-item:last-child::after {align-self: flex-start;width: 50%;}#sk-container-id-6 div.sk-parallel-item:only-child::after {width: 0;}#sk-container-id-6 div.sk-dashed-wrapped {border: 1px dashed gray;margin: 0 0.4em 0.5em 0.4em;box-sizing: border-box;padding-bottom: 0.4em;background-color: white;}#sk-container-id-6 div.sk-label label {font-family: monospace;font-weight: bold;display: inline-block;line-height: 1.2em;}#sk-container-id-6 div.sk-label-container {text-align: center;}#sk-container-id-6 div.sk-container {/* jupyter's `normalize.less` sets `[hidden] { display: none; }` but bootstrap.min.css set `[hidden] { display: none !important; }` so we also need the `!important` here to be able to override the default hidden behavior on the sphinx rendered scikit-learn.org. See: https://github.com/scikit-learn/scikit-learn/issues/21755 */display: inline-block !important;position: relative;}#sk-container-id-6 div.sk-text-repr-fallback {display: none;}</style><div id=\"sk-container-id-6\" class=\"sk-top-container\"><div class=\"sk-text-repr-fallback\"><pre>SGDClassifier(alpha=0.1, loss=&#x27;log_loss&#x27;, random_state=40)</pre><b>In a Jupyter environment, please rerun this cell to show the HTML representation or trust the notebook. <br />On GitHub, the HTML representation is unable to render, please try loading this page with nbviewer.org.</b></div><div class=\"sk-container\" hidden><div class=\"sk-item\"><div class=\"sk-estimator sk-toggleable\"><input class=\"sk-toggleable__control sk-hidden--visually\" id=\"sk-estimator-id-6\" type=\"checkbox\" checked><label for=\"sk-estimator-id-6\" class=\"sk-toggleable__label sk-toggleable__label-arrow\">SGDClassifier</label><div class=\"sk-toggleable__content\"><pre>SGDClassifier(alpha=0.1, loss=&#x27;log_loss&#x27;, random_state=40)</pre></div></div></div></div></div>"
            ]
          },
          "metadata": {},
          "execution_count": 108
        }
      ]
    },
    {
      "cell_type": "code",
      "source": [
        "y_train_pred = sgd.predict_proba(X_train_sc)[:,1]\n",
        "y_valid_pred = sgd.predict_proba(X_valid_sc)[:,1]\n",
        "\n",
        "print('SGD training')\n",
        "sgd_train_auc, sgd_train_accuracy, sgd_train_recall, sgd_train_precision, sgd_train_specificity = report(y_train, y_train_pred, threshold)\n",
        "print('SGD validation')\n",
        "sgd_valid_auc, sgd_valid_accuracy, sgd_valid_recall, sgd_valid_precision, sgd_valid_specificity = report(y_valid, y_valid_pred, threshold)"
      ],
      "metadata": {
        "colab": {
          "base_uri": "https://localhost:8080/"
        },
        "id": "pIobmAh-tiQ2",
        "outputId": "f3eef0c1-6cc1-4f90-d181-230bbe9683c9"
      },
      "execution_count": 109,
      "outputs": [
        {
          "output_type": "stream",
          "name": "stdout",
          "text": [
            "SGD training\n",
            "AUC: 0.669\n",
            "accuracy: 0.620\n",
            "recall: 0.550\n",
            "precision: 0.639\n",
            "specificity: 0.689\n",
            "==================\n",
            "SGD validation\n",
            "AUC: 0.661\n",
            "accuracy: 0.681\n",
            "recall: 0.534\n",
            "precision: 0.191\n",
            "specificity: 0.701\n",
            "==================\n"
          ]
        }
      ]
    },
    {
      "cell_type": "markdown",
      "source": [
        "**Gradient boosting classifier**"
      ],
      "metadata": {
        "id": "KLBPneBgoVbs"
      }
    },
    {
      "cell_type": "code",
      "source": [
        "from sklearn.ensemble import GradientBoostingClassifier\n",
        "gbc = GradientBoostingClassifier(n_estimators = 100, learning_rate = 1.0, max_depth = 3, random_state = 40)\n",
        "gbc.fit(X_train_sc, y_train)"
      ],
      "metadata": {
        "colab": {
          "base_uri": "https://localhost:8080/",
          "height": 75
        },
        "id": "ii7ynpKfuCiV",
        "outputId": "e995a5f0-927a-49d3-fb7f-705b8b8f9056"
      },
      "execution_count": 128,
      "outputs": [
        {
          "output_type": "execute_result",
          "data": {
            "text/plain": [
              "GradientBoostingClassifier(learning_rate=1.0, random_state=40)"
            ],
            "text/html": [
              "<style>#sk-container-id-8 {color: black;background-color: white;}#sk-container-id-8 pre{padding: 0;}#sk-container-id-8 div.sk-toggleable {background-color: white;}#sk-container-id-8 label.sk-toggleable__label {cursor: pointer;display: block;width: 100%;margin-bottom: 0;padding: 0.3em;box-sizing: border-box;text-align: center;}#sk-container-id-8 label.sk-toggleable__label-arrow:before {content: \"▸\";float: left;margin-right: 0.25em;color: #696969;}#sk-container-id-8 label.sk-toggleable__label-arrow:hover:before {color: black;}#sk-container-id-8 div.sk-estimator:hover label.sk-toggleable__label-arrow:before {color: black;}#sk-container-id-8 div.sk-toggleable__content {max-height: 0;max-width: 0;overflow: hidden;text-align: left;background-color: #f0f8ff;}#sk-container-id-8 div.sk-toggleable__content pre {margin: 0.2em;color: black;border-radius: 0.25em;background-color: #f0f8ff;}#sk-container-id-8 input.sk-toggleable__control:checked~div.sk-toggleable__content {max-height: 200px;max-width: 100%;overflow: auto;}#sk-container-id-8 input.sk-toggleable__control:checked~label.sk-toggleable__label-arrow:before {content: \"▾\";}#sk-container-id-8 div.sk-estimator input.sk-toggleable__control:checked~label.sk-toggleable__label {background-color: #d4ebff;}#sk-container-id-8 div.sk-label input.sk-toggleable__control:checked~label.sk-toggleable__label {background-color: #d4ebff;}#sk-container-id-8 input.sk-hidden--visually {border: 0;clip: rect(1px 1px 1px 1px);clip: rect(1px, 1px, 1px, 1px);height: 1px;margin: -1px;overflow: hidden;padding: 0;position: absolute;width: 1px;}#sk-container-id-8 div.sk-estimator {font-family: monospace;background-color: #f0f8ff;border: 1px dotted black;border-radius: 0.25em;box-sizing: border-box;margin-bottom: 0.5em;}#sk-container-id-8 div.sk-estimator:hover {background-color: #d4ebff;}#sk-container-id-8 div.sk-parallel-item::after {content: \"\";width: 100%;border-bottom: 1px solid gray;flex-grow: 1;}#sk-container-id-8 div.sk-label:hover label.sk-toggleable__label {background-color: #d4ebff;}#sk-container-id-8 div.sk-serial::before {content: \"\";position: absolute;border-left: 1px solid gray;box-sizing: border-box;top: 0;bottom: 0;left: 50%;z-index: 0;}#sk-container-id-8 div.sk-serial {display: flex;flex-direction: column;align-items: center;background-color: white;padding-right: 0.2em;padding-left: 0.2em;position: relative;}#sk-container-id-8 div.sk-item {position: relative;z-index: 1;}#sk-container-id-8 div.sk-parallel {display: flex;align-items: stretch;justify-content: center;background-color: white;position: relative;}#sk-container-id-8 div.sk-item::before, #sk-container-id-8 div.sk-parallel-item::before {content: \"\";position: absolute;border-left: 1px solid gray;box-sizing: border-box;top: 0;bottom: 0;left: 50%;z-index: -1;}#sk-container-id-8 div.sk-parallel-item {display: flex;flex-direction: column;z-index: 1;position: relative;background-color: white;}#sk-container-id-8 div.sk-parallel-item:first-child::after {align-self: flex-end;width: 50%;}#sk-container-id-8 div.sk-parallel-item:last-child::after {align-self: flex-start;width: 50%;}#sk-container-id-8 div.sk-parallel-item:only-child::after {width: 0;}#sk-container-id-8 div.sk-dashed-wrapped {border: 1px dashed gray;margin: 0 0.4em 0.5em 0.4em;box-sizing: border-box;padding-bottom: 0.4em;background-color: white;}#sk-container-id-8 div.sk-label label {font-family: monospace;font-weight: bold;display: inline-block;line-height: 1.2em;}#sk-container-id-8 div.sk-label-container {text-align: center;}#sk-container-id-8 div.sk-container {/* jupyter's `normalize.less` sets `[hidden] { display: none; }` but bootstrap.min.css set `[hidden] { display: none !important; }` so we also need the `!important` here to be able to override the default hidden behavior on the sphinx rendered scikit-learn.org. See: https://github.com/scikit-learn/scikit-learn/issues/21755 */display: inline-block !important;position: relative;}#sk-container-id-8 div.sk-text-repr-fallback {display: none;}</style><div id=\"sk-container-id-8\" class=\"sk-top-container\"><div class=\"sk-text-repr-fallback\"><pre>GradientBoostingClassifier(learning_rate=1.0, random_state=40)</pre><b>In a Jupyter environment, please rerun this cell to show the HTML representation or trust the notebook. <br />On GitHub, the HTML representation is unable to render, please try loading this page with nbviewer.org.</b></div><div class=\"sk-container\" hidden><div class=\"sk-item\"><div class=\"sk-estimator sk-toggleable\"><input class=\"sk-toggleable__control sk-hidden--visually\" id=\"sk-estimator-id-8\" type=\"checkbox\" checked><label for=\"sk-estimator-id-8\" class=\"sk-toggleable__label sk-toggleable__label-arrow\">GradientBoostingClassifier</label><div class=\"sk-toggleable__content\"><pre>GradientBoostingClassifier(learning_rate=1.0, random_state=40)</pre></div></div></div></div></div>"
            ]
          },
          "metadata": {},
          "execution_count": 128
        }
      ]
    },
    {
      "cell_type": "code",
      "source": [
        "y_train_pred = gbc.predict_proba(X_train_sc)[:,1]\n",
        "y_valid_pred = gbc.predict_proba(X_valid_sc)[:,1]\n",
        "\n",
        "print('GBC training')\n",
        "gbc_train_auc, gbc_train_accuracy, gbc_train_recall, gbc_train_precision, gbc_train_specificity = report(y_train, y_train_pred, threshold)\n",
        "print('GBC validation')\n",
        "gbc_valid_auc, gbc_valid_accuracy, gbc_valid_recall, gbc_valid_precision, gbc_valid_specificity = report(y_valid, y_valid_pred, threshold)"
      ],
      "metadata": {
        "colab": {
          "base_uri": "https://localhost:8080/"
        },
        "id": "m15aOG-MvgoG",
        "outputId": "c1586bba-8837-49ce-8c7e-5dc547178ae4"
      },
      "execution_count": 129,
      "outputs": [
        {
          "output_type": "stream",
          "name": "stdout",
          "text": [
            "GBC training\n",
            "AUC: 0.762\n",
            "accuracy: 0.688\n",
            "recall: 0.670\n",
            "precision: 0.695\n",
            "specificity: 0.705\n",
            "==================\n",
            "GBC validation\n",
            "AUC: 0.653\n",
            "accuracy: 0.620\n",
            "recall: 0.598\n",
            "precision: 0.174\n",
            "specificity: 0.623\n",
            "==================\n"
          ]
        }
      ]
    },
    {
      "cell_type": "code",
      "source": [
        "data = [['train', 'knn', knn_train_auc], ['valid', 'knn', knn_valid_auc],\n",
        "        ['train', 'lr', lr_train_auc], ['valid', 'lr', lr_valid_auc],\n",
        "        ['train', 'tree', tree_train_auc], ['valid', 'tree', tree_valid_auc],\n",
        "        ['train', 'sgd', sgd_train_auc], ['valid', 'sgd', sgd_valid_auc],\n",
        "    ['train', 'gbc', gbc_train_auc], ['valid', 'gbc', gbc_valid_auc]]"
      ],
      "metadata": {
        "id": "e_e2yVG6wWrv"
      },
      "execution_count": 130,
      "outputs": []
    },
    {
      "cell_type": "code",
      "source": [
        "data = pd.DataFrame(data)"
      ],
      "metadata": {
        "id": "TuQMSZr9xgmi"
      },
      "execution_count": 131,
      "outputs": []
    },
    {
      "cell_type": "code",
      "source": [
        "data.columns= ['dataset','model','auc']"
      ],
      "metadata": {
        "id": "xLSl13Hoxsh_"
      },
      "execution_count": 132,
      "outputs": []
    },
    {
      "cell_type": "code",
      "source": [
        "sns.barplot(data= data, x = 'model', y = 'auc', hue = 'dataset')"
      ],
      "metadata": {
        "colab": {
          "base_uri": "https://localhost:8080/",
          "height": 481
        },
        "id": "fL54FHdly-m7",
        "outputId": "7341f825-fd02-474e-c6e6-3ea2c1109e93"
      },
      "execution_count": 133,
      "outputs": [
        {
          "output_type": "execute_result",
          "data": {
            "text/plain": [
              "<Axes: xlabel='model', ylabel='auc'>"
            ]
          },
          "metadata": {},
          "execution_count": 133
        },
        {
          "output_type": "display_data",
          "data": {
            "text/plain": [
              "<Figure size 640x480 with 1 Axes>"
            ],
            "image/png": "[encoded data removed]"
          },
          "metadata": {}
        }
      ]
    },
    {
      "cell_type": "markdown",
      "source": [
        "We observe that GBC has the highest AUC in the training dataset (as expected) however this metrics decay in the validation dataset. As we have used only default values for hyperparameters, we can look deeper in the importance of the features used. This can be done in simple models such logistic regression:"
      ],
      "metadata": {
        "id": "6J6NhM4m1gOP"
      }
    },
    {
      "cell_type": "code",
      "source": [
        "feature_importance =pd.DataFrame(lr.coef_[0],\n",
        "                                 index = working_columns,\n",
        "                                 columns = ['importance']).sort_values('importance', ascending = False)"
      ],
      "metadata": {
        "id": "t8YSgkSQ2IHi"
      },
      "execution_count": 142,
      "outputs": []
    },
    {
      "cell_type": "code",
      "source": [
        "feature_importance['feature'] = feature_importance.index"
      ],
      "metadata": {
        "id": "D8ABHTSk3_wl"
      },
      "execution_count": 147,
      "outputs": []
    },
    {
      "cell_type": "code",
      "source": [
        "sns.set_color_codes('pastel')\n",
        "sns.barplot(feature_importance.head(20), x= 'importance', y = 'feature', orient = 'h', color = 'b')\n",
        "plt.title('Logistic regression - Feature importance - top 20')"
      ],
      "metadata": {
        "colab": {
          "base_uri": "https://localhost:8080/",
          "height": 497
        },
        "id": "mEoxr6oV2dgS",
        "outputId": "420c40b5-22a8-4d87-ef85-ba75a13bad1c"
      },
      "execution_count": 159,
      "outputs": [
        {
          "output_type": "execute_result",
          "data": {
            "text/plain": [
              "Text(0.5, 1.0, 'Logistic regression - Feature importance - top 20')"
            ]
          },
          "metadata": {},
          "execution_count": 159
        },
        {
          "output_type": "display_data",
          "data": {
            "text/plain": [
              "<Figure size 640x480 with 1 Axes>"
            ],
            "image/png": "[encoded data removed]"
          },
          "metadata": {}
        }
      ]
    },
    {
      "cell_type": "markdown",
      "source": [
        "The number_impatient is the most relevant in this model, which can be undertood that depending on the impatient visits in the last year, it is probable that the patient is going to be readmitted in less than 30 days."
      ],
      "metadata": {
        "id": "JbfRgftB6tnu"
      }
    },
    {
      "cell_type": "code",
      "source": [
        "sns.barplot(feature_importance.tail(20), x= 'importance', y = 'feature', orient = 'h', color = 'b')\n",
        "plt.title('Logistic regression - Feature importance - last 20')"
      ],
      "metadata": {
        "colab": {
          "base_uri": "https://localhost:8080/",
          "height": 497
        },
        "id": "U47O2HrG5P0v",
        "outputId": "1d461ae4-4619-4daa-b92e-d1351f9b89d9"
      },
      "execution_count": 163,
      "outputs": [
        {
          "output_type": "execute_result",
          "data": {
            "text/plain": [
              "Text(0.5, 1.0, 'Logistic regression - Feature importance - last 20')"
            ]
          },
          "metadata": {},
          "execution_count": 163
        },
        {
          "output_type": "display_data",
          "data": {
            "text/plain": [
              "<Figure size 640x480 with 1 Axes>"
            ],
            "image/png": "[encoded data removed]"
          },
          "metadata": {}
        }
      ]
    },
    {
      "cell_type": "markdown",
      "source": [
        "We select the stocastic gradient descent model based on the higher AUC in the validation dataset."
      ],
      "metadata": {
        "id": "TAr96ciP8Bbg"
      }
    },
    {
      "cell_type": "code",
      "source": [
        "X_test = diabetes_test[working_columns].values\n",
        "y_test = diabetes_test['label'].values\n",
        "\n",
        "scaler = pickle.load(open('scaler.sav', 'rb'))\n",
        "X_test_sc = scaler.transform(X_test)"
      ],
      "metadata": {
        "id": "0rVEW7Mo8AFL"
      },
      "execution_count": 165,
      "outputs": []
    },
    {
      "cell_type": "code",
      "source": [
        "y_train_pred = sgd.predict_proba(X_train_sc)[:,1]\n",
        "y_valid_pred = sgd.predict_proba(X_valid_sc)[:,1]\n",
        "y_test_pred = sgd.predict_proba(X_test_sc)[:,1]"
      ],
      "metadata": {
        "id": "Mgh35yXO9nLz"
      },
      "execution_count": 167,
      "outputs": []
    },
    {
      "cell_type": "code",
      "source": [
        "sgd_train_auc, sgd_train_accuracy, sgd_train_recall, sgd_train_precision, sgd_train_specificity = report(y_train, y_train_pred, threshold)\n",
        "sgd_valid_auc, sgd_valid_accuracy, sgd_valid_recall, sgd_valid_precision, sgd_valid_specificity = report(y_valid, y_valid_pred, threshold)\n",
        "sgd_test_auc, sgd_test_accuracy, sgd_test_recall, sgd_test_precision, sgd_test_specificity = report(y_test, y_test_pred, threshold)"
      ],
      "metadata": {
        "colab": {
          "base_uri": "https://localhost:8080/"
        },
        "id": "qbAIqNxV-OgB",
        "outputId": "e59e1aab-1a3e-42e0-9444-33d8bb6cd68e"
      },
      "execution_count": 168,
      "outputs": [
        {
          "output_type": "stream",
          "name": "stdout",
          "text": [
            "AUC: 0.669\n",
            "accuracy: 0.620\n",
            "recall: 0.550\n",
            "precision: 0.639\n",
            "specificity: 0.689\n",
            "==================\n",
            "AUC: 0.661\n",
            "accuracy: 0.681\n",
            "recall: 0.534\n",
            "precision: 0.191\n",
            "specificity: 0.701\n",
            "==================\n",
            "AUC: 0.651\n",
            "accuracy: 0.661\n",
            "recall: 0.517\n",
            "precision: 0.174\n",
            "specificity: 0.680\n",
            "==================\n"
          ]
        }
      ]
    },
    {
      "cell_type": "code",
      "source": [
        "fpr_train, tpr_train, _ = metrics.roc_curve(y_train, y_train_pred)\n",
        "fpr_valid, tpr_valid, _ = metrics.roc_curve(y_valid, y_valid_pred)\n",
        "fpr_test, tpr_test, _ = metrics.roc_curve(y_test, y_test_pred)\n",
        "\n",
        "plt.plot(fpr_train, tpr_train, label = 'train AUC: 0.669')\n",
        "plt.plot(fpr_valid, tpr_valid, label = 'valid AUC: 0.661')\n",
        "plt.plot(fpr_test, tpr_test, label = 'test AUC: 0.651')\n",
        "plt.legend()\n",
        "plt.title('ROC curve for train, validation and test dataset using SGD')"
      ],
      "metadata": {
        "colab": {
          "base_uri": "https://localhost:8080/",
          "height": 474
        },
        "id": "Hh9KB_VL-xcb",
        "outputId": "4c26606d-5de5-4fb6-aa5a-0e49a7d83f78"
      },
      "execution_count": 180,
      "outputs": [
        {
          "output_type": "execute_result",
          "data": {
            "text/plain": [
              "Text(0.5, 1.0, 'ROC curve for train, validation and test dataset using SGD')"
            ]
          },
          "metadata": {},
          "execution_count": 180
        },
        {
          "output_type": "display_data",
          "data": {
            "text/plain": [
              "<Figure size 640x480 with 1 Axes>"
            ],
            "image/png": "[encoded data removed]"
          },
          "metadata": {}
        }
      ]
    },
    {
      "cell_type": "markdown",
      "source": [
        "**Final considerations**\n",
        "\n",
        "We have created machine learning models to predict whether a patient with diabetes is going to be readmitted in less than 30 days. Five models were shown as a way to compare performance between then, from the simplest KNN model to the gradient boosting classifier. Indeed, some analysis were left behind such as the addition/reduction of more features, the degree of bias/variance in the dataset and the use of hyperparameter tuning of the models. Finally, based on performance of AUC in the validation dataset, the Schocastic Gradient Descent (SGD) was choosen, and even though we have worked with the default hyperparameters, we got a working model."
      ],
      "metadata": {
        "id": "mzRP5ZBdDGEM"
      }
    }
  ]
}