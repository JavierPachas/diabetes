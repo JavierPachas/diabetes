{
  "nbformat": 4,
  "nbformat_minor": 0,
  "metadata": {
    "colab": {
      "provenance": [],
      "authorship_tag": "ABX9TyMRgOcN9r1BJTRsHwi/JacM",
      "include_colab_link": true
    },
    "kernelspec": {
      "name": "python3",
      "display_name": "Python 3"
    },
    "language_info": {
      "name": "python"
    }
  },
  "cells": [
    {
      "cell_type": "markdown",
      "metadata": {
        "id": "view-in-github",
        "colab_type": "text"
      },
      "source": [
        "<a href=\"https://colab.research.google.com/github/JavierPachas/diabetes/blob/main/diabetes.ipynb\" target=\"_parent\"><img src=\"https://colab.research.google.com/assets/colab-badge.svg\" alt=\"Open In Colab\"/></a>"
      ]
    },
    {
      "cell_type": "markdown",
      "source": [
        "Diabetes dataset\n",
        "\n",
        "Goal: Prediction if a diabetic patient will be readmitted to the hospital within 30 days.\n",
        "\n",
        "1.   Data analysis: Here one will get to know about how the data analysis part is done in a data science life cycle.\n",
        "2.   Exploratory data analysis (EDA): is one of the most important steps in the data science project life cycle and here one will need to know that how to make inferences from the visualizations and data analysisist item.\n",
        "3. Model building: Here we will be using 4 ML models and then we will choose the best performing model.\n",
        "4. Saving model: Saving the best model using pickle to make the prediction from real data."
      ],
      "metadata": {
        "id": "ym61iWJIUqER"
      }
    },
    {
      "cell_type": "markdown",
      "source": [
        "# **1. Exploratory Data Analysis (EDA)**"
      ],
      "metadata": {
        "id": "SUvWS2uCzRLr"
      }
    },
    {
      "cell_type": "code",
      "source": [
        "#importing libraries\n",
        "import numpy as np\n",
        "import pandas as pd\n",
        "import matplotlib.pyplot as plt\n",
        "import seaborn as sns\n",
        "\n",
        "sns.set()\n",
        "\n",
        "from mlxtend.plotting import plot_decision_regions\n",
        "import missingno as msno\n",
        "from pandas.plotting import scatter_matrix\n",
        "from sklearn.preprocessing import StandardScaler\n",
        "from sklearn.model_selection import train_test_split\n",
        "from sklearn.neighbors import KNeighborsClassifier\n",
        "\n",
        "from sklearn.metrics import confusion_matrix\n",
        "from sklearn import metrics\n",
        "from sklearn.metrics import classification_report\n",
        "#import warnings\n",
        "#warnings.filterwarnings('ignore')\n",
        "#%matplotlib inline"
      ],
      "metadata": {
        "id": "IkzrhopfUsvT"
      },
      "execution_count": 1,
      "outputs": []
    },
    {
      "cell_type": "code",
      "source": [
        "#reading data\n",
        "#url = 'https://raw.githubusercontent.com/JavierPachas/diabetes/main/diabetic_data.csv'\n",
        "#url2 = 'https://raw.githubusercontent.com/JavierPachas/diabetes/main/IDS_mapping.csv'\n",
        "diabetes_df = pd.read_csv(url)\n",
        "#read ids_mapping.csv for description of some variables such admission_type_id and disccharge_disposition_id"
      ],
      "metadata": {
        "id": "1rK061pUWpfT"
      },
      "execution_count": 61,
      "outputs": []
    },
    {
      "cell_type": "code",
      "source": [
        "diabetes_df.head()\n",
        "#weight has a question mark"
      ],
      "metadata": {
        "colab": {
          "base_uri": "https://localhost:8080/",
          "height": 360
        },
        "id": "ET4o3F-1dAi6",
        "outputId": "658fa32b-1f85-4e89-a7c6-46802e9dbd26"
      },
      "execution_count": 6,
      "outputs": [
        {
          "output_type": "execute_result",
          "data": {
            "text/plain": [
              "   encounter_id  patient_nbr             race  gender      age weight  \\\n",
              "0       2278392      8222157        Caucasian  Female   [0-10)      ?   \n",
              "1        149190     55629189        Caucasian  Female  [10-20)      ?   \n",
              "2         64410     86047875  AfricanAmerican  Female  [20-30)      ?   \n",
              "3        500364     82442376        Caucasian    Male  [30-40)      ?   \n",
              "4         16680     42519267        Caucasian    Male  [40-50)      ?   \n",
              "\n",
              "   admission_type_id  discharge_disposition_id  admission_source_id  \\\n",
              "0                  6                        25                    1   \n",
              "1                  1                         1                    7   \n",
              "2                  1                         1                    7   \n",
              "3                  1                         1                    7   \n",
              "4                  1                         1                    7   \n",
              "\n",
              "   time_in_hospital  ... citoglipton insulin  glyburide-metformin  \\\n",
              "0                 1  ...          No      No                   No   \n",
              "1                 3  ...          No      Up                   No   \n",
              "2                 2  ...          No      No                   No   \n",
              "3                 2  ...          No      Up                   No   \n",
              "4                 1  ...          No  Steady                   No   \n",
              "\n",
              "   glipizide-metformin  glimepiride-pioglitazone  metformin-rosiglitazone  \\\n",
              "0                   No                        No                       No   \n",
              "1                   No                        No                       No   \n",
              "2                   No                        No                       No   \n",
              "3                   No                        No                       No   \n",
              "4                   No                        No                       No   \n",
              "\n",
              "   metformin-pioglitazone  change diabetesMed readmitted  \n",
              "0                      No      No          No         NO  \n",
              "1                      No      Ch         Yes        >30  \n",
              "2                      No      No         Yes         NO  \n",
              "3                      No      Ch         Yes         NO  \n",
              "4                      No      Ch         Yes         NO  \n",
              "\n",
              "[5 rows x 50 columns]"
            ],
            "text/html": [
              "\n",
              "  <div id=\"df-637a8182-1a93-4cb7-9802-35c65d62dd3d\" class=\"colab-df-container\">\n",
              "    <div>\n",
              "<style scoped>\n",
              "    .dataframe tbody tr th:only-of-type {\n",
              "        vertical-align: middle;\n",
              "    }\n",
              "\n",
              "    .dataframe tbody tr th {\n",
              "        vertical-align: top;\n",
              "    }\n",
              "\n",
              "    .dataframe thead th {\n",
              "        text-align: right;\n",
              "    }\n",
              "</style>\n",
              "<table border=\"1\" class=\"dataframe\">\n",
              "  <thead>\n",
              "    <tr style=\"text-align: right;\">\n",
              "      <th></th>\n",
              "      <th>encounter_id</th>\n",
              "      <th>patient_nbr</th>\n",
              "      <th>race</th>\n",
              "      <th>gender</th>\n",
              "      <th>age</th>\n",
              "      <th>weight</th>\n",
              "      <th>admission_type_id</th>\n",
              "      <th>discharge_disposition_id</th>\n",
              "      <th>admission_source_id</th>\n",
              "      <th>time_in_hospital</th>\n",
              "      <th>...</th>\n",
              "      <th>citoglipton</th>\n",
              "      <th>insulin</th>\n",
              "      <th>glyburide-metformin</th>\n",
              "      <th>glipizide-metformin</th>\n",
              "      <th>glimepiride-pioglitazone</th>\n",
              "      <th>metformin-rosiglitazone</th>\n",
              "      <th>metformin-pioglitazone</th>\n",
              "      <th>change</th>\n",
              "      <th>diabetesMed</th>\n",
              "      <th>readmitted</th>\n",
              "    </tr>\n",
              "  </thead>\n",
              "  <tbody>\n",
              "    <tr>\n",
              "      <th>0</th>\n",
              "      <td>2278392</td>\n",
              "      <td>8222157</td>\n",
              "      <td>Caucasian</td>\n",
              "      <td>Female</td>\n",
              "      <td>[0-10)</td>\n",
              "      <td>?</td>\n",
              "      <td>6</td>\n",
              "      <td>25</td>\n",
              "      <td>1</td>\n",
              "      <td>1</td>\n",
              "      <td>...</td>\n",
              "      <td>No</td>\n",
              "      <td>No</td>\n",
              "      <td>No</td>\n",
              "      <td>No</td>\n",
              "      <td>No</td>\n",
              "      <td>No</td>\n",
              "      <td>No</td>\n",
              "      <td>No</td>\n",
              "      <td>No</td>\n",
              "      <td>NO</td>\n",
              "    </tr>\n",
              "    <tr>\n",
              "      <th>1</th>\n",
              "      <td>149190</td>\n",
              "      <td>55629189</td>\n",
              "      <td>Caucasian</td>\n",
              "      <td>Female</td>\n",
              "      <td>[10-20)</td>\n",
              "      <td>?</td>\n",
              "      <td>1</td>\n",
              "      <td>1</td>\n",
              "      <td>7</td>\n",
              "      <td>3</td>\n",
              "      <td>...</td>\n",
              "      <td>No</td>\n",
              "      <td>Up</td>\n",
              "      <td>No</td>\n",
              "      <td>No</td>\n",
              "      <td>No</td>\n",
              "      <td>No</td>\n",
              "      <td>No</td>\n",
              "      <td>Ch</td>\n",
              "      <td>Yes</td>\n",
              "      <td>&gt;30</td>\n",
              "    </tr>\n",
              "    <tr>\n",
              "      <th>2</th>\n",
              "      <td>64410</td>\n",
              "      <td>86047875</td>\n",
              "      <td>AfricanAmerican</td>\n",
              "      <td>Female</td>\n",
              "      <td>[20-30)</td>\n",
              "      <td>?</td>\n",
              "      <td>1</td>\n",
              "      <td>1</td>\n",
              "      <td>7</td>\n",
              "      <td>2</td>\n",
              "      <td>...</td>\n",
              "      <td>No</td>\n",
              "      <td>No</td>\n",
              "      <td>No</td>\n",
              "      <td>No</td>\n",
              "      <td>No</td>\n",
              "      <td>No</td>\n",
              "      <td>No</td>\n",
              "      <td>No</td>\n",
              "      <td>Yes</td>\n",
              "      <td>NO</td>\n",
              "    </tr>\n",
              "    <tr>\n",
              "      <th>3</th>\n",
              "      <td>500364</td>\n",
              "      <td>82442376</td>\n",
              "      <td>Caucasian</td>\n",
              "      <td>Male</td>\n",
              "      <td>[30-40)</td>\n",
              "      <td>?</td>\n",
              "      <td>1</td>\n",
              "      <td>1</td>\n",
              "      <td>7</td>\n",
              "      <td>2</td>\n",
              "      <td>...</td>\n",
              "      <td>No</td>\n",
              "      <td>Up</td>\n",
              "      <td>No</td>\n",
              "      <td>No</td>\n",
              "      <td>No</td>\n",
              "      <td>No</td>\n",
              "      <td>No</td>\n",
              "      <td>Ch</td>\n",
              "      <td>Yes</td>\n",
              "      <td>NO</td>\n",
              "    </tr>\n",
              "    <tr>\n",
              "      <th>4</th>\n",
              "      <td>16680</td>\n",
              "      <td>42519267</td>\n",
              "      <td>Caucasian</td>\n",
              "      <td>Male</td>\n",
              "      <td>[40-50)</td>\n",
              "      <td>?</td>\n",
              "      <td>1</td>\n",
              "      <td>1</td>\n",
              "      <td>7</td>\n",
              "      <td>1</td>\n",
              "      <td>...</td>\n",
              "      <td>No</td>\n",
              "      <td>Steady</td>\n",
              "      <td>No</td>\n",
              "      <td>No</td>\n",
              "      <td>No</td>\n",
              "      <td>No</td>\n",
              "      <td>No</td>\n",
              "      <td>Ch</td>\n",
              "      <td>Yes</td>\n",
              "      <td>NO</td>\n",
              "    </tr>\n",
              "  </tbody>\n",
              "</table>\n",
              "<p>5 rows × 50 columns</p>\n",
              "</div>\n",
              "    <div class=\"colab-df-buttons\">\n",
              "\n",
              "  <div class=\"colab-df-container\">\n",
              "    <button class=\"colab-df-convert\" onclick=\"convertToInteractive('df-637a8182-1a93-4cb7-9802-35c65d62dd3d')\"\n",
              "            title=\"Convert this dataframe to an interactive table.\"\n",
              "            style=\"display:none;\">\n",
              "\n",
              "  <svg xmlns=\"http://www.w3.org/2000/svg\" height=\"24px\" viewBox=\"0 -960 960 960\">\n",
              "    <path d=\"M120-120v-720h720v720H120Zm60-500h600v-160H180v160Zm220 220h160v-160H400v160Zm0 220h160v-160H400v160ZM180-400h160v-160H180v160Zm440 0h160v-160H620v160ZM180-180h160v-160H180v160Zm440 0h160v-160H620v160Z\"/>\n",
              "  </svg>\n",
              "    </button>\n",
              "\n",
              "  <style>\n",
              "    .colab-df-container {\n",
              "      display:flex;\n",
              "      gap: 12px;\n",
              "    }\n",
              "\n",
              "    .colab-df-convert {\n",
              "      background-color: #E8F0FE;\n",
              "      border: none;\n",
              "      border-radius: 50%;\n",
              "      cursor: pointer;\n",
              "      display: none;\n",
              "      fill: #1967D2;\n",
              "      height: 32px;\n",
              "      padding: 0 0 0 0;\n",
              "      width: 32px;\n",
              "    }\n",
              "\n",
              "    .colab-df-convert:hover {\n",
              "      background-color: #E2EBFA;\n",
              "      box-shadow: 0px 1px 2px rgba(60, 64, 67, 0.3), 0px 1px 3px 1px rgba(60, 64, 67, 0.15);\n",
              "      fill: #174EA6;\n",
              "    }\n",
              "\n",
              "    .colab-df-buttons div {\n",
              "      margin-bottom: 4px;\n",
              "    }\n",
              "\n",
              "    [theme=dark] .colab-df-convert {\n",
              "      background-color: #3B4455;\n",
              "      fill: #D2E3FC;\n",
              "    }\n",
              "\n",
              "    [theme=dark] .colab-df-convert:hover {\n",
              "      background-color: #434B5C;\n",
              "      box-shadow: 0px 1px 3px 1px rgba(0, 0, 0, 0.15);\n",
              "      filter: drop-shadow(0px 1px 2px rgba(0, 0, 0, 0.3));\n",
              "      fill: #FFFFFF;\n",
              "    }\n",
              "  </style>\n",
              "\n",
              "    <script>\n",
              "      const buttonEl =\n",
              "        document.querySelector('#df-637a8182-1a93-4cb7-9802-35c65d62dd3d button.colab-df-convert');\n",
              "      buttonEl.style.display =\n",
              "        google.colab.kernel.accessAllowed ? 'block' : 'none';\n",
              "\n",
              "      async function convertToInteractive(key) {\n",
              "        const element = document.querySelector('#df-637a8182-1a93-4cb7-9802-35c65d62dd3d');\n",
              "        const dataTable =\n",
              "          await google.colab.kernel.invokeFunction('convertToInteractive',\n",
              "                                                    [key], {});\n",
              "        if (!dataTable) return;\n",
              "\n",
              "        const docLinkHtml = 'Like what you see? Visit the ' +\n",
              "          '<a target=\"_blank\" href=https://colab.research.google.com/notebooks/data_table.ipynb>data table notebook</a>'\n",
              "          + ' to learn more about interactive tables.';\n",
              "        element.innerHTML = '';\n",
              "        dataTable['output_type'] = 'display_data';\n",
              "        await google.colab.output.renderOutput(dataTable, element);\n",
              "        const docLink = document.createElement('div');\n",
              "        docLink.innerHTML = docLinkHtml;\n",
              "        element.appendChild(docLink);\n",
              "      }\n",
              "    </script>\n",
              "  </div>\n",
              "\n",
              "\n",
              "<div id=\"df-fc4e5cf3-8be9-4275-ba8c-9c7018d14c87\">\n",
              "  <button class=\"colab-df-quickchart\" onclick=\"quickchart('df-fc4e5cf3-8be9-4275-ba8c-9c7018d14c87')\"\n",
              "            title=\"Suggest charts.\"\n",
              "            style=\"display:none;\">\n",
              "\n",
              "<svg xmlns=\"http://www.w3.org/2000/svg\" height=\"24px\"viewBox=\"0 0 24 24\"\n",
              "     width=\"24px\">\n",
              "    <g>\n",
              "        <path d=\"M19 3H5c-1.1 0-2 .9-2 2v14c0 1.1.9 2 2 2h14c1.1 0 2-.9 2-2V5c0-1.1-.9-2-2-2zM9 17H7v-7h2v7zm4 0h-2V7h2v10zm4 0h-2v-4h2v4z\"/>\n",
              "    </g>\n",
              "</svg>\n",
              "  </button>\n",
              "\n",
              "<style>\n",
              "  .colab-df-quickchart {\n",
              "    background-color: #E8F0FE;\n",
              "    border: none;\n",
              "    border-radius: 50%;\n",
              "    cursor: pointer;\n",
              "    display: none;\n",
              "    fill: #1967D2;\n",
              "    height: 32px;\n",
              "    padding: 0 0 0 0;\n",
              "    width: 32px;\n",
              "  }\n",
              "\n",
              "  .colab-df-quickchart:hover {\n",
              "    background-color: #E2EBFA;\n",
              "    box-shadow: 0px 1px 2px rgba(60, 64, 67, 0.3), 0px 1px 3px 1px rgba(60, 64, 67, 0.15);\n",
              "    fill: #174EA6;\n",
              "  }\n",
              "\n",
              "  [theme=dark] .colab-df-quickchart {\n",
              "    background-color: #3B4455;\n",
              "    fill: #D2E3FC;\n",
              "  }\n",
              "\n",
              "  [theme=dark] .colab-df-quickchart:hover {\n",
              "    background-color: #434B5C;\n",
              "    box-shadow: 0px 1px 3px 1px rgba(0, 0, 0, 0.15);\n",
              "    filter: drop-shadow(0px 1px 2px rgba(0, 0, 0, 0.3));\n",
              "    fill: #FFFFFF;\n",
              "  }\n",
              "</style>\n",
              "\n",
              "  <script>\n",
              "    async function quickchart(key) {\n",
              "      const charts = await google.colab.kernel.invokeFunction(\n",
              "          'suggestCharts', [key], {});\n",
              "    }\n",
              "    (() => {\n",
              "      let quickchartButtonEl =\n",
              "        document.querySelector('#df-fc4e5cf3-8be9-4275-ba8c-9c7018d14c87 button');\n",
              "      quickchartButtonEl.style.display =\n",
              "        google.colab.kernel.accessAllowed ? 'block' : 'none';\n",
              "    })();\n",
              "  </script>\n",
              "</div>\n",
              "    </div>\n",
              "  </div>\n"
            ]
          },
          "metadata": {},
          "execution_count": 6
        }
      ]
    },
    {
      "cell_type": "code",
      "source": [
        "diabetes_df.shape"
      ],
      "metadata": {
        "colab": {
          "base_uri": "https://localhost:8080/"
        },
        "id": "dKhcDcs22vTE",
        "outputId": "d169e62f-58c0-4aec-f5ab-d9a954b47bb8"
      },
      "execution_count": 65,
      "outputs": [
        {
          "output_type": "execute_result",
          "data": {
            "text/plain": [
              "(101766, 50)"
            ]
          },
          "metadata": {},
          "execution_count": 65
        }
      ]
    },
    {
      "cell_type": "code",
      "source": [
        "diabetes_df.columns"
      ],
      "metadata": {
        "colab": {
          "base_uri": "https://localhost:8080/"
        },
        "id": "BQ-IQ4F_dK8h",
        "outputId": "ffbabf22-8699-4550-fe9f-1129be835ea7"
      },
      "execution_count": 7,
      "outputs": [
        {
          "output_type": "execute_result",
          "data": {
            "text/plain": [
              "Index(['encounter_id', 'patient_nbr', 'race', 'gender', 'age', 'weight',\n",
              "       'admission_type_id', 'discharge_disposition_id', 'admission_source_id',\n",
              "       'time_in_hospital', 'payer_code', 'medical_specialty',\n",
              "       'num_lab_procedures', 'num_procedures', 'num_medications',\n",
              "       'number_outpatient', 'number_emergency', 'number_inpatient', 'diag_1',\n",
              "       'diag_2', 'diag_3', 'number_diagnoses', 'max_glu_serum', 'A1Cresult',\n",
              "       'metformin', 'repaglinide', 'nateglinide', 'chlorpropamide',\n",
              "       'glimepiride', 'acetohexamide', 'glipizide', 'glyburide', 'tolbutamide',\n",
              "       'pioglitazone', 'rosiglitazone', 'acarbose', 'miglitol', 'troglitazone',\n",
              "       'tolazamide', 'examide', 'citoglipton', 'insulin',\n",
              "       'glyburide-metformin', 'glipizide-metformin',\n",
              "       'glimepiride-pioglitazone', 'metformin-rosiglitazone',\n",
              "       'metformin-pioglitazone', 'change', 'diabetesMed', 'readmitted'],\n",
              "      dtype='object')"
            ]
          },
          "metadata": {},
          "execution_count": 7
        }
      ]
    },
    {
      "cell_type": "code",
      "source": [
        "diabetes_df.info()\n",
        "#it indicates that there are no null values in each column, some columns (int64) may have indeed no null values such question marks.\n",
        "#object type columns should be analyzed for null/invalid values"
      ],
      "metadata": {
        "colab": {
          "base_uri": "https://localhost:8080/"
        },
        "id": "P9jcBMYSd2NR",
        "outputId": "2808203c-aee6-4964-ca4a-c1909da58bf0"
      },
      "execution_count": 8,
      "outputs": [
        {
          "output_type": "stream",
          "name": "stdout",
          "text": [
            "<class 'pandas.core.frame.DataFrame'>\n",
            "RangeIndex: 101766 entries, 0 to 101765\n",
            "Data columns (total 50 columns):\n",
            " #   Column                    Non-Null Count   Dtype \n",
            "---  ------                    --------------   ----- \n",
            " 0   encounter_id              101766 non-null  int64 \n",
            " 1   patient_nbr               101766 non-null  int64 \n",
            " 2   race                      101766 non-null  object\n",
            " 3   gender                    101766 non-null  object\n",
            " 4   age                       101766 non-null  object\n",
            " 5   weight                    101766 non-null  object\n",
            " 6   admission_type_id         101766 non-null  int64 \n",
            " 7   discharge_disposition_id  101766 non-null  int64 \n",
            " 8   admission_source_id       101766 non-null  int64 \n",
            " 9   time_in_hospital          101766 non-null  int64 \n",
            " 10  payer_code                101766 non-null  object\n",
            " 11  medical_specialty         101766 non-null  object\n",
            " 12  num_lab_procedures        101766 non-null  int64 \n",
            " 13  num_procedures            101766 non-null  int64 \n",
            " 14  num_medications           101766 non-null  int64 \n",
            " 15  number_outpatient         101766 non-null  int64 \n",
            " 16  number_emergency          101766 non-null  int64 \n",
            " 17  number_inpatient          101766 non-null  int64 \n",
            " 18  diag_1                    101766 non-null  object\n",
            " 19  diag_2                    101766 non-null  object\n",
            " 20  diag_3                    101766 non-null  object\n",
            " 21  number_diagnoses          101766 non-null  int64 \n",
            " 22  max_glu_serum             101766 non-null  object\n",
            " 23  A1Cresult                 101766 non-null  object\n",
            " 24  metformin                 101766 non-null  object\n",
            " 25  repaglinide               101766 non-null  object\n",
            " 26  nateglinide               101766 non-null  object\n",
            " 27  chlorpropamide            101766 non-null  object\n",
            " 28  glimepiride               101766 non-null  object\n",
            " 29  acetohexamide             101766 non-null  object\n",
            " 30  glipizide                 101766 non-null  object\n",
            " 31  glyburide                 101766 non-null  object\n",
            " 32  tolbutamide               101766 non-null  object\n",
            " 33  pioglitazone              101766 non-null  object\n",
            " 34  rosiglitazone             101766 non-null  object\n",
            " 35  acarbose                  101766 non-null  object\n",
            " 36  miglitol                  101766 non-null  object\n",
            " 37  troglitazone              101766 non-null  object\n",
            " 38  tolazamide                101766 non-null  object\n",
            " 39  examide                   101766 non-null  object\n",
            " 40  citoglipton               101766 non-null  object\n",
            " 41  insulin                   101766 non-null  object\n",
            " 42  glyburide-metformin       101766 non-null  object\n",
            " 43  glipizide-metformin       101766 non-null  object\n",
            " 44  glimepiride-pioglitazone  101766 non-null  object\n",
            " 45  metformin-rosiglitazone   101766 non-null  object\n",
            " 46  metformin-pioglitazone    101766 non-null  object\n",
            " 47  change                    101766 non-null  object\n",
            " 48  diabetesMed               101766 non-null  object\n",
            " 49  readmitted                101766 non-null  object\n",
            "dtypes: int64(13), object(37)\n",
            "memory usage: 38.8+ MB\n"
          ]
        }
      ]
    },
    {
      "cell_type": "code",
      "source": [
        "diabetes_df.describe()"
      ],
      "metadata": {
        "colab": {
          "base_uri": "https://localhost:8080/",
          "height": 320
        },
        "id": "cXofsWEVeZG4",
        "outputId": "9ea5c6ff-758d-4bec-9eb2-0ee9c97f141d"
      },
      "execution_count": 9,
      "outputs": [
        {
          "output_type": "execute_result",
          "data": {
            "text/plain": [
              "       encounter_id   patient_nbr  admission_type_id  \\\n",
              "count  1.017660e+05  1.017660e+05      101766.000000   \n",
              "mean   1.652016e+08  5.433040e+07           2.024006   \n",
              "std    1.026403e+08  3.869636e+07           1.445403   \n",
              "min    1.252200e+04  1.350000e+02           1.000000   \n",
              "25%    8.496119e+07  2.341322e+07           1.000000   \n",
              "50%    1.523890e+08  4.550514e+07           1.000000   \n",
              "75%    2.302709e+08  8.754595e+07           3.000000   \n",
              "max    4.438672e+08  1.895026e+08           8.000000   \n",
              "\n",
              "       discharge_disposition_id  admission_source_id  time_in_hospital  \\\n",
              "count             101766.000000        101766.000000     101766.000000   \n",
              "mean                   3.715642             5.754437          4.395987   \n",
              "std                    5.280166             4.064081          2.985108   \n",
              "min                    1.000000             1.000000          1.000000   \n",
              "25%                    1.000000             1.000000          2.000000   \n",
              "50%                    1.000000             7.000000          4.000000   \n",
              "75%                    4.000000             7.000000          6.000000   \n",
              "max                   28.000000            25.000000         14.000000   \n",
              "\n",
              "       num_lab_procedures  num_procedures  num_medications  number_outpatient  \\\n",
              "count       101766.000000   101766.000000    101766.000000      101766.000000   \n",
              "mean            43.095641        1.339730        16.021844           0.369357   \n",
              "std             19.674362        1.705807         8.127566           1.267265   \n",
              "min              1.000000        0.000000         1.000000           0.000000   \n",
              "25%             31.000000        0.000000        10.000000           0.000000   \n",
              "50%             44.000000        1.000000        15.000000           0.000000   \n",
              "75%             57.000000        2.000000        20.000000           0.000000   \n",
              "max            132.000000        6.000000        81.000000          42.000000   \n",
              "\n",
              "       number_emergency  number_inpatient  number_diagnoses  \n",
              "count     101766.000000     101766.000000     101766.000000  \n",
              "mean           0.197836          0.635566          7.422607  \n",
              "std            0.930472          1.262863          1.933600  \n",
              "min            0.000000          0.000000          1.000000  \n",
              "25%            0.000000          0.000000          6.000000  \n",
              "50%            0.000000          0.000000          8.000000  \n",
              "75%            0.000000          1.000000          9.000000  \n",
              "max           76.000000         21.000000         16.000000  "
            ],
            "text/html": [
              "\n",
              "  <div id=\"df-35501fa5-413c-4166-924d-9b3beede42ea\" class=\"colab-df-container\">\n",
              "    <div>\n",
              "<style scoped>\n",
              "    .dataframe tbody tr th:only-of-type {\n",
              "        vertical-align: middle;\n",
              "    }\n",
              "\n",
              "    .dataframe tbody tr th {\n",
              "        vertical-align: top;\n",
              "    }\n",
              "\n",
              "    .dataframe thead th {\n",
              "        text-align: right;\n",
              "    }\n",
              "</style>\n",
              "<table border=\"1\" class=\"dataframe\">\n",
              "  <thead>\n",
              "    <tr style=\"text-align: right;\">\n",
              "      <th></th>\n",
              "      <th>encounter_id</th>\n",
              "      <th>patient_nbr</th>\n",
              "      <th>admission_type_id</th>\n",
              "      <th>discharge_disposition_id</th>\n",
              "      <th>admission_source_id</th>\n",
              "      <th>time_in_hospital</th>\n",
              "      <th>num_lab_procedures</th>\n",
              "      <th>num_procedures</th>\n",
              "      <th>num_medications</th>\n",
              "      <th>number_outpatient</th>\n",
              "      <th>number_emergency</th>\n",
              "      <th>number_inpatient</th>\n",
              "      <th>number_diagnoses</th>\n",
              "    </tr>\n",
              "  </thead>\n",
              "  <tbody>\n",
              "    <tr>\n",
              "      <th>count</th>\n",
              "      <td>1.017660e+05</td>\n",
              "      <td>1.017660e+05</td>\n",
              "      <td>101766.000000</td>\n",
              "      <td>101766.000000</td>\n",
              "      <td>101766.000000</td>\n",
              "      <td>101766.000000</td>\n",
              "      <td>101766.000000</td>\n",
              "      <td>101766.000000</td>\n",
              "      <td>101766.000000</td>\n",
              "      <td>101766.000000</td>\n",
              "      <td>101766.000000</td>\n",
              "      <td>101766.000000</td>\n",
              "      <td>101766.000000</td>\n",
              "    </tr>\n",
              "    <tr>\n",
              "      <th>mean</th>\n",
              "      <td>1.652016e+08</td>\n",
              "      <td>5.433040e+07</td>\n",
              "      <td>2.024006</td>\n",
              "      <td>3.715642</td>\n",
              "      <td>5.754437</td>\n",
              "      <td>4.395987</td>\n",
              "      <td>43.095641</td>\n",
              "      <td>1.339730</td>\n",
              "      <td>16.021844</td>\n",
              "      <td>0.369357</td>\n",
              "      <td>0.197836</td>\n",
              "      <td>0.635566</td>\n",
              "      <td>7.422607</td>\n",
              "    </tr>\n",
              "    <tr>\n",
              "      <th>std</th>\n",
              "      <td>1.026403e+08</td>\n",
              "      <td>3.869636e+07</td>\n",
              "      <td>1.445403</td>\n",
              "      <td>5.280166</td>\n",
              "      <td>4.064081</td>\n",
              "      <td>2.985108</td>\n",
              "      <td>19.674362</td>\n",
              "      <td>1.705807</td>\n",
              "      <td>8.127566</td>\n",
              "      <td>1.267265</td>\n",
              "      <td>0.930472</td>\n",
              "      <td>1.262863</td>\n",
              "      <td>1.933600</td>\n",
              "    </tr>\n",
              "    <tr>\n",
              "      <th>min</th>\n",
              "      <td>1.252200e+04</td>\n",
              "      <td>1.350000e+02</td>\n",
              "      <td>1.000000</td>\n",
              "      <td>1.000000</td>\n",
              "      <td>1.000000</td>\n",
              "      <td>1.000000</td>\n",
              "      <td>1.000000</td>\n",
              "      <td>0.000000</td>\n",
              "      <td>1.000000</td>\n",
              "      <td>0.000000</td>\n",
              "      <td>0.000000</td>\n",
              "      <td>0.000000</td>\n",
              "      <td>1.000000</td>\n",
              "    </tr>\n",
              "    <tr>\n",
              "      <th>25%</th>\n",
              "      <td>8.496119e+07</td>\n",
              "      <td>2.341322e+07</td>\n",
              "      <td>1.000000</td>\n",
              "      <td>1.000000</td>\n",
              "      <td>1.000000</td>\n",
              "      <td>2.000000</td>\n",
              "      <td>31.000000</td>\n",
              "      <td>0.000000</td>\n",
              "      <td>10.000000</td>\n",
              "      <td>0.000000</td>\n",
              "      <td>0.000000</td>\n",
              "      <td>0.000000</td>\n",
              "      <td>6.000000</td>\n",
              "    </tr>\n",
              "    <tr>\n",
              "      <th>50%</th>\n",
              "      <td>1.523890e+08</td>\n",
              "      <td>4.550514e+07</td>\n",
              "      <td>1.000000</td>\n",
              "      <td>1.000000</td>\n",
              "      <td>7.000000</td>\n",
              "      <td>4.000000</td>\n",
              "      <td>44.000000</td>\n",
              "      <td>1.000000</td>\n",
              "      <td>15.000000</td>\n",
              "      <td>0.000000</td>\n",
              "      <td>0.000000</td>\n",
              "      <td>0.000000</td>\n",
              "      <td>8.000000</td>\n",
              "    </tr>\n",
              "    <tr>\n",
              "      <th>75%</th>\n",
              "      <td>2.302709e+08</td>\n",
              "      <td>8.754595e+07</td>\n",
              "      <td>3.000000</td>\n",
              "      <td>4.000000</td>\n",
              "      <td>7.000000</td>\n",
              "      <td>6.000000</td>\n",
              "      <td>57.000000</td>\n",
              "      <td>2.000000</td>\n",
              "      <td>20.000000</td>\n",
              "      <td>0.000000</td>\n",
              "      <td>0.000000</td>\n",
              "      <td>1.000000</td>\n",
              "      <td>9.000000</td>\n",
              "    </tr>\n",
              "    <tr>\n",
              "      <th>max</th>\n",
              "      <td>4.438672e+08</td>\n",
              "      <td>1.895026e+08</td>\n",
              "      <td>8.000000</td>\n",
              "      <td>28.000000</td>\n",
              "      <td>25.000000</td>\n",
              "      <td>14.000000</td>\n",
              "      <td>132.000000</td>\n",
              "      <td>6.000000</td>\n",
              "      <td>81.000000</td>\n",
              "      <td>42.000000</td>\n",
              "      <td>76.000000</td>\n",
              "      <td>21.000000</td>\n",
              "      <td>16.000000</td>\n",
              "    </tr>\n",
              "  </tbody>\n",
              "</table>\n",
              "</div>\n",
              "    <div class=\"colab-df-buttons\">\n",
              "\n",
              "  <div class=\"colab-df-container\">\n",
              "    <button class=\"colab-df-convert\" onclick=\"convertToInteractive('df-35501fa5-413c-4166-924d-9b3beede42ea')\"\n",
              "            title=\"Convert this dataframe to an interactive table.\"\n",
              "            style=\"display:none;\">\n",
              "\n",
              "  <svg xmlns=\"http://www.w3.org/2000/svg\" height=\"24px\" viewBox=\"0 -960 960 960\">\n",
              "    <path d=\"M120-120v-720h720v720H120Zm60-500h600v-160H180v160Zm220 220h160v-160H400v160Zm0 220h160v-160H400v160ZM180-400h160v-160H180v160Zm440 0h160v-160H620v160ZM180-180h160v-160H180v160Zm440 0h160v-160H620v160Z\"/>\n",
              "  </svg>\n",
              "    </button>\n",
              "\n",
              "  <style>\n",
              "    .colab-df-container {\n",
              "      display:flex;\n",
              "      gap: 12px;\n",
              "    }\n",
              "\n",
              "    .colab-df-convert {\n",
              "      background-color: #E8F0FE;\n",
              "      border: none;\n",
              "      border-radius: 50%;\n",
              "      cursor: pointer;\n",
              "      display: none;\n",
              "      fill: #1967D2;\n",
              "      height: 32px;\n",
              "      padding: 0 0 0 0;\n",
              "      width: 32px;\n",
              "    }\n",
              "\n",
              "    .colab-df-convert:hover {\n",
              "      background-color: #E2EBFA;\n",
              "      box-shadow: 0px 1px 2px rgba(60, 64, 67, 0.3), 0px 1px 3px 1px rgba(60, 64, 67, 0.15);\n",
              "      fill: #174EA6;\n",
              "    }\n",
              "\n",
              "    .colab-df-buttons div {\n",
              "      margin-bottom: 4px;\n",
              "    }\n",
              "\n",
              "    [theme=dark] .colab-df-convert {\n",
              "      background-color: #3B4455;\n",
              "      fill: #D2E3FC;\n",
              "    }\n",
              "\n",
              "    [theme=dark] .colab-df-convert:hover {\n",
              "      background-color: #434B5C;\n",
              "      box-shadow: 0px 1px 3px 1px rgba(0, 0, 0, 0.15);\n",
              "      filter: drop-shadow(0px 1px 2px rgba(0, 0, 0, 0.3));\n",
              "      fill: #FFFFFF;\n",
              "    }\n",
              "  </style>\n",
              "\n",
              "    <script>\n",
              "      const buttonEl =\n",
              "        document.querySelector('#df-35501fa5-413c-4166-924d-9b3beede42ea button.colab-df-convert');\n",
              "      buttonEl.style.display =\n",
              "        google.colab.kernel.accessAllowed ? 'block' : 'none';\n",
              "\n",
              "      async function convertToInteractive(key) {\n",
              "        const element = document.querySelector('#df-35501fa5-413c-4166-924d-9b3beede42ea');\n",
              "        const dataTable =\n",
              "          await google.colab.kernel.invokeFunction('convertToInteractive',\n",
              "                                                    [key], {});\n",
              "        if (!dataTable) return;\n",
              "\n",
              "        const docLinkHtml = 'Like what you see? Visit the ' +\n",
              "          '<a target=\"_blank\" href=https://colab.research.google.com/notebooks/data_table.ipynb>data table notebook</a>'\n",
              "          + ' to learn more about interactive tables.';\n",
              "        element.innerHTML = '';\n",
              "        dataTable['output_type'] = 'display_data';\n",
              "        await google.colab.output.renderOutput(dataTable, element);\n",
              "        const docLink = document.createElement('div');\n",
              "        docLink.innerHTML = docLinkHtml;\n",
              "        element.appendChild(docLink);\n",
              "      }\n",
              "    </script>\n",
              "  </div>\n",
              "\n",
              "\n",
              "<div id=\"df-2e96f0bc-959d-49cd-870f-c225e83e2efa\">\n",
              "  <button class=\"colab-df-quickchart\" onclick=\"quickchart('df-2e96f0bc-959d-49cd-870f-c225e83e2efa')\"\n",
              "            title=\"Suggest charts.\"\n",
              "            style=\"display:none;\">\n",
              "\n",
              "<svg xmlns=\"http://www.w3.org/2000/svg\" height=\"24px\"viewBox=\"0 0 24 24\"\n",
              "     width=\"24px\">\n",
              "    <g>\n",
              "        <path d=\"M19 3H5c-1.1 0-2 .9-2 2v14c0 1.1.9 2 2 2h14c1.1 0 2-.9 2-2V5c0-1.1-.9-2-2-2zM9 17H7v-7h2v7zm4 0h-2V7h2v10zm4 0h-2v-4h2v4z\"/>\n",
              "    </g>\n",
              "</svg>\n",
              "  </button>\n",
              "\n",
              "<style>\n",
              "  .colab-df-quickchart {\n",
              "    background-color: #E8F0FE;\n",
              "    border: none;\n",
              "    border-radius: 50%;\n",
              "    cursor: pointer;\n",
              "    display: none;\n",
              "    fill: #1967D2;\n",
              "    height: 32px;\n",
              "    padding: 0 0 0 0;\n",
              "    width: 32px;\n",
              "  }\n",
              "\n",
              "  .colab-df-quickchart:hover {\n",
              "    background-color: #E2EBFA;\n",
              "    box-shadow: 0px 1px 2px rgba(60, 64, 67, 0.3), 0px 1px 3px 1px rgba(60, 64, 67, 0.15);\n",
              "    fill: #174EA6;\n",
              "  }\n",
              "\n",
              "  [theme=dark] .colab-df-quickchart {\n",
              "    background-color: #3B4455;\n",
              "    fill: #D2E3FC;\n",
              "  }\n",
              "\n",
              "  [theme=dark] .colab-df-quickchart:hover {\n",
              "    background-color: #434B5C;\n",
              "    box-shadow: 0px 1px 3px 1px rgba(0, 0, 0, 0.15);\n",
              "    filter: drop-shadow(0px 1px 2px rgba(0, 0, 0, 0.3));\n",
              "    fill: #FFFFFF;\n",
              "  }\n",
              "</style>\n",
              "\n",
              "  <script>\n",
              "    async function quickchart(key) {\n",
              "      const charts = await google.colab.kernel.invokeFunction(\n",
              "          'suggestCharts', [key], {});\n",
              "    }\n",
              "    (() => {\n",
              "      let quickchartButtonEl =\n",
              "        document.querySelector('#df-2e96f0bc-959d-49cd-870f-c225e83e2efa button');\n",
              "      quickchartButtonEl.style.display =\n",
              "        google.colab.kernel.accessAllowed ? 'block' : 'none';\n",
              "    })();\n",
              "  </script>\n",
              "</div>\n",
              "    </div>\n",
              "  </div>\n"
            ]
          },
          "metadata": {},
          "execution_count": 9
        }
      ]
    },
    {
      "cell_type": "code",
      "source": [
        "diabetes_df.describe().T"
      ],
      "metadata": {
        "colab": {
          "base_uri": "https://localhost:8080/",
          "height": 457
        },
        "id": "HUtQdzKsela4",
        "outputId": "c7157c5f-6f98-49a2-8d45-812aeb34afa1"
      },
      "execution_count": 10,
      "outputs": [
        {
          "output_type": "execute_result",
          "data": {
            "text/plain": [
              "                             count          mean           std      min  \\\n",
              "encounter_id              101766.0  1.652016e+08  1.026403e+08  12522.0   \n",
              "patient_nbr               101766.0  5.433040e+07  3.869636e+07    135.0   \n",
              "admission_type_id         101766.0  2.024006e+00  1.445403e+00      1.0   \n",
              "discharge_disposition_id  101766.0  3.715642e+00  5.280166e+00      1.0   \n",
              "admission_source_id       101766.0  5.754437e+00  4.064081e+00      1.0   \n",
              "time_in_hospital          101766.0  4.395987e+00  2.985108e+00      1.0   \n",
              "num_lab_procedures        101766.0  4.309564e+01  1.967436e+01      1.0   \n",
              "num_procedures            101766.0  1.339730e+00  1.705807e+00      0.0   \n",
              "num_medications           101766.0  1.602184e+01  8.127566e+00      1.0   \n",
              "number_outpatient         101766.0  3.693572e-01  1.267265e+00      0.0   \n",
              "number_emergency          101766.0  1.978362e-01  9.304723e-01      0.0   \n",
              "number_inpatient          101766.0  6.355659e-01  1.262863e+00      0.0   \n",
              "number_diagnoses          101766.0  7.422607e+00  1.933600e+00      1.0   \n",
              "\n",
              "                                 25%          50%           75%          max  \n",
              "encounter_id              84961194.0  152388987.0  2.302709e+08  443867222.0  \n",
              "patient_nbr               23413221.0   45505143.0  8.754595e+07  189502619.0  \n",
              "admission_type_id                1.0          1.0  3.000000e+00          8.0  \n",
              "discharge_disposition_id         1.0          1.0  4.000000e+00         28.0  \n",
              "admission_source_id              1.0          7.0  7.000000e+00         25.0  \n",
              "time_in_hospital                 2.0          4.0  6.000000e+00         14.0  \n",
              "num_lab_procedures              31.0         44.0  5.700000e+01        132.0  \n",
              "num_procedures                   0.0          1.0  2.000000e+00          6.0  \n",
              "num_medications                 10.0         15.0  2.000000e+01         81.0  \n",
              "number_outpatient                0.0          0.0  0.000000e+00         42.0  \n",
              "number_emergency                 0.0          0.0  0.000000e+00         76.0  \n",
              "number_inpatient                 0.0          0.0  1.000000e+00         21.0  \n",
              "number_diagnoses                 6.0          8.0  9.000000e+00         16.0  "
            ],
            "text/html": [
              "\n",
              "  <div id=\"df-09e4f549-dc37-4f67-921e-316d0e831540\" class=\"colab-df-container\">\n",
              "    <div>\n",
              "<style scoped>\n",
              "    .dataframe tbody tr th:only-of-type {\n",
              "        vertical-align: middle;\n",
              "    }\n",
              "\n",
              "    .dataframe tbody tr th {\n",
              "        vertical-align: top;\n",
              "    }\n",
              "\n",
              "    .dataframe thead th {\n",
              "        text-align: right;\n",
              "    }\n",
              "</style>\n",
              "<table border=\"1\" class=\"dataframe\">\n",
              "  <thead>\n",
              "    <tr style=\"text-align: right;\">\n",
              "      <th></th>\n",
              "      <th>count</th>\n",
              "      <th>mean</th>\n",
              "      <th>std</th>\n",
              "      <th>min</th>\n",
              "      <th>25%</th>\n",
              "      <th>50%</th>\n",
              "      <th>75%</th>\n",
              "      <th>max</th>\n",
              "    </tr>\n",
              "  </thead>\n",
              "  <tbody>\n",
              "    <tr>\n",
              "      <th>encounter_id</th>\n",
              "      <td>101766.0</td>\n",
              "      <td>1.652016e+08</td>\n",
              "      <td>1.026403e+08</td>\n",
              "      <td>12522.0</td>\n",
              "      <td>84961194.0</td>\n",
              "      <td>152388987.0</td>\n",
              "      <td>2.302709e+08</td>\n",
              "      <td>443867222.0</td>\n",
              "    </tr>\n",
              "    <tr>\n",
              "      <th>patient_nbr</th>\n",
              "      <td>101766.0</td>\n",
              "      <td>5.433040e+07</td>\n",
              "      <td>3.869636e+07</td>\n",
              "      <td>135.0</td>\n",
              "      <td>23413221.0</td>\n",
              "      <td>45505143.0</td>\n",
              "      <td>8.754595e+07</td>\n",
              "      <td>189502619.0</td>\n",
              "    </tr>\n",
              "    <tr>\n",
              "      <th>admission_type_id</th>\n",
              "      <td>101766.0</td>\n",
              "      <td>2.024006e+00</td>\n",
              "      <td>1.445403e+00</td>\n",
              "      <td>1.0</td>\n",
              "      <td>1.0</td>\n",
              "      <td>1.0</td>\n",
              "      <td>3.000000e+00</td>\n",
              "      <td>8.0</td>\n",
              "    </tr>\n",
              "    <tr>\n",
              "      <th>discharge_disposition_id</th>\n",
              "      <td>101766.0</td>\n",
              "      <td>3.715642e+00</td>\n",
              "      <td>5.280166e+00</td>\n",
              "      <td>1.0</td>\n",
              "      <td>1.0</td>\n",
              "      <td>1.0</td>\n",
              "      <td>4.000000e+00</td>\n",
              "      <td>28.0</td>\n",
              "    </tr>\n",
              "    <tr>\n",
              "      <th>admission_source_id</th>\n",
              "      <td>101766.0</td>\n",
              "      <td>5.754437e+00</td>\n",
              "      <td>4.064081e+00</td>\n",
              "      <td>1.0</td>\n",
              "      <td>1.0</td>\n",
              "      <td>7.0</td>\n",
              "      <td>7.000000e+00</td>\n",
              "      <td>25.0</td>\n",
              "    </tr>\n",
              "    <tr>\n",
              "      <th>time_in_hospital</th>\n",
              "      <td>101766.0</td>\n",
              "      <td>4.395987e+00</td>\n",
              "      <td>2.985108e+00</td>\n",
              "      <td>1.0</td>\n",
              "      <td>2.0</td>\n",
              "      <td>4.0</td>\n",
              "      <td>6.000000e+00</td>\n",
              "      <td>14.0</td>\n",
              "    </tr>\n",
              "    <tr>\n",
              "      <th>num_lab_procedures</th>\n",
              "      <td>101766.0</td>\n",
              "      <td>4.309564e+01</td>\n",
              "      <td>1.967436e+01</td>\n",
              "      <td>1.0</td>\n",
              "      <td>31.0</td>\n",
              "      <td>44.0</td>\n",
              "      <td>5.700000e+01</td>\n",
              "      <td>132.0</td>\n",
              "    </tr>\n",
              "    <tr>\n",
              "      <th>num_procedures</th>\n",
              "      <td>101766.0</td>\n",
              "      <td>1.339730e+00</td>\n",
              "      <td>1.705807e+00</td>\n",
              "      <td>0.0</td>\n",
              "      <td>0.0</td>\n",
              "      <td>1.0</td>\n",
              "      <td>2.000000e+00</td>\n",
              "      <td>6.0</td>\n",
              "    </tr>\n",
              "    <tr>\n",
              "      <th>num_medications</th>\n",
              "      <td>101766.0</td>\n",
              "      <td>1.602184e+01</td>\n",
              "      <td>8.127566e+00</td>\n",
              "      <td>1.0</td>\n",
              "      <td>10.0</td>\n",
              "      <td>15.0</td>\n",
              "      <td>2.000000e+01</td>\n",
              "      <td>81.0</td>\n",
              "    </tr>\n",
              "    <tr>\n",
              "      <th>number_outpatient</th>\n",
              "      <td>101766.0</td>\n",
              "      <td>3.693572e-01</td>\n",
              "      <td>1.267265e+00</td>\n",
              "      <td>0.0</td>\n",
              "      <td>0.0</td>\n",
              "      <td>0.0</td>\n",
              "      <td>0.000000e+00</td>\n",
              "      <td>42.0</td>\n",
              "    </tr>\n",
              "    <tr>\n",
              "      <th>number_emergency</th>\n",
              "      <td>101766.0</td>\n",
              "      <td>1.978362e-01</td>\n",
              "      <td>9.304723e-01</td>\n",
              "      <td>0.0</td>\n",
              "      <td>0.0</td>\n",
              "      <td>0.0</td>\n",
              "      <td>0.000000e+00</td>\n",
              "      <td>76.0</td>\n",
              "    </tr>\n",
              "    <tr>\n",
              "      <th>number_inpatient</th>\n",
              "      <td>101766.0</td>\n",
              "      <td>6.355659e-01</td>\n",
              "      <td>1.262863e+00</td>\n",
              "      <td>0.0</td>\n",
              "      <td>0.0</td>\n",
              "      <td>0.0</td>\n",
              "      <td>1.000000e+00</td>\n",
              "      <td>21.0</td>\n",
              "    </tr>\n",
              "    <tr>\n",
              "      <th>number_diagnoses</th>\n",
              "      <td>101766.0</td>\n",
              "      <td>7.422607e+00</td>\n",
              "      <td>1.933600e+00</td>\n",
              "      <td>1.0</td>\n",
              "      <td>6.0</td>\n",
              "      <td>8.0</td>\n",
              "      <td>9.000000e+00</td>\n",
              "      <td>16.0</td>\n",
              "    </tr>\n",
              "  </tbody>\n",
              "</table>\n",
              "</div>\n",
              "    <div class=\"colab-df-buttons\">\n",
              "\n",
              "  <div class=\"colab-df-container\">\n",
              "    <button class=\"colab-df-convert\" onclick=\"convertToInteractive('df-09e4f549-dc37-4f67-921e-316d0e831540')\"\n",
              "            title=\"Convert this dataframe to an interactive table.\"\n",
              "            style=\"display:none;\">\n",
              "\n",
              "  <svg xmlns=\"http://www.w3.org/2000/svg\" height=\"24px\" viewBox=\"0 -960 960 960\">\n",
              "    <path d=\"M120-120v-720h720v720H120Zm60-500h600v-160H180v160Zm220 220h160v-160H400v160Zm0 220h160v-160H400v160ZM180-400h160v-160H180v160Zm440 0h160v-160H620v160ZM180-180h160v-160H180v160Zm440 0h160v-160H620v160Z\"/>\n",
              "  </svg>\n",
              "    </button>\n",
              "\n",
              "  <style>\n",
              "    .colab-df-container {\n",
              "      display:flex;\n",
              "      gap: 12px;\n",
              "    }\n",
              "\n",
              "    .colab-df-convert {\n",
              "      background-color: #E8F0FE;\n",
              "      border: none;\n",
              "      border-radius: 50%;\n",
              "      cursor: pointer;\n",
              "      display: none;\n",
              "      fill: #1967D2;\n",
              "      height: 32px;\n",
              "      padding: 0 0 0 0;\n",
              "      width: 32px;\n",
              "    }\n",
              "\n",
              "    .colab-df-convert:hover {\n",
              "      background-color: #E2EBFA;\n",
              "      box-shadow: 0px 1px 2px rgba(60, 64, 67, 0.3), 0px 1px 3px 1px rgba(60, 64, 67, 0.15);\n",
              "      fill: #174EA6;\n",
              "    }\n",
              "\n",
              "    .colab-df-buttons div {\n",
              "      margin-bottom: 4px;\n",
              "    }\n",
              "\n",
              "    [theme=dark] .colab-df-convert {\n",
              "      background-color: #3B4455;\n",
              "      fill: #D2E3FC;\n",
              "    }\n",
              "\n",
              "    [theme=dark] .colab-df-convert:hover {\n",
              "      background-color: #434B5C;\n",
              "      box-shadow: 0px 1px 3px 1px rgba(0, 0, 0, 0.15);\n",
              "      filter: drop-shadow(0px 1px 2px rgba(0, 0, 0, 0.3));\n",
              "      fill: #FFFFFF;\n",
              "    }\n",
              "  </style>\n",
              "\n",
              "    <script>\n",
              "      const buttonEl =\n",
              "        document.querySelector('#df-09e4f549-dc37-4f67-921e-316d0e831540 button.colab-df-convert');\n",
              "      buttonEl.style.display =\n",
              "        google.colab.kernel.accessAllowed ? 'block' : 'none';\n",
              "\n",
              "      async function convertToInteractive(key) {\n",
              "        const element = document.querySelector('#df-09e4f549-dc37-4f67-921e-316d0e831540');\n",
              "        const dataTable =\n",
              "          await google.colab.kernel.invokeFunction('convertToInteractive',\n",
              "                                                    [key], {});\n",
              "        if (!dataTable) return;\n",
              "\n",
              "        const docLinkHtml = 'Like what you see? Visit the ' +\n",
              "          '<a target=\"_blank\" href=https://colab.research.google.com/notebooks/data_table.ipynb>data table notebook</a>'\n",
              "          + ' to learn more about interactive tables.';\n",
              "        element.innerHTML = '';\n",
              "        dataTable['output_type'] = 'display_data';\n",
              "        await google.colab.output.renderOutput(dataTable, element);\n",
              "        const docLink = document.createElement('div');\n",
              "        docLink.innerHTML = docLinkHtml;\n",
              "        element.appendChild(docLink);\n",
              "      }\n",
              "    </script>\n",
              "  </div>\n",
              "\n",
              "\n",
              "<div id=\"df-52a2f912-27b0-4145-adea-aff0f9647391\">\n",
              "  <button class=\"colab-df-quickchart\" onclick=\"quickchart('df-52a2f912-27b0-4145-adea-aff0f9647391')\"\n",
              "            title=\"Suggest charts.\"\n",
              "            style=\"display:none;\">\n",
              "\n",
              "<svg xmlns=\"http://www.w3.org/2000/svg\" height=\"24px\"viewBox=\"0 0 24 24\"\n",
              "     width=\"24px\">\n",
              "    <g>\n",
              "        <path d=\"M19 3H5c-1.1 0-2 .9-2 2v14c0 1.1.9 2 2 2h14c1.1 0 2-.9 2-2V5c0-1.1-.9-2-2-2zM9 17H7v-7h2v7zm4 0h-2V7h2v10zm4 0h-2v-4h2v4z\"/>\n",
              "    </g>\n",
              "</svg>\n",
              "  </button>\n",
              "\n",
              "<style>\n",
              "  .colab-df-quickchart {\n",
              "    background-color: #E8F0FE;\n",
              "    border: none;\n",
              "    border-radius: 50%;\n",
              "    cursor: pointer;\n",
              "    display: none;\n",
              "    fill: #1967D2;\n",
              "    height: 32px;\n",
              "    padding: 0 0 0 0;\n",
              "    width: 32px;\n",
              "  }\n",
              "\n",
              "  .colab-df-quickchart:hover {\n",
              "    background-color: #E2EBFA;\n",
              "    box-shadow: 0px 1px 2px rgba(60, 64, 67, 0.3), 0px 1px 3px 1px rgba(60, 64, 67, 0.15);\n",
              "    fill: #174EA6;\n",
              "  }\n",
              "\n",
              "  [theme=dark] .colab-df-quickchart {\n",
              "    background-color: #3B4455;\n",
              "    fill: #D2E3FC;\n",
              "  }\n",
              "\n",
              "  [theme=dark] .colab-df-quickchart:hover {\n",
              "    background-color: #434B5C;\n",
              "    box-shadow: 0px 1px 3px 1px rgba(0, 0, 0, 0.15);\n",
              "    filter: drop-shadow(0px 1px 2px rgba(0, 0, 0, 0.3));\n",
              "    fill: #FFFFFF;\n",
              "  }\n",
              "</style>\n",
              "\n",
              "  <script>\n",
              "    async function quickchart(key) {\n",
              "      const charts = await google.colab.kernel.invokeFunction(\n",
              "          'suggestCharts', [key], {});\n",
              "    }\n",
              "    (() => {\n",
              "      let quickchartButtonEl =\n",
              "        document.querySelector('#df-52a2f912-27b0-4145-adea-aff0f9647391 button');\n",
              "      quickchartButtonEl.style.display =\n",
              "        google.colab.kernel.accessAllowed ? 'block' : 'none';\n",
              "    })();\n",
              "  </script>\n",
              "</div>\n",
              "    </div>\n",
              "  </div>\n"
            ]
          },
          "metadata": {},
          "execution_count": 10
        }
      ]
    },
    {
      "cell_type": "code",
      "source": [
        "# checking for duplicates\n",
        "has_duplicates = diabetes_df.duplicated().any()\n",
        "\n",
        "if has_duplicates:\n",
        "    print(\"Duplicates found in the dataframe.\")\n",
        "else:\n",
        "    print(\"No duplicates found in the dataframe.\")"
      ],
      "metadata": {
        "colab": {
          "base_uri": "https://localhost:8080/"
        },
        "id": "LLPfSksooSCo",
        "outputId": "8f17b9d3-8d52-40ae-8d0a-3e61fef4db62"
      },
      "execution_count": 29,
      "outputs": [
        {
          "output_type": "stream",
          "name": "stdout",
          "text": [
            "No duplicates found in the DataFrame.\n"
          ]
        }
      ]
    },
    {
      "cell_type": "code",
      "source": [
        "diabetes_df.groupby('readmitted').size()\n",
        "#11357/101766 = 11.15% of patients are readmitted in less than 30 days\n",
        "#there are 54K with NO record of readmission"
      ],
      "metadata": {
        "colab": {
          "base_uri": "https://localhost:8080/"
        },
        "id": "F5uwaxTZfsJ2",
        "outputId": "e62e19cd-bea8-45f1-95ce-e44ffa3e1dfe"
      },
      "execution_count": 54,
      "outputs": [
        {
          "output_type": "execute_result",
          "data": {
            "text/plain": [
              "readmitted\n",
              "<30    11357\n",
              ">30    35545\n",
              "NO     54864\n",
              "dtype: int64"
            ]
          },
          "metadata": {},
          "execution_count": 54
        }
      ]
    },
    {
      "cell_type": "code",
      "source": [
        "columns = ['encounter_id', 'patient_nbr', 'race', 'gender', 'age', 'weight',\n",
        "       'admission_type_id', 'discharge_disposition_id', 'admission_source_id',\n",
        "       'time_in_hospital', 'payer_code', 'medical_specialty',\n",
        "       'num_lab_procedures', 'num_procedures', 'num_medications',\n",
        "       'number_outpatient', 'number_emergency', 'number_inpatient', 'diag_1',\n",
        "       'diag_2', 'diag_3', 'number_diagnoses', 'max_glu_serum', 'A1Cresult',\n",
        "       'metformin', 'repaglinide', 'nateglinide', 'chlorpropamide',\n",
        "       'glimepiride', 'acetohexamide', 'glipizide', 'glyburide', 'tolbutamide',\n",
        "       'pioglitazone', 'rosiglitazone', 'acarbose', 'miglitol', 'troglitazone',\n",
        "       'tolazamide', 'examide', 'citoglipton', 'insulin',\n",
        "       'glyburide-metformin', 'glipizide-metformin',\n",
        "       'glimepiride-pioglitazone', 'metformin-rosiglitazone',\n",
        "       'metformin-pioglitazone', 'change', 'diabetesMed', 'readmitted']"
      ],
      "metadata": {
        "id": "qwH2y2Ewgb1B"
      },
      "execution_count": 13,
      "outputs": []
    },
    {
      "cell_type": "markdown",
      "source": [
        "Exploring object type columns"
      ],
      "metadata": {
        "id": "AGQxJAKM1twa"
      }
    },
    {
      "cell_type": "code",
      "source": [
        "object_column_names = [column for column in diabetes_df.columns if diabetes_df[column].dtype == 'object']\n",
        "object_column_names"
      ],
      "metadata": {
        "colab": {
          "base_uri": "https://localhost:8080/"
        },
        "id": "s1F-G44G1s5u",
        "outputId": "189a80c8-5f65-4c0c-abb5-b1bb54e7825a"
      },
      "execution_count": 62,
      "outputs": [
        {
          "output_type": "execute_result",
          "data": {
            "text/plain": [
              "['race',\n",
              " 'gender',\n",
              " 'age',\n",
              " 'weight',\n",
              " 'payer_code',\n",
              " 'medical_specialty',\n",
              " 'diag_1',\n",
              " 'diag_2',\n",
              " 'diag_3',\n",
              " 'max_glu_serum',\n",
              " 'A1Cresult',\n",
              " 'metformin',\n",
              " 'repaglinide',\n",
              " 'nateglinide',\n",
              " 'chlorpropamide',\n",
              " 'glimepiride',\n",
              " 'acetohexamide',\n",
              " 'glipizide',\n",
              " 'glyburide',\n",
              " 'tolbutamide',\n",
              " 'pioglitazone',\n",
              " 'rosiglitazone',\n",
              " 'acarbose',\n",
              " 'miglitol',\n",
              " 'troglitazone',\n",
              " 'tolazamide',\n",
              " 'examide',\n",
              " 'citoglipton',\n",
              " 'insulin',\n",
              " 'glyburide-metformin',\n",
              " 'glipizide-metformin',\n",
              " 'glimepiride-pioglitazone',\n",
              " 'metformin-rosiglitazone',\n",
              " 'metformin-pioglitazone',\n",
              " 'change',\n",
              " 'diabetesMed',\n",
              " 'readmitted']"
            ]
          },
          "metadata": {},
          "execution_count": 62
        }
      ]
    },
    {
      "cell_type": "code",
      "source": [
        "diabetes_df['race'].value_counts()"
      ],
      "metadata": {
        "colab": {
          "base_uri": "https://localhost:8080/"
        },
        "id": "QSRVyEqVgqr2",
        "outputId": "67cfff74-59f8-4e65-ec47-e7ad6d5baf46"
      },
      "execution_count": 18,
      "outputs": [
        {
          "output_type": "execute_result",
          "data": {
            "text/plain": [
              "Caucasian          76099\n",
              "AfricanAmerican    19210\n",
              "?                   2273\n",
              "Hispanic            2037\n",
              "Other               1506\n",
              "Asian                641\n",
              "Name: race, dtype: int64"
            ]
          },
          "metadata": {},
          "execution_count": 18
        }
      ]
    },
    {
      "cell_type": "code",
      "source": [
        "diabetes_df['gender'].value_counts()"
      ],
      "metadata": {
        "colab": {
          "base_uri": "https://localhost:8080/"
        },
        "id": "Yuw2n1qXgv_I",
        "outputId": "c6144137-654c-4625-c252-19db49b5ed2b"
      },
      "execution_count": 19,
      "outputs": [
        {
          "output_type": "execute_result",
          "data": {
            "text/plain": [
              "Female             54708\n",
              "Male               47055\n",
              "Unknown/Invalid        3\n",
              "Name: gender, dtype: int64"
            ]
          },
          "metadata": {},
          "execution_count": 19
        }
      ]
    },
    {
      "cell_type": "code",
      "source": [
        "diabetes_df['age'].value_counts()"
      ],
      "metadata": {
        "colab": {
          "base_uri": "https://localhost:8080/"
        },
        "id": "ZxVLbd1-jt2B",
        "outputId": "d7cf4cba-683b-4efe-b6e8-197dd60c58d4"
      },
      "execution_count": 20,
      "outputs": [
        {
          "output_type": "execute_result",
          "data": {
            "text/plain": [
              "[70-80)     26068\n",
              "[60-70)     22483\n",
              "[50-60)     17256\n",
              "[80-90)     17197\n",
              "[40-50)      9685\n",
              "[30-40)      3775\n",
              "[90-100)     2793\n",
              "[20-30)      1657\n",
              "[10-20)       691\n",
              "[0-10)        161\n",
              "Name: age, dtype: int64"
            ]
          },
          "metadata": {},
          "execution_count": 20
        }
      ]
    },
    {
      "cell_type": "code",
      "source": [
        "diabetes_df['weight'].value_counts() #almost 98% of patients raws has no weight values!"
      ],
      "metadata": {
        "colab": {
          "base_uri": "https://localhost:8080/"
        },
        "id": "hr-B7PuOj2NJ",
        "outputId": "6279e3cf-bd07-4f9d-de91-0430292ed3b3"
      },
      "execution_count": 21,
      "outputs": [
        {
          "output_type": "execute_result",
          "data": {
            "text/plain": [
              "?            98569\n",
              "[75-100)      1336\n",
              "[50-75)        897\n",
              "[100-125)      625\n",
              "[125-150)      145\n",
              "[25-50)         97\n",
              "[0-25)          48\n",
              "[150-175)       35\n",
              "[175-200)       11\n",
              ">200             3\n",
              "Name: weight, dtype: int64"
            ]
          },
          "metadata": {},
          "execution_count": 21
        }
      ]
    },
    {
      "cell_type": "code",
      "source": [
        "diabetes_df['payer_code'].value_counts()"
      ],
      "metadata": {
        "colab": {
          "base_uri": "https://localhost:8080/"
        },
        "id": "ibQBTUoSk6ZT",
        "outputId": "6dc43a1f-0b54-4533-aa9b-e75512429cbe"
      },
      "execution_count": 28,
      "outputs": [
        {
          "output_type": "execute_result",
          "data": {
            "text/plain": [
              "?     40256\n",
              "MC    32439\n",
              "HM     6274\n",
              "SP     5007\n",
              "BC     4655\n",
              "MD     3532\n",
              "CP     2533\n",
              "UN     2448\n",
              "CM     1937\n",
              "OG     1033\n",
              "PO      592\n",
              "DM      549\n",
              "CH      146\n",
              "WC      135\n",
              "OT       95\n",
              "MP       79\n",
              "SI       55\n",
              "FR        1\n",
              "Name: payer_code, dtype: int64"
            ]
          },
          "metadata": {},
          "execution_count": 28
        }
      ]
    },
    {
      "cell_type": "code",
      "source": [
        "diabetes_df['medical_specialty'].value_counts() # ? (50%), InternalMedicine (20%), Emergency/Trauma(10%), Family/GeneralPractice (10%)\n",
        "#diabetes_df['medical_specialty'].unique()\n",
        "#diabetes_df['medical_specialty'].nunique() #73\n",
        "#too disperse data"
      ],
      "metadata": {
        "colab": {
          "base_uri": "https://localhost:8080/"
        },
        "id": "o_IwBtOToiSR",
        "outputId": "9e2bfa08-0429-491d-84ac-93ce7d95bd08"
      },
      "execution_count": 33,
      "outputs": [
        {
          "output_type": "execute_result",
          "data": {
            "text/plain": [
              "?                                49949\n",
              "InternalMedicine                 14635\n",
              "Emergency/Trauma                  7565\n",
              "Family/GeneralPractice            7440\n",
              "Cardiology                        5352\n",
              "                                 ...  \n",
              "SportsMedicine                       1\n",
              "Speech                               1\n",
              "Perinatology                         1\n",
              "Neurophysiology                      1\n",
              "Pediatrics-InfectiousDiseases        1\n",
              "Name: medical_specialty, Length: 73, dtype: int64"
            ]
          },
          "metadata": {},
          "execution_count": 33
        }
      ]
    },
    {
      "cell_type": "code",
      "source": [
        "#diabetes_df['diag_1'].value_counts()\n",
        "#diabetes_df['diag_1'].unique()\n",
        "#diabetes_df['diag_1'].nunique() #717\n",
        "#diabetes_df['diag_2'].value_counts()\n",
        "#diabetes_df['diag_2'].unique()\n",
        "#diabetes_df['diag_2'].nunique() #749\n",
        "#diabetes_df['diag_3'].value_counts()\n",
        "#diabetes_df['diag_3'].unique()\n",
        "#diabetes_df['diag_3'].nunique() #790\n",
        "#too disperse data (consider dropping these columns)"
      ],
      "metadata": {
        "colab": {
          "base_uri": "https://localhost:8080/"
        },
        "id": "I65fDmuHpuDi",
        "outputId": "a63dc815-1a71-420e-98ac-76548c6ceebf"
      },
      "execution_count": 41,
      "outputs": [
        {
          "output_type": "execute_result",
          "data": {
            "text/plain": [
              "790"
            ]
          },
          "metadata": {},
          "execution_count": 41
        }
      ]
    },
    {
      "cell_type": "code",
      "source": [
        "diabetes_df['max_glu_serum'].value_counts() #96% none"
      ],
      "metadata": {
        "colab": {
          "base_uri": "https://localhost:8080/"
        },
        "id": "UmEL6FfIqmQx",
        "outputId": "f5437d2b-6cb5-4d5e-cdfd-4f232b9a2298"
      },
      "execution_count": 42,
      "outputs": [
        {
          "output_type": "execute_result",
          "data": {
            "text/plain": [
              "None    96420\n",
              "Norm     2597\n",
              ">200     1485\n",
              ">300     1264\n",
              "Name: max_glu_serum, dtype: int64"
            ]
          },
          "metadata": {},
          "execution_count": 42
        }
      ]
    },
    {
      "cell_type": "code",
      "source": [
        "diabetes_df['A1Cresult'].value_counts() #84% none"
      ],
      "metadata": {
        "colab": {
          "base_uri": "https://localhost:8080/"
        },
        "id": "TZGhO8TAq6a2",
        "outputId": "9d1cec77-08b2-4683-9c97-162c6dd17602"
      },
      "execution_count": 43,
      "outputs": [
        {
          "output_type": "execute_result",
          "data": {
            "text/plain": [
              "None    84748\n",
              ">8       8216\n",
              "Norm     4990\n",
              ">7       3812\n",
              "Name: A1Cresult, dtype: int64"
            ]
          },
          "metadata": {},
          "execution_count": 43
        }
      ]
    },
    {
      "cell_type": "code",
      "source": [
        "diabetes_df['metformin'].value_counts() #81% No"
      ],
      "metadata": {
        "colab": {
          "base_uri": "https://localhost:8080/"
        },
        "id": "nIXblvyrrX1F",
        "outputId": "437a7c1e-03a4-48da-c2cf-716b1090b61e"
      },
      "execution_count": 44,
      "outputs": [
        {
          "output_type": "execute_result",
          "data": {
            "text/plain": [
              "No        81778\n",
              "Steady    18346\n",
              "Up         1067\n",
              "Down        575\n",
              "Name: metformin, dtype: int64"
            ]
          },
          "metadata": {},
          "execution_count": 44
        }
      ]
    },
    {
      "cell_type": "code",
      "source": [
        "diabetes_df['repaglinide'].value_counts() #99% No"
      ],
      "metadata": {
        "colab": {
          "base_uri": "https://localhost:8080/"
        },
        "id": "ypxUR36prnMV",
        "outputId": "a15dda09-f7b0-4223-9b83-dc568d86c1ea"
      },
      "execution_count": 45,
      "outputs": [
        {
          "output_type": "execute_result",
          "data": {
            "text/plain": [
              "No        100227\n",
              "Steady      1384\n",
              "Up           110\n",
              "Down          45\n",
              "Name: repaglinide, dtype: int64"
            ]
          },
          "metadata": {},
          "execution_count": 45
        }
      ]
    },
    {
      "cell_type": "code",
      "source": [
        "diabetes_df['nateglinide'].value_counts() #99% No"
      ],
      "metadata": {
        "colab": {
          "base_uri": "https://localhost:8080/"
        },
        "id": "1sGG4XmJsG7v",
        "outputId": "250bc05b-764a-49e6-86df-87a82525bef5"
      },
      "execution_count": 46,
      "outputs": [
        {
          "output_type": "execute_result",
          "data": {
            "text/plain": [
              "No        101063\n",
              "Steady       668\n",
              "Up            24\n",
              "Down          11\n",
              "Name: nateglinide, dtype: int64"
            ]
          },
          "metadata": {},
          "execution_count": 46
        }
      ]
    },
    {
      "cell_type": "code",
      "source": [
        "diabetes_df['chlorpropamide'].value_counts() #100% drop this column"
      ],
      "metadata": {
        "colab": {
          "base_uri": "https://localhost:8080/"
        },
        "id": "lPTo88mAsZlK",
        "outputId": "24a4efe2-ce2e-4c0a-add7-820c1fd58d4b"
      },
      "execution_count": 47,
      "outputs": [
        {
          "output_type": "execute_result",
          "data": {
            "text/plain": [
              "No        101680\n",
              "Steady        79\n",
              "Up             6\n",
              "Down           1\n",
              "Name: chlorpropamide, dtype: int64"
            ]
          },
          "metadata": {},
          "execution_count": 47
        }
      ]
    },
    {
      "cell_type": "code",
      "source": [
        "diabetes_df['glimepiride'].value_counts() #96% No"
      ],
      "metadata": {
        "colab": {
          "base_uri": "https://localhost:8080/"
        },
        "id": "lJvHk5nus7Z5",
        "outputId": "9037a2c3-ddad-450c-b8ae-842e47dd4f4f"
      },
      "execution_count": 48,
      "outputs": [
        {
          "output_type": "execute_result",
          "data": {
            "text/plain": [
              "No        96575\n",
              "Steady     4670\n",
              "Up          327\n",
              "Down        194\n",
              "Name: glimepiride, dtype: int64"
            ]
          },
          "metadata": {},
          "execution_count": 48
        }
      ]
    },
    {
      "cell_type": "code",
      "source": [
        "diabetes_df['acetohexamide'].value_counts() #100% drop this column"
      ],
      "metadata": {
        "colab": {
          "base_uri": "https://localhost:8080/"
        },
        "id": "awwrTlzctFes",
        "outputId": "d995008e-877b-4ef2-d492-d057d1b6b88e"
      },
      "execution_count": 49,
      "outputs": [
        {
          "output_type": "execute_result",
          "data": {
            "text/plain": [
              "No        101765\n",
              "Steady         1\n",
              "Name: acetohexamide, dtype: int64"
            ]
          },
          "metadata": {},
          "execution_count": 49
        }
      ]
    },
    {
      "cell_type": "code",
      "source": [
        "diabetes_df['glipizide'].value_counts() #89% no"
      ],
      "metadata": {
        "colab": {
          "base_uri": "https://localhost:8080/"
        },
        "id": "Ze8ywIFstWk1",
        "outputId": "f45b0ad6-74be-42df-bbe3-5279f17355f9"
      },
      "execution_count": 50,
      "outputs": [
        {
          "output_type": "execute_result",
          "data": {
            "text/plain": [
              "No        89080\n",
              "Steady    11356\n",
              "Up          770\n",
              "Down        560\n",
              "Name: glipizide, dtype: int64"
            ]
          },
          "metadata": {},
          "execution_count": 50
        }
      ]
    },
    {
      "cell_type": "code",
      "source": [
        "diabetes_df['glyburide'].value_counts() #91% no"
      ],
      "metadata": {
        "colab": {
          "base_uri": "https://localhost:8080/"
        },
        "id": "dYoRBPwCtgBJ",
        "outputId": "00edeb5a-2a95-4814-c9c0-ddddfc9b49ec"
      },
      "execution_count": 51,
      "outputs": [
        {
          "output_type": "execute_result",
          "data": {
            "text/plain": [
              "No        91116\n",
              "Steady     9274\n",
              "Up          812\n",
              "Down        564\n",
              "Name: glyburide, dtype: int64"
            ]
          },
          "metadata": {},
          "execution_count": 51
        }
      ]
    },
    {
      "cell_type": "code",
      "source": [
        "diabetes_df['tolbutamide'].value_counts() #100% drop this column"
      ],
      "metadata": {
        "colab": {
          "base_uri": "https://localhost:8080/"
        },
        "id": "H5NU-BEBuBWe",
        "outputId": "6209e467-6da1-459b-f9f8-940d6ecbe9b0"
      },
      "execution_count": 52,
      "outputs": [
        {
          "output_type": "execute_result",
          "data": {
            "text/plain": [
              "No        101743\n",
              "Steady        23\n",
              "Name: tolbutamide, dtype: int64"
            ]
          },
          "metadata": {},
          "execution_count": 52
        }
      ]
    },
    {
      "cell_type": "code",
      "source": [
        "diabetes_df['pioglitazone'].value_counts() #94% No"
      ],
      "metadata": {
        "colab": {
          "base_uri": "https://localhost:8080/"
        },
        "id": "7dCqf2FuuSem",
        "outputId": "e189213a-0dd4-4286-b105-dec220d44d22"
      },
      "execution_count": 53,
      "outputs": [
        {
          "output_type": "execute_result",
          "data": {
            "text/plain": [
              "No        94438\n",
              "Steady     6976\n",
              "Up          234\n",
              "Down        118\n",
              "Name: pioglitazone, dtype: int64"
            ]
          },
          "metadata": {},
          "execution_count": 53
        }
      ]
    },
    {
      "cell_type": "code",
      "source": [
        "diabetes_df['rosiglitazone'].value_counts() #95% No"
      ],
      "metadata": {
        "colab": {
          "base_uri": "https://localhost:8080/"
        },
        "id": "Eq33fE3q2JlI",
        "outputId": "5efe102c-b757-4326-f80c-5d828b2a0f58"
      },
      "execution_count": 63,
      "outputs": [
        {
          "output_type": "execute_result",
          "data": {
            "text/plain": [
              "No        95401\n",
              "Steady     6100\n",
              "Up          178\n",
              "Down         87\n",
              "Name: rosiglitazone, dtype: int64"
            ]
          },
          "metadata": {},
          "execution_count": 63
        }
      ]
    },
    {
      "cell_type": "code",
      "source": [
        "diabetes_df['acarbose'].value_counts() #100% drop this column"
      ],
      "metadata": {
        "colab": {
          "base_uri": "https://localhost:8080/"
        },
        "id": "LFDqxKHl3JKV",
        "outputId": "b1171587-2503-4066-aa4b-83d775e02c93"
      },
      "execution_count": 66,
      "outputs": [
        {
          "output_type": "execute_result",
          "data": {
            "text/plain": [
              "No        101458\n",
              "Steady       295\n",
              "Up            10\n",
              "Down           3\n",
              "Name: acarbose, dtype: int64"
            ]
          },
          "metadata": {},
          "execution_count": 66
        }
      ]
    },
    {
      "cell_type": "code",
      "source": [
        "diabetes_df['miglitol'].value_counts() #100% drop this column"
      ],
      "metadata": {
        "colab": {
          "base_uri": "https://localhost:8080/"
        },
        "id": "rgvGzgdu3r2o",
        "outputId": "90b94630-5317-46ea-d91a-7cc82ce2e7e5"
      },
      "execution_count": 68,
      "outputs": [
        {
          "output_type": "execute_result",
          "data": {
            "text/plain": [
              "No        101728\n",
              "Steady        31\n",
              "Down           5\n",
              "Up             2\n",
              "Name: miglitol, dtype: int64"
            ]
          },
          "metadata": {},
          "execution_count": 68
        }
      ]
    },
    {
      "cell_type": "code",
      "source": [
        "diabetes_df['troglitazone'].value_counts() #100% drop this column"
      ],
      "metadata": {
        "colab": {
          "base_uri": "https://localhost:8080/"
        },
        "id": "0TWtE5QQ4M7s",
        "outputId": "60c92a28-c633-4a86-b68c-6399a18fa4cd"
      },
      "execution_count": 70,
      "outputs": [
        {
          "output_type": "execute_result",
          "data": {
            "text/plain": [
              "No        101763\n",
              "Steady         3\n",
              "Name: troglitazone, dtype: int64"
            ]
          },
          "metadata": {},
          "execution_count": 70
        }
      ]
    },
    {
      "cell_type": "code",
      "source": [
        "diabetes_df['tolazamide'].value_counts() #100% drop this column"
      ],
      "metadata": {
        "colab": {
          "base_uri": "https://localhost:8080/"
        },
        "id": "oIVtO8F54nP5",
        "outputId": "a96098b2-bb88-4b57-eae6-1fc9c87035e2"
      },
      "execution_count": 71,
      "outputs": [
        {
          "output_type": "execute_result",
          "data": {
            "text/plain": [
              "No        101727\n",
              "Steady        38\n",
              "Up             1\n",
              "Name: tolazamide, dtype: int64"
            ]
          },
          "metadata": {},
          "execution_count": 71
        }
      ]
    },
    {
      "cell_type": "code",
      "source": [
        "diabetes_df['examide'].value_counts() #100% drop this column"
      ],
      "metadata": {
        "colab": {
          "base_uri": "https://localhost:8080/"
        },
        "id": "aTvz_h0j5IC4",
        "outputId": "d472d232-66f5-42de-e034-571ff9e5e361"
      },
      "execution_count": 73,
      "outputs": [
        {
          "output_type": "execute_result",
          "data": {
            "text/plain": [
              "No    101766\n",
              "Name: examide, dtype: int64"
            ]
          },
          "metadata": {},
          "execution_count": 73
        }
      ]
    },
    {
      "cell_type": "code",
      "source": [
        "diabetes_df['citoglipton'].value_counts() #100% drop this column"
      ],
      "metadata": {
        "colab": {
          "base_uri": "https://localhost:8080/"
        },
        "id": "rZYK12c55d_Q",
        "outputId": "39171233-482f-4615-ca59-56a5826b6894"
      },
      "execution_count": 74,
      "outputs": [
        {
          "output_type": "execute_result",
          "data": {
            "text/plain": [
              "No    101766\n",
              "Name: citoglipton, dtype: int64"
            ]
          },
          "metadata": {},
          "execution_count": 74
        }
      ]
    },
    {
      "cell_type": "code",
      "source": [
        "diabetes_df['insulin'].value_counts() #47% no"
      ],
      "metadata": {
        "colab": {
          "base_uri": "https://localhost:8080/"
        },
        "id": "ihCR3g_q5xov",
        "outputId": "8c08738b-9673-4159-84ac-ff94494a77fe"
      },
      "execution_count": 75,
      "outputs": [
        {
          "output_type": "execute_result",
          "data": {
            "text/plain": [
              "No        47383\n",
              "Steady    30849\n",
              "Down      12218\n",
              "Up        11316\n",
              "Name: insulin, dtype: int64"
            ]
          },
          "metadata": {},
          "execution_count": 75
        }
      ]
    },
    {
      "cell_type": "code",
      "source": [
        "diabetes_df['glyburide-metformin'].value_counts() #100% drop this column"
      ],
      "metadata": {
        "colab": {
          "base_uri": "https://localhost:8080/"
        },
        "id": "hMHpYV1m55T7",
        "outputId": "cfc030ec-4e4b-413d-f623-e12ace2e7ac5"
      },
      "execution_count": 76,
      "outputs": [
        {
          "output_type": "execute_result",
          "data": {
            "text/plain": [
              "No        101060\n",
              "Steady       692\n",
              "Up             8\n",
              "Down           6\n",
              "Name: glyburide-metformin, dtype: int64"
            ]
          },
          "metadata": {},
          "execution_count": 76
        }
      ]
    },
    {
      "cell_type": "code",
      "source": [
        "diabetes_df['glipizide-metformin'].value_counts() #100% drop this column"
      ],
      "metadata": {
        "colab": {
          "base_uri": "https://localhost:8080/"
        },
        "id": "hwZefMG86Brl",
        "outputId": "02ece0bd-72e9-4629-bede-542d220cb579"
      },
      "execution_count": 77,
      "outputs": [
        {
          "output_type": "execute_result",
          "data": {
            "text/plain": [
              "No        101753\n",
              "Steady        13\n",
              "Name: glipizide-metformin, dtype: int64"
            ]
          },
          "metadata": {},
          "execution_count": 77
        }
      ]
    },
    {
      "cell_type": "code",
      "source": [
        "diabetes_df['glimepiride-pioglitazone'].value_counts() #100% drop this column"
      ],
      "metadata": {
        "colab": {
          "base_uri": "https://localhost:8080/"
        },
        "id": "HcfwxuNB6OOW",
        "outputId": "3dbae1a9-c274-4191-f0c2-a7ee3b34f3ad"
      },
      "execution_count": 78,
      "outputs": [
        {
          "output_type": "execute_result",
          "data": {
            "text/plain": [
              "No        101765\n",
              "Steady         1\n",
              "Name: glimepiride-pioglitazone, dtype: int64"
            ]
          },
          "metadata": {},
          "execution_count": 78
        }
      ]
    },
    {
      "cell_type": "code",
      "source": [
        "diabetes_df['metformin-rosiglitazone'].value_counts() #100% drop this column"
      ],
      "metadata": {
        "colab": {
          "base_uri": "https://localhost:8080/"
        },
        "id": "-O9WvYVB6joy",
        "outputId": "12e01a1c-6d0e-49fb-c5d3-406cd511ddc6"
      },
      "execution_count": 79,
      "outputs": [
        {
          "output_type": "execute_result",
          "data": {
            "text/plain": [
              "No        101764\n",
              "Steady         2\n",
              "Name: metformin-rosiglitazone, dtype: int64"
            ]
          },
          "metadata": {},
          "execution_count": 79
        }
      ]
    },
    {
      "cell_type": "code",
      "source": [
        "diabetes_df['metformin-pioglitazone'].value_counts() #100% drop this column"
      ],
      "metadata": {
        "colab": {
          "base_uri": "https://localhost:8080/"
        },
        "id": "WBd8pr8P6jfc",
        "outputId": "80aa8486-85f0-4371-8434-eb6740b66fac"
      },
      "execution_count": 80,
      "outputs": [
        {
          "output_type": "execute_result",
          "data": {
            "text/plain": [
              "No        101765\n",
              "Steady         1\n",
              "Name: metformin-pioglitazone, dtype: int64"
            ]
          },
          "metadata": {},
          "execution_count": 80
        }
      ]
    },
    {
      "cell_type": "code",
      "source": [
        "diabetes_df['change'].value_counts() # 54% No"
      ],
      "metadata": {
        "colab": {
          "base_uri": "https://localhost:8080/"
        },
        "id": "Nfikj0kW6i9L",
        "outputId": "63131bc7-ba6e-46a1-e074-99ab8d8b8939"
      },
      "execution_count": 81,
      "outputs": [
        {
          "output_type": "execute_result",
          "data": {
            "text/plain": [
              "No    54755\n",
              "Ch    47011\n",
              "Name: change, dtype: int64"
            ]
          },
          "metadata": {},
          "execution_count": 81
        }
      ]
    },
    {
      "cell_type": "code",
      "source": [
        "diabetes_df['diabetesMed'].value_counts() # 78% Yes"
      ],
      "metadata": {
        "colab": {
          "base_uri": "https://localhost:8080/"
        },
        "id": "iQ_HP51L7WUT",
        "outputId": "5870274b-3c3b-4681-feaa-6253712e1d5e"
      },
      "execution_count": 82,
      "outputs": [
        {
          "output_type": "execute_result",
          "data": {
            "text/plain": [
              "Yes    78363\n",
              "No     23403\n",
              "Name: diabetesMed, dtype: int64"
            ]
          },
          "metadata": {},
          "execution_count": 82
        }
      ]
    },
    {
      "cell_type": "code",
      "source": [
        "diabetes_df['readmitted'].value_counts() # 54% No"
      ],
      "metadata": {
        "colab": {
          "base_uri": "https://localhost:8080/"
        },
        "id": "NL7-Mjxn7g-r",
        "outputId": "f1738359-8b67-4f8b-d801-bd7c6381b617"
      },
      "execution_count": 83,
      "outputs": [
        {
          "output_type": "execute_result",
          "data": {
            "text/plain": [
              "NO     54864\n",
              ">30    35545\n",
              "<30    11357\n",
              "Name: readmitted, dtype: int64"
            ]
          },
          "metadata": {},
          "execution_count": 83
        }
      ]
    },
    {
      "cell_type": "markdown",
      "source": [
        "As we can see at least 4 columns with question marks:\n",
        "\n",
        "- 'race', 'weight', 'payer_code', 'medical_specialty'.\n",
        "\n",
        "Some columns should be dropped regarding their low dispersion:\n",
        "\n",
        "- 'chlorpropamide', 'acetohexamide', 'tolbutamide', 'acarbose', 'miglitol', 'troglitazone', 'tolazamide', 'examide', 'citoglipton', 'glyburide-metformin', 'glipizide-metformin', 'glimepiride-pioglitazone', 'metformin-rosiglitazone', 'metformin-pioglitazone'\n",
        "\n"
      ],
      "metadata": {
        "id": "FDp0LoBc8gcD"
      }
    },
    {
      "cell_type": "code",
      "source": [
        "columns_to_drop = [\n",
        " 'chlorpropamide',\n",
        " 'acetohexamide',\n",
        " 'tolbutamide',\n",
        " 'acarbose',\n",
        " 'miglitol',\n",
        " 'troglitazone',\n",
        " 'tolazamide',\n",
        " 'examide',\n",
        " 'citoglipton',\n",
        " 'glyburide-metformin',\n",
        " 'glipizide-metformin',\n",
        " 'glimepiride-pioglitazone',\n",
        " 'metformin-rosiglitazone',\n",
        " 'metformin-pioglitazone'\n",
        " ]\n",
        "#diabetes_df.drop(columns=columns_to_drop, axis = 1, inplace = True)\n",
        "diabetes_df.shape"
      ],
      "metadata": {
        "colab": {
          "base_uri": "https://localhost:8080/"
        },
        "id": "OrmRbdI5GyMM",
        "outputId": "868fc50d-0271-44e6-9b8f-8b91f712ea22"
      },
      "execution_count": 107,
      "outputs": [
        {
          "output_type": "execute_result",
          "data": {
            "text/plain": [
              "(101766, 36)"
            ]
          },
          "metadata": {},
          "execution_count": 107
        }
      ]
    },
    {
      "cell_type": "markdown",
      "source": [
        "In the IDS_mapping.csv file the word \"death\" is not found, however hospitals use the word \"expired\" for patients. Also \"hospice\" is used to address patients with life expectancy of less than 6 months. Therefore,  rows with discharge_disposition_id in (11, 13, 14, 19, 20, 21) will removed from diabetes_df."
      ],
      "metadata": {
        "id": "JlHqmG3vLuMD"
      }
    },
    {
      "cell_type": "code",
      "source": [
        "diabetes_df = diabetes_df[~diabetes_df.discharge_disposition_id.isin([11, 13, 14, 19, 20, 21])]"
      ],
      "metadata": {
        "id": "AdWl3KFRLqWv"
      },
      "execution_count": 108,
      "outputs": []
    },
    {
      "cell_type": "code",
      "source": [
        "diabetes_df.shape"
      ],
      "metadata": {
        "colab": {
          "base_uri": "https://localhost:8080/"
        },
        "id": "X1CBVjAuMYJ6",
        "outputId": "d394b761-f584-4f62-e959-a65311dec416"
      },
      "execution_count": 111,
      "outputs": [
        {
          "output_type": "execute_result",
          "data": {
            "text/plain": [
              "(99343, 36)"
            ]
          },
          "metadata": {},
          "execution_count": 111
        }
      ]
    },
    {
      "cell_type": "code",
      "source": [
        "diabetes_df.head()"
      ],
      "metadata": {
        "colab": {
          "base_uri": "https://localhost:8080/",
          "height": 342
        },
        "id": "zDxKDvK8ObtC",
        "outputId": "23da007b-220c-4f81-fecc-fc1a09a2df0c"
      },
      "execution_count": 112,
      "outputs": [
        {
          "output_type": "execute_result",
          "data": {
            "text/plain": [
              "   encounter_id  patient_nbr             race  gender      age weight  \\\n",
              "0       2278392      8222157        Caucasian  Female   [0-10)      ?   \n",
              "1        149190     55629189        Caucasian  Female  [10-20)      ?   \n",
              "2         64410     86047875  AfricanAmerican  Female  [20-30)      ?   \n",
              "3        500364     82442376        Caucasian    Male  [30-40)      ?   \n",
              "4         16680     42519267        Caucasian    Male  [40-50)      ?   \n",
              "\n",
              "   admission_type_id  discharge_disposition_id  admission_source_id  \\\n",
              "0                  6                        25                    1   \n",
              "1                  1                         1                    7   \n",
              "2                  1                         1                    7   \n",
              "3                  1                         1                    7   \n",
              "4                  1                         1                    7   \n",
              "\n",
              "   time_in_hospital  ... nateglinide glimepiride  glipizide  glyburide  \\\n",
              "0                 1  ...          No          No         No         No   \n",
              "1                 3  ...          No          No         No         No   \n",
              "2                 2  ...          No          No     Steady         No   \n",
              "3                 2  ...          No          No         No         No   \n",
              "4                 1  ...          No          No     Steady         No   \n",
              "\n",
              "   pioglitazone  rosiglitazone  insulin  change diabetesMed readmitted  \n",
              "0            No             No       No      No          No         NO  \n",
              "1            No             No       Up      Ch         Yes        >30  \n",
              "2            No             No       No      No         Yes         NO  \n",
              "3            No             No       Up      Ch         Yes         NO  \n",
              "4            No             No   Steady      Ch         Yes         NO  \n",
              "\n",
              "[5 rows x 36 columns]"
            ],
            "text/html": [
              "\n",
              "  <div id=\"df-e2597fb1-e9b5-468e-bc45-140cc50b0e97\" class=\"colab-df-container\">\n",
              "    <div>\n",
              "<style scoped>\n",
              "    .dataframe tbody tr th:only-of-type {\n",
              "        vertical-align: middle;\n",
              "    }\n",
              "\n",
              "    .dataframe tbody tr th {\n",
              "        vertical-align: top;\n",
              "    }\n",
              "\n",
              "    .dataframe thead th {\n",
              "        text-align: right;\n",
              "    }\n",
              "</style>\n",
              "<table border=\"1\" class=\"dataframe\">\n",
              "  <thead>\n",
              "    <tr style=\"text-align: right;\">\n",
              "      <th></th>\n",
              "      <th>encounter_id</th>\n",
              "      <th>patient_nbr</th>\n",
              "      <th>race</th>\n",
              "      <th>gender</th>\n",
              "      <th>age</th>\n",
              "      <th>weight</th>\n",
              "      <th>admission_type_id</th>\n",
              "      <th>discharge_disposition_id</th>\n",
              "      <th>admission_source_id</th>\n",
              "      <th>time_in_hospital</th>\n",
              "      <th>...</th>\n",
              "      <th>nateglinide</th>\n",
              "      <th>glimepiride</th>\n",
              "      <th>glipizide</th>\n",
              "      <th>glyburide</th>\n",
              "      <th>pioglitazone</th>\n",
              "      <th>rosiglitazone</th>\n",
              "      <th>insulin</th>\n",
              "      <th>change</th>\n",
              "      <th>diabetesMed</th>\n",
              "      <th>readmitted</th>\n",
              "    </tr>\n",
              "  </thead>\n",
              "  <tbody>\n",
              "    <tr>\n",
              "      <th>0</th>\n",
              "      <td>2278392</td>\n",
              "      <td>8222157</td>\n",
              "      <td>Caucasian</td>\n",
              "      <td>Female</td>\n",
              "      <td>[0-10)</td>\n",
              "      <td>?</td>\n",
              "      <td>6</td>\n",
              "      <td>25</td>\n",
              "      <td>1</td>\n",
              "      <td>1</td>\n",
              "      <td>...</td>\n",
              "      <td>No</td>\n",
              "      <td>No</td>\n",
              "      <td>No</td>\n",
              "      <td>No</td>\n",
              "      <td>No</td>\n",
              "      <td>No</td>\n",
              "      <td>No</td>\n",
              "      <td>No</td>\n",
              "      <td>No</td>\n",
              "      <td>NO</td>\n",
              "    </tr>\n",
              "    <tr>\n",
              "      <th>1</th>\n",
              "      <td>149190</td>\n",
              "      <td>55629189</td>\n",
              "      <td>Caucasian</td>\n",
              "      <td>Female</td>\n",
              "      <td>[10-20)</td>\n",
              "      <td>?</td>\n",
              "      <td>1</td>\n",
              "      <td>1</td>\n",
              "      <td>7</td>\n",
              "      <td>3</td>\n",
              "      <td>...</td>\n",
              "      <td>No</td>\n",
              "      <td>No</td>\n",
              "      <td>No</td>\n",
              "      <td>No</td>\n",
              "      <td>No</td>\n",
              "      <td>No</td>\n",
              "      <td>Up</td>\n",
              "      <td>Ch</td>\n",
              "      <td>Yes</td>\n",
              "      <td>&gt;30</td>\n",
              "    </tr>\n",
              "    <tr>\n",
              "      <th>2</th>\n",
              "      <td>64410</td>\n",
              "      <td>86047875</td>\n",
              "      <td>AfricanAmerican</td>\n",
              "      <td>Female</td>\n",
              "      <td>[20-30)</td>\n",
              "      <td>?</td>\n",
              "      <td>1</td>\n",
              "      <td>1</td>\n",
              "      <td>7</td>\n",
              "      <td>2</td>\n",
              "      <td>...</td>\n",
              "      <td>No</td>\n",
              "      <td>No</td>\n",
              "      <td>Steady</td>\n",
              "      <td>No</td>\n",
              "      <td>No</td>\n",
              "      <td>No</td>\n",
              "      <td>No</td>\n",
              "      <td>No</td>\n",
              "      <td>Yes</td>\n",
              "      <td>NO</td>\n",
              "    </tr>\n",
              "    <tr>\n",
              "      <th>3</th>\n",
              "      <td>500364</td>\n",
              "      <td>82442376</td>\n",
              "      <td>Caucasian</td>\n",
              "      <td>Male</td>\n",
              "      <td>[30-40)</td>\n",
              "      <td>?</td>\n",
              "      <td>1</td>\n",
              "      <td>1</td>\n",
              "      <td>7</td>\n",
              "      <td>2</td>\n",
              "      <td>...</td>\n",
              "      <td>No</td>\n",
              "      <td>No</td>\n",
              "      <td>No</td>\n",
              "      <td>No</td>\n",
              "      <td>No</td>\n",
              "      <td>No</td>\n",
              "      <td>Up</td>\n",
              "      <td>Ch</td>\n",
              "      <td>Yes</td>\n",
              "      <td>NO</td>\n",
              "    </tr>\n",
              "    <tr>\n",
              "      <th>4</th>\n",
              "      <td>16680</td>\n",
              "      <td>42519267</td>\n",
              "      <td>Caucasian</td>\n",
              "      <td>Male</td>\n",
              "      <td>[40-50)</td>\n",
              "      <td>?</td>\n",
              "      <td>1</td>\n",
              "      <td>1</td>\n",
              "      <td>7</td>\n",
              "      <td>1</td>\n",
              "      <td>...</td>\n",
              "      <td>No</td>\n",
              "      <td>No</td>\n",
              "      <td>Steady</td>\n",
              "      <td>No</td>\n",
              "      <td>No</td>\n",
              "      <td>No</td>\n",
              "      <td>Steady</td>\n",
              "      <td>Ch</td>\n",
              "      <td>Yes</td>\n",
              "      <td>NO</td>\n",
              "    </tr>\n",
              "  </tbody>\n",
              "</table>\n",
              "<p>5 rows × 36 columns</p>\n",
              "</div>\n",
              "    <div class=\"colab-df-buttons\">\n",
              "\n",
              "  <div class=\"colab-df-container\">\n",
              "    <button class=\"colab-df-convert\" onclick=\"convertToInteractive('df-e2597fb1-e9b5-468e-bc45-140cc50b0e97')\"\n",
              "            title=\"Convert this dataframe to an interactive table.\"\n",
              "            style=\"display:none;\">\n",
              "\n",
              "  <svg xmlns=\"http://www.w3.org/2000/svg\" height=\"24px\" viewBox=\"0 -960 960 960\">\n",
              "    <path d=\"M120-120v-720h720v720H120Zm60-500h600v-160H180v160Zm220 220h160v-160H400v160Zm0 220h160v-160H400v160ZM180-400h160v-160H180v160Zm440 0h160v-160H620v160ZM180-180h160v-160H180v160Zm440 0h160v-160H620v160Z\"/>\n",
              "  </svg>\n",
              "    </button>\n",
              "\n",
              "  <style>\n",
              "    .colab-df-container {\n",
              "      display:flex;\n",
              "      gap: 12px;\n",
              "    }\n",
              "\n",
              "    .colab-df-convert {\n",
              "      background-color: #E8F0FE;\n",
              "      border: none;\n",
              "      border-radius: 50%;\n",
              "      cursor: pointer;\n",
              "      display: none;\n",
              "      fill: #1967D2;\n",
              "      height: 32px;\n",
              "      padding: 0 0 0 0;\n",
              "      width: 32px;\n",
              "    }\n",
              "\n",
              "    .colab-df-convert:hover {\n",
              "      background-color: #E2EBFA;\n",
              "      box-shadow: 0px 1px 2px rgba(60, 64, 67, 0.3), 0px 1px 3px 1px rgba(60, 64, 67, 0.15);\n",
              "      fill: #174EA6;\n",
              "    }\n",
              "\n",
              "    .colab-df-buttons div {\n",
              "      margin-bottom: 4px;\n",
              "    }\n",
              "\n",
              "    [theme=dark] .colab-df-convert {\n",
              "      background-color: #3B4455;\n",
              "      fill: #D2E3FC;\n",
              "    }\n",
              "\n",
              "    [theme=dark] .colab-df-convert:hover {\n",
              "      background-color: #434B5C;\n",
              "      box-shadow: 0px 1px 3px 1px rgba(0, 0, 0, 0.15);\n",
              "      filter: drop-shadow(0px 1px 2px rgba(0, 0, 0, 0.3));\n",
              "      fill: #FFFFFF;\n",
              "    }\n",
              "  </style>\n",
              "\n",
              "    <script>\n",
              "      const buttonEl =\n",
              "        document.querySelector('#df-e2597fb1-e9b5-468e-bc45-140cc50b0e97 button.colab-df-convert');\n",
              "      buttonEl.style.display =\n",
              "        google.colab.kernel.accessAllowed ? 'block' : 'none';\n",
              "\n",
              "      async function convertToInteractive(key) {\n",
              "        const element = document.querySelector('#df-e2597fb1-e9b5-468e-bc45-140cc50b0e97');\n",
              "        const dataTable =\n",
              "          await google.colab.kernel.invokeFunction('convertToInteractive',\n",
              "                                                    [key], {});\n",
              "        if (!dataTable) return;\n",
              "\n",
              "        const docLinkHtml = 'Like what you see? Visit the ' +\n",
              "          '<a target=\"_blank\" href=https://colab.research.google.com/notebooks/data_table.ipynb>data table notebook</a>'\n",
              "          + ' to learn more about interactive tables.';\n",
              "        element.innerHTML = '';\n",
              "        dataTable['output_type'] = 'display_data';\n",
              "        await google.colab.output.renderOutput(dataTable, element);\n",
              "        const docLink = document.createElement('div');\n",
              "        docLink.innerHTML = docLinkHtml;\n",
              "        element.appendChild(docLink);\n",
              "      }\n",
              "    </script>\n",
              "  </div>\n",
              "\n",
              "\n",
              "<div id=\"df-c3c3f3a7-9f06-419a-8c21-c3d531470aee\">\n",
              "  <button class=\"colab-df-quickchart\" onclick=\"quickchart('df-c3c3f3a7-9f06-419a-8c21-c3d531470aee')\"\n",
              "            title=\"Suggest charts.\"\n",
              "            style=\"display:none;\">\n",
              "\n",
              "<svg xmlns=\"http://www.w3.org/2000/svg\" height=\"24px\"viewBox=\"0 0 24 24\"\n",
              "     width=\"24px\">\n",
              "    <g>\n",
              "        <path d=\"M19 3H5c-1.1 0-2 .9-2 2v14c0 1.1.9 2 2 2h14c1.1 0 2-.9 2-2V5c0-1.1-.9-2-2-2zM9 17H7v-7h2v7zm4 0h-2V7h2v10zm4 0h-2v-4h2v4z\"/>\n",
              "    </g>\n",
              "</svg>\n",
              "  </button>\n",
              "\n",
              "<style>\n",
              "  .colab-df-quickchart {\n",
              "    background-color: #E8F0FE;\n",
              "    border: none;\n",
              "    border-radius: 50%;\n",
              "    cursor: pointer;\n",
              "    display: none;\n",
              "    fill: #1967D2;\n",
              "    height: 32px;\n",
              "    padding: 0 0 0 0;\n",
              "    width: 32px;\n",
              "  }\n",
              "\n",
              "  .colab-df-quickchart:hover {\n",
              "    background-color: #E2EBFA;\n",
              "    box-shadow: 0px 1px 2px rgba(60, 64, 67, 0.3), 0px 1px 3px 1px rgba(60, 64, 67, 0.15);\n",
              "    fill: #174EA6;\n",
              "  }\n",
              "\n",
              "  [theme=dark] .colab-df-quickchart {\n",
              "    background-color: #3B4455;\n",
              "    fill: #D2E3FC;\n",
              "  }\n",
              "\n",
              "  [theme=dark] .colab-df-quickchart:hover {\n",
              "    background-color: #434B5C;\n",
              "    box-shadow: 0px 1px 3px 1px rgba(0, 0, 0, 0.15);\n",
              "    filter: drop-shadow(0px 1px 2px rgba(0, 0, 0, 0.3));\n",
              "    fill: #FFFFFF;\n",
              "  }\n",
              "</style>\n",
              "\n",
              "  <script>\n",
              "    async function quickchart(key) {\n",
              "      const charts = await google.colab.kernel.invokeFunction(\n",
              "          'suggestCharts', [key], {});\n",
              "    }\n",
              "    (() => {\n",
              "      let quickchartButtonEl =\n",
              "        document.querySelector('#df-c3c3f3a7-9f06-419a-8c21-c3d531470aee button');\n",
              "      quickchartButtonEl.style.display =\n",
              "        google.colab.kernel.accessAllowed ? 'block' : 'none';\n",
              "    })();\n",
              "  </script>\n",
              "</div>\n",
              "    </div>\n",
              "  </div>\n"
            ]
          },
          "metadata": {},
          "execution_count": 112
        }
      ]
    },
    {
      "cell_type": "markdown",
      "source": [
        "# **2. Feature Engineering**"
      ],
      "metadata": {
        "id": "vXrGFDWl0KRh"
      }
    },
    {
      "cell_type": "code",
      "source": [
        "#Creating a new label for patients readmitted in less than 30 days\n",
        "diabetes_df['label']= (diabetes_df.readmitted == '<30').astype('int')"
      ],
      "metadata": {
        "colab": {
          "base_uri": "https://localhost:8080/"
        },
        "id": "wyGLJ1PrFYKP",
        "outputId": "2a53a7dc-d4fa-4449-b743-01ca4caf2b12"
      },
      "execution_count": 114,
      "outputs": [
        {
          "output_type": "stream",
          "name": "stderr",
          "text": [
            "<ipython-input-114-63d1b4ef0220>:2: SettingWithCopyWarning: \n",
            "A value is trying to be set on a copy of a slice from a DataFrame.\n",
            "Try using .loc[row_indexer,col_indexer] = value instead\n",
            "\n",
            "See the caveats in the documentation: https://pandas.pydata.org/pandas-docs/stable/user_guide/indexing.html#returning-a-view-versus-a-copy\n",
            "  diabetes_df['label']= (diabetes_df.readmitted == '<30').astype('int')\n"
          ]
        }
      ]
    },
    {
      "cell_type": "code",
      "source": [
        "#replacing the question mark (?) for NaN\n",
        "diabetes_df = diabetes_df.replace('?', np.nan)"
      ],
      "metadata": {
        "id": "fo3zZuh8PQbS"
      },
      "execution_count": 117,
      "outputs": []
    },
    {
      "cell_type": "markdown",
      "source": [
        "Numerical columns"
      ],
      "metadata": {
        "id": "z09GoYlERqMT"
      }
    },
    {
      "cell_type": "code",
      "source": [
        "numerical_column_names = [column for column in diabetes_df.columns if diabetes_df[column].dtype == 'int64']\n",
        "numerical_column_names"
      ],
      "metadata": {
        "colab": {
          "base_uri": "https://localhost:8080/"
        },
        "id": "ri3DfEBDQOk-",
        "outputId": "94cd5e6c-831a-4758-d9ae-f73dcfc8b2af"
      },
      "execution_count": 118,
      "outputs": [
        {
          "output_type": "execute_result",
          "data": {
            "text/plain": [
              "['encounter_id',\n",
              " 'patient_nbr',\n",
              " 'admission_type_id',\n",
              " 'discharge_disposition_id',\n",
              " 'admission_source_id',\n",
              " 'time_in_hospital',\n",
              " 'num_lab_procedures',\n",
              " 'num_procedures',\n",
              " 'num_medications',\n",
              " 'number_outpatient',\n",
              " 'number_emergency',\n",
              " 'number_inpatient',\n",
              " 'number_diagnoses',\n",
              " 'label']"
            ]
          },
          "metadata": {},
          "execution_count": 118
        }
      ]
    },
    {
      "cell_type": "markdown",
      "source": [
        "- encounter_id and patient_nbr are identifiers\n",
        "- admission_type_id, discharge_disposition_id, admission_source_id should categorical.\n",
        "\n",
        "Then only the following columns will be considered numerical:\n"
      ],
      "metadata": {
        "id": "MRojKDoHO0lM"
      }
    },
    {
      "cell_type": "code",
      "source": [
        "#final numerical columns\n",
        "numerical_column_names = [\n",
        " 'time_in_hospital',\n",
        " 'num_lab_procedures',\n",
        " 'num_procedures',\n",
        " 'num_medications',\n",
        " 'number_outpatient',\n",
        " 'number_emergency',\n",
        " 'number_inpatient',\n",
        " 'number_diagnoses']"
      ],
      "metadata": {
        "id": "RthQvl0nQ-Tn"
      },
      "execution_count": 119,
      "outputs": []
    },
    {
      "cell_type": "markdown",
      "source": [
        "Categorical columns"
      ],
      "metadata": {
        "id": "XVDhcYNJR2IX"
      }
    },
    {
      "cell_type": "code",
      "source": [
        "#these columns should be not numericals\n",
        "diabetes_df[['admission_type_id', 'discharge_disposition_id', 'admission_source_id']] = diabetes_df[['admission_type_id', 'discharge_disposition_id', 'admission_source_id']].astype('str')"
      ],
      "metadata": {
        "id": "PjdgZryhfB-s"
      },
      "execution_count": 132,
      "outputs": []
    },
    {
      "cell_type": "code",
      "source": [
        "categorical_column_names = [column for column in diabetes_df.columns if diabetes_df[column].dtype == 'object']\n",
        "categorical_column_names"
      ],
      "metadata": {
        "colab": {
          "base_uri": "https://localhost:8080/"
        },
        "id": "0wN1LzlvSEbs",
        "outputId": "6206c658-425d-4d59-b8f5-5e7b47326628"
      },
      "execution_count": 133,
      "outputs": [
        {
          "output_type": "execute_result",
          "data": {
            "text/plain": [
              "['race',\n",
              " 'gender',\n",
              " 'age',\n",
              " 'weight',\n",
              " 'admission_type_id',\n",
              " 'discharge_disposition_id',\n",
              " 'admission_source_id',\n",
              " 'payer_code',\n",
              " 'medical_specialty',\n",
              " 'diag_1',\n",
              " 'diag_2',\n",
              " 'diag_3',\n",
              " 'max_glu_serum',\n",
              " 'A1Cresult',\n",
              " 'metformin',\n",
              " 'repaglinide',\n",
              " 'nateglinide',\n",
              " 'glimepiride',\n",
              " 'glipizide',\n",
              " 'glyburide',\n",
              " 'pioglitazone',\n",
              " 'rosiglitazone',\n",
              " 'insulin',\n",
              " 'change',\n",
              " 'diabetesMed',\n",
              " 'readmitted',\n",
              " 'med_sp']"
            ]
          },
          "metadata": {},
          "execution_count": 133
        }
      ]
    },
    {
      "cell_type": "markdown",
      "source": [
        "- 'medical_specialty', 'age' and 'weight' will be analyzed later since there are 73 different specialties and age and weight in this dataset are categorical.\n",
        "- Given the dispersion of 'diag_1', 'diag_2', 'diag_3' they will be dropped, however the variable number_diagnoses might summarizes the previos three variables.\n",
        "- 'readmitted' is no longer necessary\n",
        "\n",
        "The first group of categorical columns will be"
      ],
      "metadata": {
        "id": "ycVKN730VjKc"
      }
    },
    {
      "cell_type": "code",
      "source": [
        "cat_columns_1 = ['race',\n",
        " 'gender',\n",
        " 'payer_code',\n",
        " 'max_glu_serum',\n",
        " 'A1Cresult',\n",
        " 'metformin',\n",
        " 'repaglinide',\n",
        " 'nateglinide',\n",
        " 'glimepiride',\n",
        " 'glipizide',\n",
        " 'glyburide',\n",
        " 'pioglitazone',\n",
        " 'rosiglitazone',\n",
        " 'insulin',\n",
        " 'change',\n",
        " 'diabetesMed']"
      ],
      "metadata": {
        "id": "QxMgNZA2Xck_"
      },
      "execution_count": 121,
      "outputs": []
    },
    {
      "cell_type": "code",
      "source": [
        "#dealing with missing data in race, payer_code and medical_speciality\n",
        "diabetes_df['race'] = diabetes_df['race'].fillna('NA')\n",
        "diabetes_df['payer_code'] = diabetes_df['payer_code'].fillna('NA')\n",
        "diabetes_df['medical_specialty'] = diabetes_df['medical_specialty'].fillna('NA')"
      ],
      "metadata": {
        "id": "y3-OzQlFXuYN"
      },
      "execution_count": 122,
      "outputs": []
    },
    {
      "cell_type": "markdown",
      "source": [
        "As we have seen in the EDA stage, medical_specialty has 73 different type of values, where almost 50% were marked with \"?\" (now 'NA'). We can group this columns in its top 5 most representative specialties beside 'NA':"
      ],
      "metadata": {
        "id": "Yq1ORDAhZE1d"
      }
    },
    {
      "cell_type": "code",
      "source": [
        "diabetes_df.groupby('medical_specialty').size().sort_values(ascending = False).head(7)\n",
        "#observe that the 6th (beside NA) would be Nephrology with 1.5K cases over 101K"
      ],
      "metadata": {
        "colab": {
          "base_uri": "https://localhost:8080/"
        },
        "id": "InLicRMoaFLb",
        "outputId": "29612777-31b4-4266-9635-4c46a549bed6"
      },
      "execution_count": 129,
      "outputs": [
        {
          "output_type": "execute_result",
          "data": {
            "text/plain": [
              "medical_specialty\n",
              "NA                        48616\n",
              "InternalMedicine          14237\n",
              "Emergency/Trauma           7419\n",
              "Family/GeneralPractice     7252\n",
              "Cardiology                 5279\n",
              "Surgery-General            3059\n",
              "Nephrology                 1539\n",
              "dtype: int64"
            ]
          },
          "metadata": {},
          "execution_count": 129
        }
      ]
    },
    {
      "cell_type": "code",
      "source": [
        "#final medical_specialties\n",
        "top_6 = ['NA', 'InternalMedicine', 'Emergency/Trauma', 'Family/GeneralPractice', 'Cardiology', 'Surgery-General'] #top 5 besides NA\n",
        "diabetes_df ['med_sp'] = diabetes_df['medical_specialty'].copy()\n",
        "#calling 'other' to specialties that are not in top 6\n",
        "diabetes_df.loc[~diabetes_df.med_sp.isin(top_6),'med_sp'] = 'other'\n"
      ],
      "metadata": {
        "id": "EvKmTNOHbGWt"
      },
      "execution_count": 130,
      "outputs": []
    },
    {
      "cell_type": "code",
      "source": [
        "cat_columns_2 = ['admission_type_id', 'discharge_disposition_id', 'admission_source_id']"
      ],
      "metadata": {
        "id": "1OOFldq7dCmq"
      },
      "execution_count": 134,
      "outputs": []
    },
    {
      "cell_type": "markdown",
      "source": [
        "One-hot encoding"
      ],
      "metadata": {
        "id": "tOd5gzQQgpLl"
      }
    },
    {
      "cell_type": "code",
      "source": [
        "df_cat = pd.get_dummies(diabetes_df[cat_columns_1+cat_columns_2+['med_sp']], drop_first= True)\n",
        "#droping a column in other to avoid correlated columns\n",
        "df_cat.head()"
      ],
      "metadata": {
        "colab": {
          "base_uri": "https://localhost:8080/",
          "height": 273
        },
        "id": "-axjePjNgshA",
        "outputId": "352d1f35-bc5c-4e96-9d1a-a2f73e4e8ebe"
      },
      "execution_count": 135,
      "outputs": [
        {
          "output_type": "execute_result",
          "data": {
            "text/plain": [
              "   race_Asian  race_Caucasian  race_Hispanic  race_NA  race_Other  \\\n",
              "0           0               1              0        0           0   \n",
              "1           0               1              0        0           0   \n",
              "2           0               0              0        0           0   \n",
              "3           0               1              0        0           0   \n",
              "4           0               1              0        0           0   \n",
              "\n",
              "   gender_Male  gender_Unknown/Invalid  payer_code_CH  payer_code_CM  \\\n",
              "0            0                       0              0              0   \n",
              "1            0                       0              0              0   \n",
              "2            0                       0              0              0   \n",
              "3            1                       0              0              0   \n",
              "4            1                       0              0              0   \n",
              "\n",
              "   payer_code_CP  ...  admission_source_id_6  admission_source_id_7  \\\n",
              "0              0  ...                      0                      0   \n",
              "1              0  ...                      0                      1   \n",
              "2              0  ...                      0                      1   \n",
              "3              0  ...                      0                      1   \n",
              "4              0  ...                      0                      1   \n",
              "\n",
              "   admission_source_id_8  admission_source_id_9  med_sp_Emergency/Trauma  \\\n",
              "0                      0                      0                        0   \n",
              "1                      0                      0                        0   \n",
              "2                      0                      0                        0   \n",
              "3                      0                      0                        0   \n",
              "4                      0                      0                        0   \n",
              "\n",
              "   med_sp_Family/GeneralPractice  med_sp_InternalMedicine  med_sp_NA  \\\n",
              "0                              0                        0          0   \n",
              "1                              0                        0          1   \n",
              "2                              0                        0          1   \n",
              "3                              0                        0          1   \n",
              "4                              0                        0          1   \n",
              "\n",
              "   med_sp_Surgery-General  med_sp_other  \n",
              "0                       0             1  \n",
              "1                       0             0  \n",
              "2                       0             0  \n",
              "3                       0             0  \n",
              "4                       0             0  \n",
              "\n",
              "[5 rows x 108 columns]"
            ],
            "text/html": [
              "\n",
              "  <div id=\"df-9631b140-b384-43d8-b0f9-5e5360fe304b\" class=\"colab-df-container\">\n",
              "    <div>\n",
              "<style scoped>\n",
              "    .dataframe tbody tr th:only-of-type {\n",
              "        vertical-align: middle;\n",
              "    }\n",
              "\n",
              "    .dataframe tbody tr th {\n",
              "        vertical-align: top;\n",
              "    }\n",
              "\n",
              "    .dataframe thead th {\n",
              "        text-align: right;\n",
              "    }\n",
              "</style>\n",
              "<table border=\"1\" class=\"dataframe\">\n",
              "  <thead>\n",
              "    <tr style=\"text-align: right;\">\n",
              "      <th></th>\n",
              "      <th>race_Asian</th>\n",
              "      <th>race_Caucasian</th>\n",
              "      <th>race_Hispanic</th>\n",
              "      <th>race_NA</th>\n",
              "      <th>race_Other</th>\n",
              "      <th>gender_Male</th>\n",
              "      <th>gender_Unknown/Invalid</th>\n",
              "      <th>payer_code_CH</th>\n",
              "      <th>payer_code_CM</th>\n",
              "      <th>payer_code_CP</th>\n",
              "      <th>...</th>\n",
              "      <th>admission_source_id_6</th>\n",
              "      <th>admission_source_id_7</th>\n",
              "      <th>admission_source_id_8</th>\n",
              "      <th>admission_source_id_9</th>\n",
              "      <th>med_sp_Emergency/Trauma</th>\n",
              "      <th>med_sp_Family/GeneralPractice</th>\n",
              "      <th>med_sp_InternalMedicine</th>\n",
              "      <th>med_sp_NA</th>\n",
              "      <th>med_sp_Surgery-General</th>\n",
              "      <th>med_sp_other</th>\n",
              "    </tr>\n",
              "  </thead>\n",
              "  <tbody>\n",
              "    <tr>\n",
              "      <th>0</th>\n",
              "      <td>0</td>\n",
              "      <td>1</td>\n",
              "      <td>0</td>\n",
              "      <td>0</td>\n",
              "      <td>0</td>\n",
              "      <td>0</td>\n",
              "      <td>0</td>\n",
              "      <td>0</td>\n",
              "      <td>0</td>\n",
              "      <td>0</td>\n",
              "      <td>...</td>\n",
              "      <td>0</td>\n",
              "      <td>0</td>\n",
              "      <td>0</td>\n",
              "      <td>0</td>\n",
              "      <td>0</td>\n",
              "      <td>0</td>\n",
              "      <td>0</td>\n",
              "      <td>0</td>\n",
              "      <td>0</td>\n",
              "      <td>1</td>\n",
              "    </tr>\n",
              "    <tr>\n",
              "      <th>1</th>\n",
              "      <td>0</td>\n",
              "      <td>1</td>\n",
              "      <td>0</td>\n",
              "      <td>0</td>\n",
              "      <td>0</td>\n",
              "      <td>0</td>\n",
              "      <td>0</td>\n",
              "      <td>0</td>\n",
              "      <td>0</td>\n",
              "      <td>0</td>\n",
              "      <td>...</td>\n",
              "      <td>0</td>\n",
              "      <td>1</td>\n",
              "      <td>0</td>\n",
              "      <td>0</td>\n",
              "      <td>0</td>\n",
              "      <td>0</td>\n",
              "      <td>0</td>\n",
              "      <td>1</td>\n",
              "      <td>0</td>\n",
              "      <td>0</td>\n",
              "    </tr>\n",
              "    <tr>\n",
              "      <th>2</th>\n",
              "      <td>0</td>\n",
              "      <td>0</td>\n",
              "      <td>0</td>\n",
              "      <td>0</td>\n",
              "      <td>0</td>\n",
              "      <td>0</td>\n",
              "      <td>0</td>\n",
              "      <td>0</td>\n",
              "      <td>0</td>\n",
              "      <td>0</td>\n",
              "      <td>...</td>\n",
              "      <td>0</td>\n",
              "      <td>1</td>\n",
              "      <td>0</td>\n",
              "      <td>0</td>\n",
              "      <td>0</td>\n",
              "      <td>0</td>\n",
              "      <td>0</td>\n",
              "      <td>1</td>\n",
              "      <td>0</td>\n",
              "      <td>0</td>\n",
              "    </tr>\n",
              "    <tr>\n",
              "      <th>3</th>\n",
              "      <td>0</td>\n",
              "      <td>1</td>\n",
              "      <td>0</td>\n",
              "      <td>0</td>\n",
              "      <td>0</td>\n",
              "      <td>1</td>\n",
              "      <td>0</td>\n",
              "      <td>0</td>\n",
              "      <td>0</td>\n",
              "      <td>0</td>\n",
              "      <td>...</td>\n",
              "      <td>0</td>\n",
              "      <td>1</td>\n",
              "      <td>0</td>\n",
              "      <td>0</td>\n",
              "      <td>0</td>\n",
              "      <td>0</td>\n",
              "      <td>0</td>\n",
              "      <td>1</td>\n",
              "      <td>0</td>\n",
              "      <td>0</td>\n",
              "    </tr>\n",
              "    <tr>\n",
              "      <th>4</th>\n",
              "      <td>0</td>\n",
              "      <td>1</td>\n",
              "      <td>0</td>\n",
              "      <td>0</td>\n",
              "      <td>0</td>\n",
              "      <td>1</td>\n",
              "      <td>0</td>\n",
              "      <td>0</td>\n",
              "      <td>0</td>\n",
              "      <td>0</td>\n",
              "      <td>...</td>\n",
              "      <td>0</td>\n",
              "      <td>1</td>\n",
              "      <td>0</td>\n",
              "      <td>0</td>\n",
              "      <td>0</td>\n",
              "      <td>0</td>\n",
              "      <td>0</td>\n",
              "      <td>1</td>\n",
              "      <td>0</td>\n",
              "      <td>0</td>\n",
              "    </tr>\n",
              "  </tbody>\n",
              "</table>\n",
              "<p>5 rows × 108 columns</p>\n",
              "</div>\n",
              "    <div class=\"colab-df-buttons\">\n",
              "\n",
              "  <div class=\"colab-df-container\">\n",
              "    <button class=\"colab-df-convert\" onclick=\"convertToInteractive('df-9631b140-b384-43d8-b0f9-5e5360fe304b')\"\n",
              "            title=\"Convert this dataframe to an interactive table.\"\n",
              "            style=\"display:none;\">\n",
              "\n",
              "  <svg xmlns=\"http://www.w3.org/2000/svg\" height=\"24px\" viewBox=\"0 -960 960 960\">\n",
              "    <path d=\"M120-120v-720h720v720H120Zm60-500h600v-160H180v160Zm220 220h160v-160H400v160Zm0 220h160v-160H400v160ZM180-400h160v-160H180v160Zm440 0h160v-160H620v160ZM180-180h160v-160H180v160Zm440 0h160v-160H620v160Z\"/>\n",
              "  </svg>\n",
              "    </button>\n",
              "\n",
              "  <style>\n",
              "    .colab-df-container {\n",
              "      display:flex;\n",
              "      gap: 12px;\n",
              "    }\n",
              "\n",
              "    .colab-df-convert {\n",
              "      background-color: #E8F0FE;\n",
              "      border: none;\n",
              "      border-radius: 50%;\n",
              "      cursor: pointer;\n",
              "      display: none;\n",
              "      fill: #1967D2;\n",
              "      height: 32px;\n",
              "      padding: 0 0 0 0;\n",
              "      width: 32px;\n",
              "    }\n",
              "\n",
              "    .colab-df-convert:hover {\n",
              "      background-color: #E2EBFA;\n",
              "      box-shadow: 0px 1px 2px rgba(60, 64, 67, 0.3), 0px 1px 3px 1px rgba(60, 64, 67, 0.15);\n",
              "      fill: #174EA6;\n",
              "    }\n",
              "\n",
              "    .colab-df-buttons div {\n",
              "      margin-bottom: 4px;\n",
              "    }\n",
              "\n",
              "    [theme=dark] .colab-df-convert {\n",
              "      background-color: #3B4455;\n",
              "      fill: #D2E3FC;\n",
              "    }\n",
              "\n",
              "    [theme=dark] .colab-df-convert:hover {\n",
              "      background-color: #434B5C;\n",
              "      box-shadow: 0px 1px 3px 1px rgba(0, 0, 0, 0.15);\n",
              "      filter: drop-shadow(0px 1px 2px rgba(0, 0, 0, 0.3));\n",
              "      fill: #FFFFFF;\n",
              "    }\n",
              "  </style>\n",
              "\n",
              "    <script>\n",
              "      const buttonEl =\n",
              "        document.querySelector('#df-9631b140-b384-43d8-b0f9-5e5360fe304b button.colab-df-convert');\n",
              "      buttonEl.style.display =\n",
              "        google.colab.kernel.accessAllowed ? 'block' : 'none';\n",
              "\n",
              "      async function convertToInteractive(key) {\n",
              "        const element = document.querySelector('#df-9631b140-b384-43d8-b0f9-5e5360fe304b');\n",
              "        const dataTable =\n",
              "          await google.colab.kernel.invokeFunction('convertToInteractive',\n",
              "                                                    [key], {});\n",
              "        if (!dataTable) return;\n",
              "\n",
              "        const docLinkHtml = 'Like what you see? Visit the ' +\n",
              "          '<a target=\"_blank\" href=https://colab.research.google.com/notebooks/data_table.ipynb>data table notebook</a>'\n",
              "          + ' to learn more about interactive tables.';\n",
              "        element.innerHTML = '';\n",
              "        dataTable['output_type'] = 'display_data';\n",
              "        await google.colab.output.renderOutput(dataTable, element);\n",
              "        const docLink = document.createElement('div');\n",
              "        docLink.innerHTML = docLinkHtml;\n",
              "        element.appendChild(docLink);\n",
              "      }\n",
              "    </script>\n",
              "  </div>\n",
              "\n",
              "\n",
              "<div id=\"df-d525e177-a65d-46b5-b047-4ec2c81367ec\">\n",
              "  <button class=\"colab-df-quickchart\" onclick=\"quickchart('df-d525e177-a65d-46b5-b047-4ec2c81367ec')\"\n",
              "            title=\"Suggest charts.\"\n",
              "            style=\"display:none;\">\n",
              "\n",
              "<svg xmlns=\"http://www.w3.org/2000/svg\" height=\"24px\"viewBox=\"0 0 24 24\"\n",
              "     width=\"24px\">\n",
              "    <g>\n",
              "        <path d=\"M19 3H5c-1.1 0-2 .9-2 2v14c0 1.1.9 2 2 2h14c1.1 0 2-.9 2-2V5c0-1.1-.9-2-2-2zM9 17H7v-7h2v7zm4 0h-2V7h2v10zm4 0h-2v-4h2v4z\"/>\n",
              "    </g>\n",
              "</svg>\n",
              "  </button>\n",
              "\n",
              "<style>\n",
              "  .colab-df-quickchart {\n",
              "    background-color: #E8F0FE;\n",
              "    border: none;\n",
              "    border-radius: 50%;\n",
              "    cursor: pointer;\n",
              "    display: none;\n",
              "    fill: #1967D2;\n",
              "    height: 32px;\n",
              "    padding: 0 0 0 0;\n",
              "    width: 32px;\n",
              "  }\n",
              "\n",
              "  .colab-df-quickchart:hover {\n",
              "    background-color: #E2EBFA;\n",
              "    box-shadow: 0px 1px 2px rgba(60, 64, 67, 0.3), 0px 1px 3px 1px rgba(60, 64, 67, 0.15);\n",
              "    fill: #174EA6;\n",
              "  }\n",
              "\n",
              "  [theme=dark] .colab-df-quickchart {\n",
              "    background-color: #3B4455;\n",
              "    fill: #D2E3FC;\n",
              "  }\n",
              "\n",
              "  [theme=dark] .colab-df-quickchart:hover {\n",
              "    background-color: #434B5C;\n",
              "    box-shadow: 0px 1px 3px 1px rgba(0, 0, 0, 0.15);\n",
              "    filter: drop-shadow(0px 1px 2px rgba(0, 0, 0, 0.3));\n",
              "    fill: #FFFFFF;\n",
              "  }\n",
              "</style>\n",
              "\n",
              "  <script>\n",
              "    async function quickchart(key) {\n",
              "      const charts = await google.colab.kernel.invokeFunction(\n",
              "          'suggestCharts', [key], {});\n",
              "    }\n",
              "    (() => {\n",
              "      let quickchartButtonEl =\n",
              "        document.querySelector('#df-d525e177-a65d-46b5-b047-4ec2c81367ec button');\n",
              "      quickchartButtonEl.style.display =\n",
              "        google.colab.kernel.accessAllowed ? 'block' : 'none';\n",
              "    })();\n",
              "  </script>\n",
              "</div>\n",
              "    </div>\n",
              "  </div>\n"
            ]
          },
          "metadata": {},
          "execution_count": 135
        }
      ]
    },
    {
      "cell_type": "code",
      "source": [
        "diabetes_df = pd.concat([diabetes_df, df_cat], axis = 1)"
      ],
      "metadata": {
        "id": "ij_HNhARhb9U"
      },
      "execution_count": 141,
      "outputs": []
    },
    {
      "cell_type": "markdown",
      "source": [
        "Column age"
      ],
      "metadata": {
        "id": "LZu2RDngi-lA"
      }
    },
    {
      "cell_type": "code",
      "source": [
        "#This column does not have null values\n",
        "#[70-80)     26068\n",
        "#[60-70)     22483\n",
        "#[50-60)     17256\n",
        "#[80-90)     17197\n",
        "#[40-50)      9685\n",
        "#[30-40)      3775\n",
        "#[90-100)     2793\n",
        "#[20-30)      1657\n",
        "#[10-20)       691\n",
        "#[0-10)        161\n",
        "#One way to deal with this non-numerical column is to map the age ranges to it middle point, that is [0-10) to 5, [20-30] to 25 and so on.\n",
        "age_map = {'[70-80)': 75,'[60-70)':65,'[50-60)': 55, '[80-90)':85, '[40-50)':45, '[30-40)':35, '[90-100)':95, '[20-30)':25, '[10-20)':15, '[0-10)':5}\n",
        "\n",
        "diabetes_df['age_map'] = diabetes_df.age.replace(age_map)"
      ],
      "metadata": {
        "id": "ooNyBapTi9tY"
      },
      "execution_count": 154,
      "outputs": []
    },
    {
      "cell_type": "markdown",
      "source": [
        "Column weight"
      ],
      "metadata": {
        "id": "LwiIv23-lcfX"
      }
    },
    {
      "cell_type": "code",
      "source": [
        "#In the EDA stage we have seen that 98% of the patients have this information as null\n",
        "#a yes/no variable can be created: 'yes' we have info about patient's weight\n",
        "#it is known that weight is correlated with diabetes so this column should not be dropped\n",
        "\n",
        "diabetes_df['weight_info']= diabetes_df.weight.notnull().astype('int')"
      ],
      "metadata": {
        "id": "FNMbj-4VlW6G"
      },
      "execution_count": 138,
      "outputs": []
    },
    {
      "cell_type": "code",
      "source": [
        "#total of columns: numerical_column_names, df_cat.columns, 'age_map', 'weight_info', 'label\n",
        "#cat = df_cat.columns\n",
        "extras = ['age_map', 'weight_info', 'label']\n",
        "diabetes_final = diabetes_df[numerical_column_names+list(cat)+extras]"
      ],
      "metadata": {
        "id": "Vt1mMm2NntIK"
      },
      "execution_count": 169,
      "outputs": []
    },
    {
      "cell_type": "code",
      "source": [
        "diabetes_final.shape"
      ],
      "metadata": {
        "colab": {
          "base_uri": "https://localhost:8080/"
        },
        "id": "z02w0eJ6tQo9",
        "outputId": "5866b120-0ad7-499b-b4cd-c5724b070d7d"
      },
      "execution_count": 170,
      "outputs": [
        {
          "output_type": "execute_result",
          "data": {
            "text/plain": [
              "(99343, 119)"
            ]
          },
          "metadata": {},
          "execution_count": 170
        }
      ]
    },
    {
      "cell_type": "markdown",
      "source": [
        "# **Training and test samples**"
      ],
      "metadata": {
        "id": "Fz7LxmrGt3Gr"
      }
    },
    {
      "cell_type": "markdown",
      "source": [
        "Since the dataset is imbalanced (more negatives (0) than positives (1)), we"
      ],
      "metadata": {
        "id": "GllCT9AlvKTs"
      }
    },
    {
      "cell_type": "code",
      "source": [],
      "metadata": {
        "id": "XKmTnvK_taTu"
      },
      "execution_count": null,
      "outputs": []
    },
    {
      "cell_type": "code",
      "source": [],
      "metadata": {
        "id": "FyjVft1etXsg"
      },
      "execution_count": null,
      "outputs": []
    },
    {
      "cell_type": "code",
      "source": [],
      "metadata": {
        "id": "31HYqGA8scp-"
      },
      "execution_count": null,
      "outputs": []
    },
    {
      "cell_type": "code",
      "source": [],
      "metadata": {
        "id": "FgJLsWEhr9mw"
      },
      "execution_count": null,
      "outputs": []
    }
  ]
}